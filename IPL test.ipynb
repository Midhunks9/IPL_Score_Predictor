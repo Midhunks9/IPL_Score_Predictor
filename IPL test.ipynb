{
 "cells": [
  {
   "cell_type": "code",
   "execution_count": 8,
   "metadata": {},
   "outputs": [],
   "source": [
    "import numpy as np\n",
    "import pandas as pd\n",
    "import matplotlib.pyplot as plt\n",
    "import seaborn as sns\n",
    "from sklearn.linear_model import LogisticRegression\n",
    "from sklearn.linear_model import LinearRegression\n",
    "from sklearn.preprocessing import LabelEncoder\n",
    "from sklearn.model_selection import train_test_split\n",
    "import joblib"
   ]
  },
  {
   "cell_type": "markdown",
   "metadata": {},
   "source": [
    "# Preproccessing \n"
   ]
  },
  {
   "cell_type": "code",
   "execution_count": 2,
   "metadata": {},
   "outputs": [
    {
     "name": "stdout",
     "output_type": "stream",
     "text": [
      "C:\\Users\\user\\Documents\\Hackathon\n"
     ]
    },
    {
     "data": {
      "text/plain": [
       "'C:\\\\Users\\\\user\\\\Documents\\\\Hackathon'"
      ]
     },
     "execution_count": 2,
     "metadata": {},
     "output_type": "execute_result"
    }
   ],
   "source": [
    "%cd C:\\Users\\user\\Documents\\Hackathon\n",
    "%pwd"
   ]
  },
  {
   "cell_type": "code",
   "execution_count": 9,
   "metadata": {},
   "outputs": [],
   "source": [
    "rel_col=['match_id','venue','innings','ball','batting_team','bowling_team','striker','bowler','runs_off_bat','extras']"
   ]
  },
  {
   "cell_type": "code",
   "execution_count": 10,
   "metadata": {},
   "outputs": [],
   "source": [
    "#df = pd.read_csv(\"../Hackathon/Dataset/335982.csv\",usecols=rel_col)"
   ]
  },
  {
   "cell_type": "code",
   "execution_count": 11,
   "metadata": {},
   "outputs": [],
   "source": [
    "df = pd.read_csv(\"all_matches.csv\",usecols=rel_col)"
   ]
  },
  {
   "cell_type": "code",
   "execution_count": 33,
   "metadata": {},
   "outputs": [],
   "source": [
    "#df = pd.read_csv(\"../Hackathon/Modi.csv\",usecols=rel_col)"
   ]
  },
  {
   "cell_type": "code",
   "execution_count": 253,
   "metadata": {},
   "outputs": [],
   "source": [
    "#df = pd.read_csv(\"../Hackathon/Dataset/335982.csv\")"
   ]
  },
  {
   "cell_type": "code",
   "execution_count": 6,
   "metadata": {},
   "outputs": [
    {
     "data": {
      "text/plain": [
       "(200080, 10)"
      ]
     },
     "execution_count": 6,
     "metadata": {},
     "output_type": "execute_result"
    }
   ],
   "source": [
    "df.shape"
   ]
  },
  {
   "cell_type": "code",
   "execution_count": 74,
   "metadata": {
    "scrolled": false
   },
   "outputs": [
    {
     "data": {
      "text/html": [
       "<div>\n",
       "<style scoped>\n",
       "    .dataframe tbody tr th:only-of-type {\n",
       "        vertical-align: middle;\n",
       "    }\n",
       "\n",
       "    .dataframe tbody tr th {\n",
       "        vertical-align: top;\n",
       "    }\n",
       "\n",
       "    .dataframe thead th {\n",
       "        text-align: right;\n",
       "    }\n",
       "</style>\n",
       "<table border=\"1\" class=\"dataframe\">\n",
       "  <thead>\n",
       "    <tr style=\"text-align: right;\">\n",
       "      <th></th>\n",
       "      <th>match_id</th>\n",
       "      <th>venue</th>\n",
       "      <th>innings</th>\n",
       "      <th>ball</th>\n",
       "      <th>batting_team</th>\n",
       "      <th>bowling_team</th>\n",
       "      <th>striker</th>\n",
       "      <th>bowler</th>\n",
       "      <th>runs_off_bat</th>\n",
       "      <th>extras</th>\n",
       "    </tr>\n",
       "  </thead>\n",
       "  <tbody>\n",
       "    <tr>\n",
       "      <th>0</th>\n",
       "      <td>335982</td>\n",
       "      <td>M Chinnaswamy Stadium</td>\n",
       "      <td>1</td>\n",
       "      <td>0.1</td>\n",
       "      <td>Kolkata Knight Riders</td>\n",
       "      <td>Royal Challengers Bangalore</td>\n",
       "      <td>SC Ganguly</td>\n",
       "      <td>P Kumar</td>\n",
       "      <td>0</td>\n",
       "      <td>1</td>\n",
       "    </tr>\n",
       "    <tr>\n",
       "      <th>1</th>\n",
       "      <td>335982</td>\n",
       "      <td>M Chinnaswamy Stadium</td>\n",
       "      <td>1</td>\n",
       "      <td>0.2</td>\n",
       "      <td>Kolkata Knight Riders</td>\n",
       "      <td>Royal Challengers Bangalore</td>\n",
       "      <td>BB McCullum</td>\n",
       "      <td>P Kumar</td>\n",
       "      <td>0</td>\n",
       "      <td>0</td>\n",
       "    </tr>\n",
       "    <tr>\n",
       "      <th>2</th>\n",
       "      <td>335982</td>\n",
       "      <td>M Chinnaswamy Stadium</td>\n",
       "      <td>1</td>\n",
       "      <td>0.3</td>\n",
       "      <td>Kolkata Knight Riders</td>\n",
       "      <td>Royal Challengers Bangalore</td>\n",
       "      <td>BB McCullum</td>\n",
       "      <td>P Kumar</td>\n",
       "      <td>0</td>\n",
       "      <td>1</td>\n",
       "    </tr>\n",
       "    <tr>\n",
       "      <th>3</th>\n",
       "      <td>335982</td>\n",
       "      <td>M Chinnaswamy Stadium</td>\n",
       "      <td>1</td>\n",
       "      <td>0.4</td>\n",
       "      <td>Kolkata Knight Riders</td>\n",
       "      <td>Royal Challengers Bangalore</td>\n",
       "      <td>BB McCullum</td>\n",
       "      <td>P Kumar</td>\n",
       "      <td>0</td>\n",
       "      <td>0</td>\n",
       "    </tr>\n",
       "    <tr>\n",
       "      <th>4</th>\n",
       "      <td>335982</td>\n",
       "      <td>M Chinnaswamy Stadium</td>\n",
       "      <td>1</td>\n",
       "      <td>0.5</td>\n",
       "      <td>Kolkata Knight Riders</td>\n",
       "      <td>Royal Challengers Bangalore</td>\n",
       "      <td>BB McCullum</td>\n",
       "      <td>P Kumar</td>\n",
       "      <td>0</td>\n",
       "      <td>0</td>\n",
       "    </tr>\n",
       "  </tbody>\n",
       "</table>\n",
       "</div>"
      ],
      "text/plain": [
       "   match_id                  venue  innings  ball           batting_team  \\\n",
       "0    335982  M Chinnaswamy Stadium        1   0.1  Kolkata Knight Riders   \n",
       "1    335982  M Chinnaswamy Stadium        1   0.2  Kolkata Knight Riders   \n",
       "2    335982  M Chinnaswamy Stadium        1   0.3  Kolkata Knight Riders   \n",
       "3    335982  M Chinnaswamy Stadium        1   0.4  Kolkata Knight Riders   \n",
       "4    335982  M Chinnaswamy Stadium        1   0.5  Kolkata Knight Riders   \n",
       "\n",
       "                  bowling_team      striker   bowler  runs_off_bat  extras  \n",
       "0  Royal Challengers Bangalore   SC Ganguly  P Kumar             0       1  \n",
       "1  Royal Challengers Bangalore  BB McCullum  P Kumar             0       0  \n",
       "2  Royal Challengers Bangalore  BB McCullum  P Kumar             0       1  \n",
       "3  Royal Challengers Bangalore  BB McCullum  P Kumar             0       0  \n",
       "4  Royal Challengers Bangalore  BB McCullum  P Kumar             0       0  "
      ]
     },
     "execution_count": 74,
     "metadata": {},
     "output_type": "execute_result"
    }
   ],
   "source": [
    "df.head()"
   ]
  },
  {
   "cell_type": "code",
   "execution_count": 12,
   "metadata": {},
   "outputs": [],
   "source": [
    "df=df[df['ball']<=5.6]\n",
    "df['total_runs']=df['runs_off_bat']+df['extras']\n",
    "df=df.drop(columns=['runs_off_bat','extras'])\n",
    "df=df[df['innings']<=2]\n",
    "df=df[df['match_id']>=1216492]\n",
    "#df=df[df['match_id']>=1243388]\n",
    "#df=df.drop(columns=['match_id'])Feroz Shah Kotla\n",
    "df['venue']=df['venue'].replace('Narendra Modi Stadium, Ahmedabad','Narendra Modi Stadium')\n",
    "df['venue']=df['venue'].replace('Arun Jaitley Stadium, Delhi','Arun Jaitley Stadium')\n",
    "df['venue']=df['venue'].replace('Wankhede Stadium, Mumbai','Wankhede Stadium')\n",
    "df['venue']=df['venue'].replace( ['MA Chidambaram Stadium, Chepauk','MA Chidambaram Stadium, Chepauk, Chennai'],'MA Chidambaram Stadium')\n",
    "df['batting_team']=df['batting_team'].replace('Delhi Daredevils','Delhi Capitals')\n",
    "df['bowling_team']=df['bowling_team'].replace('Delhi Daredevils','Delhi Capitals')\n",
    "df['batting_team']=df['batting_team'].replace('Kings XI Punjab','Punjab Kings')\n",
    "df['bowling_team']=df['bowling_team'].replace('Kings XI Punjab','Punjab Kings')"
   ]
  },
  {
   "cell_type": "code",
   "execution_count": null,
   "metadata": {},
   "outputs": [],
   "source": []
  },
  {
   "cell_type": "code",
   "execution_count": 36,
   "metadata": {
    "scrolled": false
   },
   "outputs": [],
   "source": [
    "#df[df['batting_team']=='Chennai Super Kings'].tail(50)"
   ]
  },
  {
   "cell_type": "code",
   "execution_count": 76,
   "metadata": {},
   "outputs": [
    {
     "data": {
      "text/html": [
       "<div>\n",
       "<style scoped>\n",
       "    .dataframe tbody tr th:only-of-type {\n",
       "        vertical-align: middle;\n",
       "    }\n",
       "\n",
       "    .dataframe tbody tr th {\n",
       "        vertical-align: top;\n",
       "    }\n",
       "\n",
       "    .dataframe thead th {\n",
       "        text-align: right;\n",
       "    }\n",
       "</style>\n",
       "<table border=\"1\" class=\"dataframe\">\n",
       "  <thead>\n",
       "    <tr style=\"text-align: right;\">\n",
       "      <th></th>\n",
       "      <th>match_id</th>\n",
       "      <th>venue</th>\n",
       "      <th>innings</th>\n",
       "      <th>ball</th>\n",
       "      <th>batting_team</th>\n",
       "      <th>bowling_team</th>\n",
       "      <th>striker</th>\n",
       "      <th>bowler</th>\n",
       "      <th>total_runs</th>\n",
       "    </tr>\n",
       "  </thead>\n",
       "  <tbody>\n",
       "    <tr>\n",
       "      <th>179058</th>\n",
       "      <td>1216492</td>\n",
       "      <td>Sheikh Zayed Stadium</td>\n",
       "      <td>1</td>\n",
       "      <td>0.1</td>\n",
       "      <td>Mumbai Indians</td>\n",
       "      <td>Chennai Super Kings</td>\n",
       "      <td>RG Sharma</td>\n",
       "      <td>DL Chahar</td>\n",
       "      <td>4</td>\n",
       "    </tr>\n",
       "    <tr>\n",
       "      <th>179059</th>\n",
       "      <td>1216492</td>\n",
       "      <td>Sheikh Zayed Stadium</td>\n",
       "      <td>1</td>\n",
       "      <td>0.2</td>\n",
       "      <td>Mumbai Indians</td>\n",
       "      <td>Chennai Super Kings</td>\n",
       "      <td>RG Sharma</td>\n",
       "      <td>DL Chahar</td>\n",
       "      <td>1</td>\n",
       "    </tr>\n",
       "    <tr>\n",
       "      <th>179060</th>\n",
       "      <td>1216492</td>\n",
       "      <td>Sheikh Zayed Stadium</td>\n",
       "      <td>1</td>\n",
       "      <td>0.3</td>\n",
       "      <td>Mumbai Indians</td>\n",
       "      <td>Chennai Super Kings</td>\n",
       "      <td>Q de Kock</td>\n",
       "      <td>DL Chahar</td>\n",
       "      <td>2</td>\n",
       "    </tr>\n",
       "    <tr>\n",
       "      <th>179061</th>\n",
       "      <td>1216492</td>\n",
       "      <td>Sheikh Zayed Stadium</td>\n",
       "      <td>1</td>\n",
       "      <td>0.4</td>\n",
       "      <td>Mumbai Indians</td>\n",
       "      <td>Chennai Super Kings</td>\n",
       "      <td>Q de Kock</td>\n",
       "      <td>DL Chahar</td>\n",
       "      <td>4</td>\n",
       "    </tr>\n",
       "    <tr>\n",
       "      <th>179062</th>\n",
       "      <td>1216492</td>\n",
       "      <td>Sheikh Zayed Stadium</td>\n",
       "      <td>1</td>\n",
       "      <td>0.5</td>\n",
       "      <td>Mumbai Indians</td>\n",
       "      <td>Chennai Super Kings</td>\n",
       "      <td>Q de Kock</td>\n",
       "      <td>DL Chahar</td>\n",
       "      <td>0</td>\n",
       "    </tr>\n",
       "  </tbody>\n",
       "</table>\n",
       "</div>"
      ],
      "text/plain": [
       "        match_id                 venue  innings  ball    batting_team  \\\n",
       "179058   1216492  Sheikh Zayed Stadium        1   0.1  Mumbai Indians   \n",
       "179059   1216492  Sheikh Zayed Stadium        1   0.2  Mumbai Indians   \n",
       "179060   1216492  Sheikh Zayed Stadium        1   0.3  Mumbai Indians   \n",
       "179061   1216492  Sheikh Zayed Stadium        1   0.4  Mumbai Indians   \n",
       "179062   1216492  Sheikh Zayed Stadium        1   0.5  Mumbai Indians   \n",
       "\n",
       "               bowling_team    striker     bowler  total_runs  \n",
       "179058  Chennai Super Kings  RG Sharma  DL Chahar           4  \n",
       "179059  Chennai Super Kings  RG Sharma  DL Chahar           1  \n",
       "179060  Chennai Super Kings  Q de Kock  DL Chahar           2  \n",
       "179061  Chennai Super Kings  Q de Kock  DL Chahar           4  \n",
       "179062  Chennai Super Kings  Q de Kock  DL Chahar           0  "
      ]
     },
     "execution_count": 76,
     "metadata": {},
     "output_type": "execute_result"
    }
   ],
   "source": [
    "df.head()"
   ]
  },
  {
   "cell_type": "markdown",
   "metadata": {},
   "source": [
    "# Calculate Wickets"
   ]
  },
  {
   "cell_type": "code",
   "execution_count": 13,
   "metadata": {
    "scrolled": false
   },
   "outputs": [],
   "source": [
    "ipl_data=df.groupby(['match_id','venue','innings','batting_team','bowling_team']).striker.nunique()-2"
   ]
  },
  {
   "cell_type": "code",
   "execution_count": 14,
   "metadata": {},
   "outputs": [
    {
     "data": {
      "text/plain": [
       "match_id  venue                  innings  batting_team                 bowling_team               \n",
       "1254082   Narendra Modi Stadium  2        Delhi Capitals               Kolkata Knight Riders          0\n",
       "1254083   Narendra Modi Stadium  1        Punjab Kings                 Royal Challengers Bangalore    1\n",
       "                                 2        Royal Challengers Bangalore  Punjab Kings                   1\n",
       "1254084   Arun Jaitley Stadium   1        Chennai Super Kings          Mumbai Indians                 1\n",
       "                                 2        Mumbai Indians               Chennai Super Kings            0\n",
       "Name: striker, dtype: int64"
      ]
     },
     "execution_count": 14,
     "metadata": {},
     "output_type": "execute_result"
    }
   ],
   "source": [
    "ipl_data.tail()"
   ]
  },
  {
   "cell_type": "code",
   "execution_count": 15,
   "metadata": {},
   "outputs": [],
   "source": [
    "ipl_data=ipl_data.reset_index()\n",
    "ipl_data=ipl_data.rename(columns={\"striker\":\"Wicket\"})"
   ]
  },
  {
   "cell_type": "markdown",
   "metadata": {},
   "source": [
    "# Cacualting total runs"
   ]
  },
  {
   "cell_type": "code",
   "execution_count": 16,
   "metadata": {},
   "outputs": [],
   "source": [
    "total=df.groupby(['match_id','venue','innings','batting_team','bowling_team']).total_runs.sum()\n",
    "total=total.reset_index()\n",
    "ipl_data['total_runs']=total['total_runs']\n"
   ]
  },
  {
   "cell_type": "code",
   "execution_count": 17,
   "metadata": {
    "scrolled": false
   },
   "outputs": [
    {
     "data": {
      "text/html": [
       "<div>\n",
       "<style scoped>\n",
       "    .dataframe tbody tr th:only-of-type {\n",
       "        vertical-align: middle;\n",
       "    }\n",
       "\n",
       "    .dataframe tbody tr th {\n",
       "        vertical-align: top;\n",
       "    }\n",
       "\n",
       "    .dataframe thead th {\n",
       "        text-align: right;\n",
       "    }\n",
       "</style>\n",
       "<table border=\"1\" class=\"dataframe\">\n",
       "  <thead>\n",
       "    <tr style=\"text-align: right;\">\n",
       "      <th></th>\n",
       "      <th>match_id</th>\n",
       "      <th>venue</th>\n",
       "      <th>innings</th>\n",
       "      <th>batting_team</th>\n",
       "      <th>bowling_team</th>\n",
       "      <th>Wicket</th>\n",
       "      <th>total_runs</th>\n",
       "    </tr>\n",
       "  </thead>\n",
       "  <tbody>\n",
       "    <tr>\n",
       "      <th>0</th>\n",
       "      <td>1216492</td>\n",
       "      <td>Sheikh Zayed Stadium</td>\n",
       "      <td>1</td>\n",
       "      <td>Mumbai Indians</td>\n",
       "      <td>Chennai Super Kings</td>\n",
       "      <td>2</td>\n",
       "      <td>51</td>\n",
       "    </tr>\n",
       "    <tr>\n",
       "      <th>1</th>\n",
       "      <td>1216492</td>\n",
       "      <td>Sheikh Zayed Stadium</td>\n",
       "      <td>2</td>\n",
       "      <td>Chennai Super Kings</td>\n",
       "      <td>Mumbai Indians</td>\n",
       "      <td>2</td>\n",
       "      <td>31</td>\n",
       "    </tr>\n",
       "    <tr>\n",
       "      <th>2</th>\n",
       "      <td>1216493</td>\n",
       "      <td>Dubai International Cricket Stadium</td>\n",
       "      <td>1</td>\n",
       "      <td>Delhi Capitals</td>\n",
       "      <td>Punjab Kings</td>\n",
       "      <td>3</td>\n",
       "      <td>23</td>\n",
       "    </tr>\n",
       "    <tr>\n",
       "      <th>3</th>\n",
       "      <td>1216493</td>\n",
       "      <td>Dubai International Cricket Stadium</td>\n",
       "      <td>2</td>\n",
       "      <td>Punjab Kings</td>\n",
       "      <td>Delhi Capitals</td>\n",
       "      <td>3</td>\n",
       "      <td>35</td>\n",
       "    </tr>\n",
       "    <tr>\n",
       "      <th>4</th>\n",
       "      <td>1216494</td>\n",
       "      <td>Sheikh Zayed Stadium</td>\n",
       "      <td>1</td>\n",
       "      <td>Kolkata Knight Riders</td>\n",
       "      <td>Royal Challengers Bangalore</td>\n",
       "      <td>4</td>\n",
       "      <td>17</td>\n",
       "    </tr>\n",
       "  </tbody>\n",
       "</table>\n",
       "</div>"
      ],
      "text/plain": [
       "   match_id                                venue  innings  \\\n",
       "0   1216492                 Sheikh Zayed Stadium        1   \n",
       "1   1216492                 Sheikh Zayed Stadium        2   \n",
       "2   1216493  Dubai International Cricket Stadium        1   \n",
       "3   1216493  Dubai International Cricket Stadium        2   \n",
       "4   1216494                 Sheikh Zayed Stadium        1   \n",
       "\n",
       "            batting_team                 bowling_team  Wicket  total_runs  \n",
       "0         Mumbai Indians          Chennai Super Kings       2          51  \n",
       "1    Chennai Super Kings               Mumbai Indians       2          31  \n",
       "2         Delhi Capitals                 Punjab Kings       3          23  \n",
       "3           Punjab Kings               Delhi Capitals       3          35  \n",
       "4  Kolkata Knight Riders  Royal Challengers Bangalore       4          17  "
      ]
     },
     "execution_count": 17,
     "metadata": {},
     "output_type": "execute_result"
    }
   ],
   "source": [
    "#ipl_data.head(172)\n",
    "ipl_data.head()"
   ]
  },
  {
   "cell_type": "markdown",
   "metadata": {},
   "source": [
    "# Recent venue score"
   ]
  },
  {
   "cell_type": "code",
   "execution_count": 18,
   "metadata": {},
   "outputs": [
    {
     "data": {
      "text/html": [
       "<div>\n",
       "<style scoped>\n",
       "    .dataframe tbody tr th:only-of-type {\n",
       "        vertical-align: middle;\n",
       "    }\n",
       "\n",
       "    .dataframe tbody tr th {\n",
       "        vertical-align: top;\n",
       "    }\n",
       "\n",
       "    .dataframe thead th {\n",
       "        text-align: right;\n",
       "    }\n",
       "</style>\n",
       "<table border=\"1\" class=\"dataframe\">\n",
       "  <thead>\n",
       "    <tr style=\"text-align: right;\">\n",
       "      <th></th>\n",
       "      <th>venue</th>\n",
       "      <th>innings</th>\n",
       "      <th>total_runs</th>\n",
       "    </tr>\n",
       "  </thead>\n",
       "  <tbody>\n",
       "    <tr>\n",
       "      <th>0</th>\n",
       "      <td>Arun Jaitley Stadium</td>\n",
       "      <td>1</td>\n",
       "      <td>45.000000</td>\n",
       "    </tr>\n",
       "    <tr>\n",
       "      <th>1</th>\n",
       "      <td>Arun Jaitley Stadium</td>\n",
       "      <td>2</td>\n",
       "      <td>52.333333</td>\n",
       "    </tr>\n",
       "    <tr>\n",
       "      <th>2</th>\n",
       "      <td>Dubai International Cricket Stadium</td>\n",
       "      <td>1</td>\n",
       "      <td>47.300000</td>\n",
       "    </tr>\n",
       "    <tr>\n",
       "      <th>3</th>\n",
       "      <td>Dubai International Cricket Stadium</td>\n",
       "      <td>2</td>\n",
       "      <td>44.400000</td>\n",
       "    </tr>\n",
       "    <tr>\n",
       "      <th>4</th>\n",
       "      <td>MA Chidambaram Stadium</td>\n",
       "      <td>1</td>\n",
       "      <td>43.700000</td>\n",
       "    </tr>\n",
       "  </tbody>\n",
       "</table>\n",
       "</div>"
      ],
      "text/plain": [
       "                                 venue  innings  total_runs\n",
       "0                 Arun Jaitley Stadium        1   45.000000\n",
       "1                 Arun Jaitley Stadium        2   52.333333\n",
       "2  Dubai International Cricket Stadium        1   47.300000\n",
       "3  Dubai International Cricket Stadium        2   44.400000\n",
       "4               MA Chidambaram Stadium        1   43.700000"
      ]
     },
     "execution_count": 18,
     "metadata": {},
     "output_type": "execute_result"
    }
   ],
   "source": [
    "venue=ipl_data.groupby(['venue','innings']).total_runs.mean().reset_index()\n",
    "runs=[]\n",
    "for data in venue.index:\n",
    "    rate=ipl_data[ipl_data['venue'].isin([venue['venue'][data]]) & (ipl_data['innings']==venue['innings'][data])]\n",
    "    rate=rate.tail(10)\n",
    "    mean_total=rate.total_runs.mean()\n",
    "    runs.append(mean_total)\n",
    "venue['total_runs']=runs\n",
    "#economy=economy.drop(columns=['total_runs'])\n",
    "venue.head()"
   ]
  },
  {
   "cell_type": "code",
   "execution_count": 19,
   "metadata": {},
   "outputs": [
    {
     "data": {
      "text/html": [
       "<div>\n",
       "<style scoped>\n",
       "    .dataframe tbody tr th:only-of-type {\n",
       "        vertical-align: middle;\n",
       "    }\n",
       "\n",
       "    .dataframe tbody tr th {\n",
       "        vertical-align: top;\n",
       "    }\n",
       "\n",
       "    .dataframe thead th {\n",
       "        text-align: right;\n",
       "    }\n",
       "</style>\n",
       "<table border=\"1\" class=\"dataframe\">\n",
       "  <thead>\n",
       "    <tr style=\"text-align: right;\">\n",
       "      <th></th>\n",
       "      <th>venue</th>\n",
       "      <th>innings</th>\n",
       "      <th>total_runs</th>\n",
       "    </tr>\n",
       "  </thead>\n",
       "  <tbody>\n",
       "    <tr>\n",
       "      <th>0</th>\n",
       "      <td>Arun Jaitley Stadium</td>\n",
       "      <td>1</td>\n",
       "      <td>45.000000</td>\n",
       "    </tr>\n",
       "    <tr>\n",
       "      <th>1</th>\n",
       "      <td>Arun Jaitley Stadium</td>\n",
       "      <td>2</td>\n",
       "      <td>52.333333</td>\n",
       "    </tr>\n",
       "  </tbody>\n",
       "</table>\n",
       "</div>"
      ],
      "text/plain": [
       "                  venue  innings  total_runs\n",
       "0  Arun Jaitley Stadium        1   45.000000\n",
       "1  Arun Jaitley Stadium        2   52.333333"
      ]
     },
     "execution_count": 19,
     "metadata": {},
     "output_type": "execute_result"
    }
   ],
   "source": [
    "venue[venue['venue'].isin(['Arun Jaitley Stadium'])]"
   ]
  },
  {
   "cell_type": "markdown",
   "metadata": {},
   "source": [
    "# Caculate  Strike rate"
   ]
  },
  {
   "cell_type": "code",
   "execution_count": 20,
   "metadata": {},
   "outputs": [],
   "source": [
    "#df.groupby(['match_id','batting_team','striker']).ball.count()\n",
    "#df.groupby(['match_id','batting_team','striker']).total_runs.sum()\n",
    "#df.groupby(['match_id','bowling_team','bowler']).total_runs.sum()\n",
    "#df1=df.groupby(['match_id','bowling_team','bowler']).ball.count().reset_index()\n",
    "#df2=df.groupby(['match_id','bowling_team','bowler']).total_runs.sum().reset_index()\n",
    "df1=pd.pivot_table(df, index=['match_id','innings','batting_team','striker'],values=['total_runs'],aggfunc=np.sum)\n",
    "df2=pd.pivot_table(df, index=['match_id','innings','batting_team','striker'],values='ball',aggfunc=len)\n",
    "strike_rate=pd.concat([df2,df1],axis=1)\n"
   ]
  },
  {
   "cell_type": "code",
   "execution_count": 21,
   "metadata": {},
   "outputs": [],
   "source": [
    "strike_rate['str_rate']=strike_rate['total_runs']/strike_rate['ball']\n"
   ]
  },
  {
   "cell_type": "code",
   "execution_count": 22,
   "metadata": {},
   "outputs": [
    {
     "data": {
      "text/html": [
       "<div>\n",
       "<style scoped>\n",
       "    .dataframe tbody tr th:only-of-type {\n",
       "        vertical-align: middle;\n",
       "    }\n",
       "\n",
       "    .dataframe tbody tr th {\n",
       "        vertical-align: top;\n",
       "    }\n",
       "\n",
       "    .dataframe thead th {\n",
       "        text-align: right;\n",
       "    }\n",
       "</style>\n",
       "<table border=\"1\" class=\"dataframe\">\n",
       "  <thead>\n",
       "    <tr style=\"text-align: right;\">\n",
       "      <th></th>\n",
       "      <th>match_id</th>\n",
       "      <th>innings</th>\n",
       "      <th>batting_team</th>\n",
       "      <th>str_rate</th>\n",
       "    </tr>\n",
       "  </thead>\n",
       "  <tbody>\n",
       "    <tr>\n",
       "      <th>0</th>\n",
       "      <td>1216492</td>\n",
       "      <td>1</td>\n",
       "      <td>Mumbai Indians</td>\n",
       "      <td>1.010227</td>\n",
       "    </tr>\n",
       "    <tr>\n",
       "      <th>1</th>\n",
       "      <td>1216492</td>\n",
       "      <td>2</td>\n",
       "      <td>Chennai Super Kings</td>\n",
       "      <td>0.778234</td>\n",
       "    </tr>\n",
       "    <tr>\n",
       "      <th>2</th>\n",
       "      <td>1216493</td>\n",
       "      <td>1</td>\n",
       "      <td>Delhi Capitals</td>\n",
       "      <td>0.555311</td>\n",
       "    </tr>\n",
       "    <tr>\n",
       "      <th>3</th>\n",
       "      <td>1216493</td>\n",
       "      <td>2</td>\n",
       "      <td>Punjab Kings</td>\n",
       "      <td>0.681579</td>\n",
       "    </tr>\n",
       "    <tr>\n",
       "      <th>4</th>\n",
       "      <td>1216494</td>\n",
       "      <td>1</td>\n",
       "      <td>Kolkata Knight Riders</td>\n",
       "      <td>0.404437</td>\n",
       "    </tr>\n",
       "    <tr>\n",
       "      <th>...</th>\n",
       "      <td>...</td>\n",
       "      <td>...</td>\n",
       "      <td>...</td>\n",
       "      <td>...</td>\n",
       "    </tr>\n",
       "    <tr>\n",
       "      <th>179</th>\n",
       "      <td>1254082</td>\n",
       "      <td>2</td>\n",
       "      <td>Delhi Capitals</td>\n",
       "      <td>1.869748</td>\n",
       "    </tr>\n",
       "    <tr>\n",
       "      <th>180</th>\n",
       "      <td>1254083</td>\n",
       "      <td>1</td>\n",
       "      <td>Punjab Kings</td>\n",
       "      <td>1.539855</td>\n",
       "    </tr>\n",
       "    <tr>\n",
       "      <th>181</th>\n",
       "      <td>1254083</td>\n",
       "      <td>2</td>\n",
       "      <td>Royal Challengers Bangalore</td>\n",
       "      <td>1.037037</td>\n",
       "    </tr>\n",
       "    <tr>\n",
       "      <th>182</th>\n",
       "      <td>1254084</td>\n",
       "      <td>1</td>\n",
       "      <td>Chennai Super Kings</td>\n",
       "      <td>1.260459</td>\n",
       "    </tr>\n",
       "    <tr>\n",
       "      <th>183</th>\n",
       "      <td>1254084</td>\n",
       "      <td>2</td>\n",
       "      <td>Mumbai Indians</td>\n",
       "      <td>1.522222</td>\n",
       "    </tr>\n",
       "  </tbody>\n",
       "</table>\n",
       "<p>184 rows × 4 columns</p>\n",
       "</div>"
      ],
      "text/plain": [
       "     match_id  innings                 batting_team  str_rate\n",
       "0     1216492        1               Mumbai Indians  1.010227\n",
       "1     1216492        2          Chennai Super Kings  0.778234\n",
       "2     1216493        1               Delhi Capitals  0.555311\n",
       "3     1216493        2                 Punjab Kings  0.681579\n",
       "4     1216494        1        Kolkata Knight Riders  0.404437\n",
       "..        ...      ...                          ...       ...\n",
       "179   1254082        2               Delhi Capitals  1.869748\n",
       "180   1254083        1                 Punjab Kings  1.539855\n",
       "181   1254083        2  Royal Challengers Bangalore  1.037037\n",
       "182   1254084        1          Chennai Super Kings  1.260459\n",
       "183   1254084        2               Mumbai Indians  1.522222\n",
       "\n",
       "[184 rows x 4 columns]"
      ]
     },
     "execution_count": 22,
     "metadata": {},
     "output_type": "execute_result"
    }
   ],
   "source": [
    "strike_rate=strike_rate.groupby(['match_id','innings','batting_team']).str_rate.mean().reset_index()\n",
    "strike_rate"
   ]
  },
  {
   "cell_type": "code",
   "execution_count": 23,
   "metadata": {
    "scrolled": false
   },
   "outputs": [],
   "source": [
    "ipl_data['str_rate']=strike_rate['str_rate']\n"
   ]
  },
  {
   "cell_type": "code",
   "execution_count": 24,
   "metadata": {},
   "outputs": [
    {
     "data": {
      "text/html": [
       "<div>\n",
       "<style scoped>\n",
       "    .dataframe tbody tr th:only-of-type {\n",
       "        vertical-align: middle;\n",
       "    }\n",
       "\n",
       "    .dataframe tbody tr th {\n",
       "        vertical-align: top;\n",
       "    }\n",
       "\n",
       "    .dataframe thead th {\n",
       "        text-align: right;\n",
       "    }\n",
       "</style>\n",
       "<table border=\"1\" class=\"dataframe\">\n",
       "  <thead>\n",
       "    <tr style=\"text-align: right;\">\n",
       "      <th></th>\n",
       "      <th>match_id</th>\n",
       "      <th>venue</th>\n",
       "      <th>innings</th>\n",
       "      <th>batting_team</th>\n",
       "      <th>bowling_team</th>\n",
       "      <th>Wicket</th>\n",
       "      <th>total_runs</th>\n",
       "      <th>str_rate</th>\n",
       "    </tr>\n",
       "  </thead>\n",
       "  <tbody>\n",
       "    <tr>\n",
       "      <th>164</th>\n",
       "      <td>1254075</td>\n",
       "      <td>Wankhede Stadium</td>\n",
       "      <td>1</td>\n",
       "      <td>Kolkata Knight Riders</td>\n",
       "      <td>Rajasthan Royals</td>\n",
       "      <td>0</td>\n",
       "      <td>25</td>\n",
       "      <td>0.657895</td>\n",
       "    </tr>\n",
       "    <tr>\n",
       "      <th>165</th>\n",
       "      <td>1254075</td>\n",
       "      <td>Wankhede Stadium</td>\n",
       "      <td>2</td>\n",
       "      <td>Rajasthan Royals</td>\n",
       "      <td>Kolkata Knight Riders</td>\n",
       "      <td>2</td>\n",
       "      <td>50</td>\n",
       "      <td>1.313113</td>\n",
       "    </tr>\n",
       "    <tr>\n",
       "      <th>166</th>\n",
       "      <td>1254076</td>\n",
       "      <td>Wankhede Stadium</td>\n",
       "      <td>1</td>\n",
       "      <td>Chennai Super Kings</td>\n",
       "      <td>Royal Challengers Bangalore</td>\n",
       "      <td>0</td>\n",
       "      <td>47</td>\n",
       "      <td>1.266082</td>\n",
       "    </tr>\n",
       "    <tr>\n",
       "      <th>167</th>\n",
       "      <td>1254076</td>\n",
       "      <td>Wankhede Stadium</td>\n",
       "      <td>2</td>\n",
       "      <td>Royal Challengers Bangalore</td>\n",
       "      <td>Chennai Super Kings</td>\n",
       "      <td>2</td>\n",
       "      <td>65</td>\n",
       "      <td>1.591912</td>\n",
       "    </tr>\n",
       "    <tr>\n",
       "      <th>168</th>\n",
       "      <td>1254077</td>\n",
       "      <td>MA Chidambaram Stadium</td>\n",
       "      <td>1</td>\n",
       "      <td>Delhi Capitals</td>\n",
       "      <td>Sunrisers Hyderabad</td>\n",
       "      <td>0</td>\n",
       "      <td>51</td>\n",
       "      <td>1.276398</td>\n",
       "    </tr>\n",
       "    <tr>\n",
       "      <th>169</th>\n",
       "      <td>1254077</td>\n",
       "      <td>MA Chidambaram Stadium</td>\n",
       "      <td>2</td>\n",
       "      <td>Sunrisers Hyderabad</td>\n",
       "      <td>Delhi Capitals</td>\n",
       "      <td>2</td>\n",
       "      <td>56</td>\n",
       "      <td>1.048611</td>\n",
       "    </tr>\n",
       "    <tr>\n",
       "      <th>170</th>\n",
       "      <td>1254078</td>\n",
       "      <td>Narendra Modi Stadium</td>\n",
       "      <td>1</td>\n",
       "      <td>Punjab Kings</td>\n",
       "      <td>Kolkata Knight Riders</td>\n",
       "      <td>0</td>\n",
       "      <td>37</td>\n",
       "      <td>1.004412</td>\n",
       "    </tr>\n",
       "    <tr>\n",
       "      <th>171</th>\n",
       "      <td>1254078</td>\n",
       "      <td>Narendra Modi Stadium</td>\n",
       "      <td>2</td>\n",
       "      <td>Kolkata Knight Riders</td>\n",
       "      <td>Punjab Kings</td>\n",
       "      <td>3</td>\n",
       "      <td>42</td>\n",
       "      <td>0.855769</td>\n",
       "    </tr>\n",
       "    <tr>\n",
       "      <th>172</th>\n",
       "      <td>1254079</td>\n",
       "      <td>Narendra Modi Stadium</td>\n",
       "      <td>1</td>\n",
       "      <td>Royal Challengers Bangalore</td>\n",
       "      <td>Delhi Capitals</td>\n",
       "      <td>2</td>\n",
       "      <td>36</td>\n",
       "      <td>0.838294</td>\n",
       "    </tr>\n",
       "    <tr>\n",
       "      <th>173</th>\n",
       "      <td>1254079</td>\n",
       "      <td>Narendra Modi Stadium</td>\n",
       "      <td>2</td>\n",
       "      <td>Delhi Capitals</td>\n",
       "      <td>Royal Challengers Bangalore</td>\n",
       "      <td>2</td>\n",
       "      <td>43</td>\n",
       "      <td>1.067857</td>\n",
       "    </tr>\n",
       "    <tr>\n",
       "      <th>174</th>\n",
       "      <td>1254080</td>\n",
       "      <td>Arun Jaitley Stadium</td>\n",
       "      <td>1</td>\n",
       "      <td>Sunrisers Hyderabad</td>\n",
       "      <td>Chennai Super Kings</td>\n",
       "      <td>1</td>\n",
       "      <td>39</td>\n",
       "      <td>1.152778</td>\n",
       "    </tr>\n",
       "    <tr>\n",
       "      <th>175</th>\n",
       "      <td>1254080</td>\n",
       "      <td>Arun Jaitley Stadium</td>\n",
       "      <td>2</td>\n",
       "      <td>Chennai Super Kings</td>\n",
       "      <td>Sunrisers Hyderabad</td>\n",
       "      <td>0</td>\n",
       "      <td>50</td>\n",
       "      <td>1.342105</td>\n",
       "    </tr>\n",
       "    <tr>\n",
       "      <th>176</th>\n",
       "      <td>1254081</td>\n",
       "      <td>Arun Jaitley Stadium</td>\n",
       "      <td>1</td>\n",
       "      <td>Rajasthan Royals</td>\n",
       "      <td>Mumbai Indians</td>\n",
       "      <td>0</td>\n",
       "      <td>47</td>\n",
       "      <td>1.449091</td>\n",
       "    </tr>\n",
       "    <tr>\n",
       "      <th>177</th>\n",
       "      <td>1254081</td>\n",
       "      <td>Arun Jaitley Stadium</td>\n",
       "      <td>2</td>\n",
       "      <td>Mumbai Indians</td>\n",
       "      <td>Rajasthan Royals</td>\n",
       "      <td>0</td>\n",
       "      <td>49</td>\n",
       "      <td>1.335913</td>\n",
       "    </tr>\n",
       "    <tr>\n",
       "      <th>178</th>\n",
       "      <td>1254082</td>\n",
       "      <td>Narendra Modi Stadium</td>\n",
       "      <td>1</td>\n",
       "      <td>Kolkata Knight Riders</td>\n",
       "      <td>Delhi Capitals</td>\n",
       "      <td>1</td>\n",
       "      <td>45</td>\n",
       "      <td>1.237719</td>\n",
       "    </tr>\n",
       "    <tr>\n",
       "      <th>179</th>\n",
       "      <td>1254082</td>\n",
       "      <td>Narendra Modi Stadium</td>\n",
       "      <td>2</td>\n",
       "      <td>Delhi Capitals</td>\n",
       "      <td>Kolkata Knight Riders</td>\n",
       "      <td>0</td>\n",
       "      <td>67</td>\n",
       "      <td>1.869748</td>\n",
       "    </tr>\n",
       "    <tr>\n",
       "      <th>180</th>\n",
       "      <td>1254083</td>\n",
       "      <td>Narendra Modi Stadium</td>\n",
       "      <td>1</td>\n",
       "      <td>Punjab Kings</td>\n",
       "      <td>Royal Challengers Bangalore</td>\n",
       "      <td>1</td>\n",
       "      <td>49</td>\n",
       "      <td>1.539855</td>\n",
       "    </tr>\n",
       "    <tr>\n",
       "      <th>181</th>\n",
       "      <td>1254083</td>\n",
       "      <td>Narendra Modi Stadium</td>\n",
       "      <td>2</td>\n",
       "      <td>Royal Challengers Bangalore</td>\n",
       "      <td>Punjab Kings</td>\n",
       "      <td>1</td>\n",
       "      <td>36</td>\n",
       "      <td>1.037037</td>\n",
       "    </tr>\n",
       "    <tr>\n",
       "      <th>182</th>\n",
       "      <td>1254084</td>\n",
       "      <td>Arun Jaitley Stadium</td>\n",
       "      <td>1</td>\n",
       "      <td>Chennai Super Kings</td>\n",
       "      <td>Mumbai Indians</td>\n",
       "      <td>1</td>\n",
       "      <td>49</td>\n",
       "      <td>1.260459</td>\n",
       "    </tr>\n",
       "    <tr>\n",
       "      <th>183</th>\n",
       "      <td>1254084</td>\n",
       "      <td>Arun Jaitley Stadium</td>\n",
       "      <td>2</td>\n",
       "      <td>Mumbai Indians</td>\n",
       "      <td>Chennai Super Kings</td>\n",
       "      <td>0</td>\n",
       "      <td>58</td>\n",
       "      <td>1.522222</td>\n",
       "    </tr>\n",
       "  </tbody>\n",
       "</table>\n",
       "</div>"
      ],
      "text/plain": [
       "     match_id                   venue  innings                 batting_team  \\\n",
       "164   1254075        Wankhede Stadium        1        Kolkata Knight Riders   \n",
       "165   1254075        Wankhede Stadium        2             Rajasthan Royals   \n",
       "166   1254076        Wankhede Stadium        1          Chennai Super Kings   \n",
       "167   1254076        Wankhede Stadium        2  Royal Challengers Bangalore   \n",
       "168   1254077  MA Chidambaram Stadium        1               Delhi Capitals   \n",
       "169   1254077  MA Chidambaram Stadium        2          Sunrisers Hyderabad   \n",
       "170   1254078   Narendra Modi Stadium        1                 Punjab Kings   \n",
       "171   1254078   Narendra Modi Stadium        2        Kolkata Knight Riders   \n",
       "172   1254079   Narendra Modi Stadium        1  Royal Challengers Bangalore   \n",
       "173   1254079   Narendra Modi Stadium        2               Delhi Capitals   \n",
       "174   1254080    Arun Jaitley Stadium        1          Sunrisers Hyderabad   \n",
       "175   1254080    Arun Jaitley Stadium        2          Chennai Super Kings   \n",
       "176   1254081    Arun Jaitley Stadium        1             Rajasthan Royals   \n",
       "177   1254081    Arun Jaitley Stadium        2               Mumbai Indians   \n",
       "178   1254082   Narendra Modi Stadium        1        Kolkata Knight Riders   \n",
       "179   1254082   Narendra Modi Stadium        2               Delhi Capitals   \n",
       "180   1254083   Narendra Modi Stadium        1                 Punjab Kings   \n",
       "181   1254083   Narendra Modi Stadium        2  Royal Challengers Bangalore   \n",
       "182   1254084    Arun Jaitley Stadium        1          Chennai Super Kings   \n",
       "183   1254084    Arun Jaitley Stadium        2               Mumbai Indians   \n",
       "\n",
       "                    bowling_team  Wicket  total_runs  str_rate  \n",
       "164             Rajasthan Royals       0          25  0.657895  \n",
       "165        Kolkata Knight Riders       2          50  1.313113  \n",
       "166  Royal Challengers Bangalore       0          47  1.266082  \n",
       "167          Chennai Super Kings       2          65  1.591912  \n",
       "168          Sunrisers Hyderabad       0          51  1.276398  \n",
       "169               Delhi Capitals       2          56  1.048611  \n",
       "170        Kolkata Knight Riders       0          37  1.004412  \n",
       "171                 Punjab Kings       3          42  0.855769  \n",
       "172               Delhi Capitals       2          36  0.838294  \n",
       "173  Royal Challengers Bangalore       2          43  1.067857  \n",
       "174          Chennai Super Kings       1          39  1.152778  \n",
       "175          Sunrisers Hyderabad       0          50  1.342105  \n",
       "176               Mumbai Indians       0          47  1.449091  \n",
       "177             Rajasthan Royals       0          49  1.335913  \n",
       "178               Delhi Capitals       1          45  1.237719  \n",
       "179        Kolkata Knight Riders       0          67  1.869748  \n",
       "180  Royal Challengers Bangalore       1          49  1.539855  \n",
       "181                 Punjab Kings       1          36  1.037037  \n",
       "182               Mumbai Indians       1          49  1.260459  \n",
       "183          Chennai Super Kings       0          58  1.522222  "
      ]
     },
     "execution_count": 24,
     "metadata": {},
     "output_type": "execute_result"
    }
   ],
   "source": [
    "ipl_data.tail(20)"
   ]
  },
  {
   "cell_type": "code",
   "execution_count": null,
   "metadata": {},
   "outputs": [],
   "source": []
  },
  {
   "cell_type": "markdown",
   "metadata": {},
   "source": [
    "# Calculate economy rate"
   ]
  },
  {
   "cell_type": "code",
   "execution_count": 25,
   "metadata": {},
   "outputs": [],
   "source": [
    "df1=pd.pivot_table(df, index=['match_id','innings','bowling_team','bowler'],values=['total_runs'],aggfunc=np.sum)\n",
    "df2=pd.pivot_table(df, index=['match_id','innings','bowling_team','bowler'],values='ball',aggfunc=len)\n",
    "economy=pd.concat([df2,df1],axis=1)\n"
   ]
  },
  {
   "cell_type": "code",
   "execution_count": 26,
   "metadata": {},
   "outputs": [
    {
     "data": {
      "text/html": [
       "<div>\n",
       "<style scoped>\n",
       "    .dataframe tbody tr th:only-of-type {\n",
       "        vertical-align: middle;\n",
       "    }\n",
       "\n",
       "    .dataframe tbody tr th {\n",
       "        vertical-align: top;\n",
       "    }\n",
       "\n",
       "    .dataframe thead th {\n",
       "        text-align: right;\n",
       "    }\n",
       "</style>\n",
       "<table border=\"1\" class=\"dataframe\">\n",
       "  <thead>\n",
       "    <tr style=\"text-align: right;\">\n",
       "      <th></th>\n",
       "      <th>total_runs</th>\n",
       "    </tr>\n",
       "    <tr>\n",
       "      <th>striker</th>\n",
       "      <th></th>\n",
       "    </tr>\n",
       "  </thead>\n",
       "  <tbody>\n",
       "    <tr>\n",
       "      <th>AB de Villiers</th>\n",
       "      <td>35</td>\n",
       "    </tr>\n",
       "    <tr>\n",
       "      <th>AD Russell</th>\n",
       "      <td>14</td>\n",
       "    </tr>\n",
       "    <tr>\n",
       "      <th>AJ Finch</th>\n",
       "      <td>216</td>\n",
       "    </tr>\n",
       "    <tr>\n",
       "      <th>AM Rahane</th>\n",
       "      <td>92</td>\n",
       "    </tr>\n",
       "    <tr>\n",
       "      <th>AT Rayudu</th>\n",
       "      <td>54</td>\n",
       "    </tr>\n",
       "    <tr>\n",
       "      <th>...</th>\n",
       "      <td>...</td>\n",
       "    </tr>\n",
       "    <tr>\n",
       "      <th>V Shankar</th>\n",
       "      <td>3</td>\n",
       "    </tr>\n",
       "    <tr>\n",
       "      <th>Virat Singh</th>\n",
       "      <td>0</td>\n",
       "    </tr>\n",
       "    <tr>\n",
       "      <th>WP Saha</th>\n",
       "      <td>85</td>\n",
       "    </tr>\n",
       "    <tr>\n",
       "      <th>Washington Sundar</th>\n",
       "      <td>25</td>\n",
       "    </tr>\n",
       "    <tr>\n",
       "      <th>YBK Jaiswal</th>\n",
       "      <td>60</td>\n",
       "    </tr>\n",
       "  </tbody>\n",
       "</table>\n",
       "<p>76 rows × 1 columns</p>\n",
       "</div>"
      ],
      "text/plain": [
       "                   total_runs\n",
       "striker                      \n",
       "AB de Villiers             35\n",
       "AD Russell                 14\n",
       "AJ Finch                  216\n",
       "AM Rahane                  92\n",
       "AT Rayudu                  54\n",
       "...                       ...\n",
       "V Shankar                   3\n",
       "Virat Singh                 0\n",
       "WP Saha                    85\n",
       "Washington Sundar          25\n",
       "YBK Jaiswal                60\n",
       "\n",
       "[76 rows x 1 columns]"
      ]
     },
     "execution_count": 26,
     "metadata": {},
     "output_type": "execute_result"
    }
   ],
   "source": [
    "df.groupby(['striker']).total_runs.sum().reset_index().set_index('striker')\n"
   ]
  },
  {
   "cell_type": "code",
   "execution_count": 27,
   "metadata": {},
   "outputs": [
    {
     "data": {
      "text/html": [
       "<div>\n",
       "<style scoped>\n",
       "    .dataframe tbody tr th:only-of-type {\n",
       "        vertical-align: middle;\n",
       "    }\n",
       "\n",
       "    .dataframe tbody tr th {\n",
       "        vertical-align: top;\n",
       "    }\n",
       "\n",
       "    .dataframe thead th {\n",
       "        text-align: right;\n",
       "    }\n",
       "</style>\n",
       "<table border=\"1\" class=\"dataframe\">\n",
       "  <thead>\n",
       "    <tr style=\"text-align: right;\">\n",
       "      <th></th>\n",
       "      <th></th>\n",
       "      <th></th>\n",
       "      <th></th>\n",
       "      <th>ball</th>\n",
       "      <th>total_runs</th>\n",
       "      <th>ec_rate</th>\n",
       "    </tr>\n",
       "    <tr>\n",
       "      <th>match_id</th>\n",
       "      <th>innings</th>\n",
       "      <th>bowling_team</th>\n",
       "      <th>bowler</th>\n",
       "      <th></th>\n",
       "      <th></th>\n",
       "      <th></th>\n",
       "    </tr>\n",
       "  </thead>\n",
       "  <tbody>\n",
       "    <tr>\n",
       "      <th rowspan=\"5\" valign=\"top\">1216492</th>\n",
       "      <th rowspan=\"4\" valign=\"top\">1</th>\n",
       "      <th rowspan=\"4\" valign=\"top\">Chennai Super Kings</th>\n",
       "      <th>DL Chahar</th>\n",
       "      <td>12.0</td>\n",
       "      <td>20</td>\n",
       "      <td>1.666667</td>\n",
       "    </tr>\n",
       "    <tr>\n",
       "      <th>L Ngidi</th>\n",
       "      <td>8.0</td>\n",
       "      <td>18</td>\n",
       "      <td>2.250000</td>\n",
       "    </tr>\n",
       "    <tr>\n",
       "      <th>PP Chawla</th>\n",
       "      <td>6.0</td>\n",
       "      <td>3</td>\n",
       "      <td>0.500000</td>\n",
       "    </tr>\n",
       "    <tr>\n",
       "      <th>SM Curran</th>\n",
       "      <td>12.0</td>\n",
       "      <td>10</td>\n",
       "      <td>0.833333</td>\n",
       "    </tr>\n",
       "    <tr>\n",
       "      <th>2</th>\n",
       "      <th>Mumbai Indians</th>\n",
       "      <th>JJ Bumrah</th>\n",
       "      <td>6.0</td>\n",
       "      <td>8</td>\n",
       "      <td>1.333333</td>\n",
       "    </tr>\n",
       "    <tr>\n",
       "      <th>...</th>\n",
       "      <th>...</th>\n",
       "      <th>...</th>\n",
       "      <th>...</th>\n",
       "      <td>...</td>\n",
       "      <td>...</td>\n",
       "      <td>...</td>\n",
       "    </tr>\n",
       "    <tr>\n",
       "      <th rowspan=\"5\" valign=\"top\">1254084</th>\n",
       "      <th rowspan=\"2\" valign=\"top\">1</th>\n",
       "      <th rowspan=\"2\" valign=\"top\">Mumbai Indians</th>\n",
       "      <th>JJ Bumrah</th>\n",
       "      <td>6.0</td>\n",
       "      <td>9</td>\n",
       "      <td>1.500000</td>\n",
       "    </tr>\n",
       "    <tr>\n",
       "      <th>TA Boult</th>\n",
       "      <td>18.0</td>\n",
       "      <td>23</td>\n",
       "      <td>1.277778</td>\n",
       "    </tr>\n",
       "    <tr>\n",
       "      <th rowspan=\"3\" valign=\"top\">2</th>\n",
       "      <th rowspan=\"3\" valign=\"top\">Chennai Super Kings</th>\n",
       "      <th>DL Chahar</th>\n",
       "      <td>19.0</td>\n",
       "      <td>27</td>\n",
       "      <td>1.421053</td>\n",
       "    </tr>\n",
       "    <tr>\n",
       "      <th>L Ngidi</th>\n",
       "      <td>6.0</td>\n",
       "      <td>14</td>\n",
       "      <td>2.333333</td>\n",
       "    </tr>\n",
       "    <tr>\n",
       "      <th>SM Curran</th>\n",
       "      <td>13.0</td>\n",
       "      <td>17</td>\n",
       "      <td>1.307692</td>\n",
       "    </tr>\n",
       "  </tbody>\n",
       "</table>\n",
       "<p>665 rows × 3 columns</p>\n",
       "</div>"
      ],
      "text/plain": [
       "                                                ball  total_runs   ec_rate\n",
       "match_id innings bowling_team        bowler                               \n",
       "1216492  1       Chennai Super Kings DL Chahar  12.0          20  1.666667\n",
       "                                     L Ngidi     8.0          18  2.250000\n",
       "                                     PP Chawla   6.0           3  0.500000\n",
       "                                     SM Curran  12.0          10  0.833333\n",
       "         2       Mumbai Indians      JJ Bumrah   6.0           8  1.333333\n",
       "...                                              ...         ...       ...\n",
       "1254084  1       Mumbai Indians      JJ Bumrah   6.0           9  1.500000\n",
       "                                     TA Boult   18.0          23  1.277778\n",
       "         2       Chennai Super Kings DL Chahar  19.0          27  1.421053\n",
       "                                     L Ngidi     6.0          14  2.333333\n",
       "                                     SM Curran  13.0          17  1.307692\n",
       "\n",
       "[665 rows x 3 columns]"
      ]
     },
     "execution_count": 27,
     "metadata": {},
     "output_type": "execute_result"
    }
   ],
   "source": [
    "economy['ec_rate']=economy['total_runs']/economy['ball']\n",
    "economy"
   ]
  },
  {
   "cell_type": "code",
   "execution_count": 28,
   "metadata": {
    "scrolled": true
   },
   "outputs": [
    {
     "data": {
      "text/html": [
       "<div>\n",
       "<style scoped>\n",
       "    .dataframe tbody tr th:only-of-type {\n",
       "        vertical-align: middle;\n",
       "    }\n",
       "\n",
       "    .dataframe tbody tr th {\n",
       "        vertical-align: top;\n",
       "    }\n",
       "\n",
       "    .dataframe thead th {\n",
       "        text-align: right;\n",
       "    }\n",
       "</style>\n",
       "<table border=\"1\" class=\"dataframe\">\n",
       "  <thead>\n",
       "    <tr style=\"text-align: right;\">\n",
       "      <th></th>\n",
       "      <th>match_id</th>\n",
       "      <th>innings</th>\n",
       "      <th>bowling_team</th>\n",
       "      <th>ec_rate</th>\n",
       "    </tr>\n",
       "  </thead>\n",
       "  <tbody>\n",
       "    <tr>\n",
       "      <th>0</th>\n",
       "      <td>1216492</td>\n",
       "      <td>1</td>\n",
       "      <td>Chennai Super Kings</td>\n",
       "      <td>1.312500</td>\n",
       "    </tr>\n",
       "    <tr>\n",
       "      <th>1</th>\n",
       "      <td>1216492</td>\n",
       "      <td>2</td>\n",
       "      <td>Mumbai Indians</td>\n",
       "      <td>0.927350</td>\n",
       "    </tr>\n",
       "    <tr>\n",
       "      <th>2</th>\n",
       "      <td>1216493</td>\n",
       "      <td>1</td>\n",
       "      <td>Punjab Kings</td>\n",
       "      <td>0.714286</td>\n",
       "    </tr>\n",
       "    <tr>\n",
       "      <th>3</th>\n",
       "      <td>1216493</td>\n",
       "      <td>2</td>\n",
       "      <td>Delhi Capitals</td>\n",
       "      <td>0.822802</td>\n",
       "    </tr>\n",
       "    <tr>\n",
       "      <th>4</th>\n",
       "      <td>1216494</td>\n",
       "      <td>1</td>\n",
       "      <td>Royal Challengers Bangalore</td>\n",
       "      <td>0.713675</td>\n",
       "    </tr>\n",
       "    <tr>\n",
       "      <th>...</th>\n",
       "      <td>...</td>\n",
       "      <td>...</td>\n",
       "      <td>...</td>\n",
       "      <td>...</td>\n",
       "    </tr>\n",
       "    <tr>\n",
       "      <th>179</th>\n",
       "      <td>1254082</td>\n",
       "      <td>2</td>\n",
       "      <td>Kolkata Knight Riders</td>\n",
       "      <td>1.783333</td>\n",
       "    </tr>\n",
       "    <tr>\n",
       "      <th>180</th>\n",
       "      <td>1254083</td>\n",
       "      <td>1</td>\n",
       "      <td>Royal Challengers Bangalore</td>\n",
       "      <td>1.273504</td>\n",
       "    </tr>\n",
       "    <tr>\n",
       "      <th>181</th>\n",
       "      <td>1254083</td>\n",
       "      <td>2</td>\n",
       "      <td>Punjab Kings</td>\n",
       "      <td>0.907407</td>\n",
       "    </tr>\n",
       "    <tr>\n",
       "      <th>182</th>\n",
       "      <td>1254084</td>\n",
       "      <td>1</td>\n",
       "      <td>Mumbai Indians</td>\n",
       "      <td>1.398148</td>\n",
       "    </tr>\n",
       "    <tr>\n",
       "      <th>183</th>\n",
       "      <td>1254084</td>\n",
       "      <td>2</td>\n",
       "      <td>Chennai Super Kings</td>\n",
       "      <td>1.687359</td>\n",
       "    </tr>\n",
       "  </tbody>\n",
       "</table>\n",
       "<p>184 rows × 4 columns</p>\n",
       "</div>"
      ],
      "text/plain": [
       "     match_id  innings                 bowling_team   ec_rate\n",
       "0     1216492        1          Chennai Super Kings  1.312500\n",
       "1     1216492        2               Mumbai Indians  0.927350\n",
       "2     1216493        1                 Punjab Kings  0.714286\n",
       "3     1216493        2               Delhi Capitals  0.822802\n",
       "4     1216494        1  Royal Challengers Bangalore  0.713675\n",
       "..        ...      ...                          ...       ...\n",
       "179   1254082        2        Kolkata Knight Riders  1.783333\n",
       "180   1254083        1  Royal Challengers Bangalore  1.273504\n",
       "181   1254083        2                 Punjab Kings  0.907407\n",
       "182   1254084        1               Mumbai Indians  1.398148\n",
       "183   1254084        2          Chennai Super Kings  1.687359\n",
       "\n",
       "[184 rows x 4 columns]"
      ]
     },
     "execution_count": 28,
     "metadata": {},
     "output_type": "execute_result"
    }
   ],
   "source": [
    "economy=economy.groupby(['match_id','innings','bowling_team']).ec_rate.mean().reset_index()\n",
    "economy"
   ]
  },
  {
   "cell_type": "code",
   "execution_count": 29,
   "metadata": {},
   "outputs": [],
   "source": [
    "ipl_data['ec_rate']=economy['ec_rate']"
   ]
  },
  {
   "cell_type": "code",
   "execution_count": 30,
   "metadata": {},
   "outputs": [
    {
     "data": {
      "text/html": [
       "<div>\n",
       "<style scoped>\n",
       "    .dataframe tbody tr th:only-of-type {\n",
       "        vertical-align: middle;\n",
       "    }\n",
       "\n",
       "    .dataframe tbody tr th {\n",
       "        vertical-align: top;\n",
       "    }\n",
       "\n",
       "    .dataframe thead th {\n",
       "        text-align: right;\n",
       "    }\n",
       "</style>\n",
       "<table border=\"1\" class=\"dataframe\">\n",
       "  <thead>\n",
       "    <tr style=\"text-align: right;\">\n",
       "      <th></th>\n",
       "      <th>match_id</th>\n",
       "      <th>venue</th>\n",
       "      <th>innings</th>\n",
       "      <th>batting_team</th>\n",
       "      <th>bowling_team</th>\n",
       "      <th>Wicket</th>\n",
       "      <th>total_runs</th>\n",
       "      <th>str_rate</th>\n",
       "      <th>ec_rate</th>\n",
       "    </tr>\n",
       "  </thead>\n",
       "  <tbody>\n",
       "    <tr>\n",
       "      <th>179</th>\n",
       "      <td>1254082</td>\n",
       "      <td>Narendra Modi Stadium</td>\n",
       "      <td>2</td>\n",
       "      <td>Delhi Capitals</td>\n",
       "      <td>Kolkata Knight Riders</td>\n",
       "      <td>0</td>\n",
       "      <td>67</td>\n",
       "      <td>1.869748</td>\n",
       "      <td>1.783333</td>\n",
       "    </tr>\n",
       "    <tr>\n",
       "      <th>180</th>\n",
       "      <td>1254083</td>\n",
       "      <td>Narendra Modi Stadium</td>\n",
       "      <td>1</td>\n",
       "      <td>Punjab Kings</td>\n",
       "      <td>Royal Challengers Bangalore</td>\n",
       "      <td>1</td>\n",
       "      <td>49</td>\n",
       "      <td>1.539855</td>\n",
       "      <td>1.273504</td>\n",
       "    </tr>\n",
       "    <tr>\n",
       "      <th>181</th>\n",
       "      <td>1254083</td>\n",
       "      <td>Narendra Modi Stadium</td>\n",
       "      <td>2</td>\n",
       "      <td>Royal Challengers Bangalore</td>\n",
       "      <td>Punjab Kings</td>\n",
       "      <td>1</td>\n",
       "      <td>36</td>\n",
       "      <td>1.037037</td>\n",
       "      <td>0.907407</td>\n",
       "    </tr>\n",
       "    <tr>\n",
       "      <th>182</th>\n",
       "      <td>1254084</td>\n",
       "      <td>Arun Jaitley Stadium</td>\n",
       "      <td>1</td>\n",
       "      <td>Chennai Super Kings</td>\n",
       "      <td>Mumbai Indians</td>\n",
       "      <td>1</td>\n",
       "      <td>49</td>\n",
       "      <td>1.260459</td>\n",
       "      <td>1.398148</td>\n",
       "    </tr>\n",
       "    <tr>\n",
       "      <th>183</th>\n",
       "      <td>1254084</td>\n",
       "      <td>Arun Jaitley Stadium</td>\n",
       "      <td>2</td>\n",
       "      <td>Mumbai Indians</td>\n",
       "      <td>Chennai Super Kings</td>\n",
       "      <td>0</td>\n",
       "      <td>58</td>\n",
       "      <td>1.522222</td>\n",
       "      <td>1.687359</td>\n",
       "    </tr>\n",
       "  </tbody>\n",
       "</table>\n",
       "</div>"
      ],
      "text/plain": [
       "     match_id                  venue  innings                 batting_team  \\\n",
       "179   1254082  Narendra Modi Stadium        2               Delhi Capitals   \n",
       "180   1254083  Narendra Modi Stadium        1                 Punjab Kings   \n",
       "181   1254083  Narendra Modi Stadium        2  Royal Challengers Bangalore   \n",
       "182   1254084   Arun Jaitley Stadium        1          Chennai Super Kings   \n",
       "183   1254084   Arun Jaitley Stadium        2               Mumbai Indians   \n",
       "\n",
       "                    bowling_team  Wicket  total_runs  str_rate   ec_rate  \n",
       "179        Kolkata Knight Riders       0          67  1.869748  1.783333  \n",
       "180  Royal Challengers Bangalore       1          49  1.539855  1.273504  \n",
       "181                 Punjab Kings       1          36  1.037037  0.907407  \n",
       "182               Mumbai Indians       1          49  1.260459  1.398148  \n",
       "183          Chennai Super Kings       0          58  1.522222  1.687359  "
      ]
     },
     "execution_count": 30,
     "metadata": {},
     "output_type": "execute_result"
    }
   ],
   "source": [
    "ipl_data.tail()"
   ]
  },
  {
   "cell_type": "code",
   "execution_count": 31,
   "metadata": {},
   "outputs": [],
   "source": [
    "ipl_data=ipl_data.drop(columns=['match_id'])\n",
    "ipl_data.to_csv(\"Data.csv\",index='False')"
   ]
  },
  {
   "cell_type": "markdown",
   "metadata": {},
   "source": [
    "# Create MATCH DATA"
   ]
  },
  {
   "cell_type": "code",
   "execution_count": 84,
   "metadata": {
    "scrolled": false
   },
   "outputs": [
    {
     "data": {
      "text/html": [
       "<div>\n",
       "<style scoped>\n",
       "    .dataframe tbody tr th:only-of-type {\n",
       "        vertical-align: middle;\n",
       "    }\n",
       "\n",
       "    .dataframe tbody tr th {\n",
       "        vertical-align: top;\n",
       "    }\n",
       "\n",
       "    .dataframe thead th {\n",
       "        text-align: right;\n",
       "    }\n",
       "</style>\n",
       "<table border=\"1\" class=\"dataframe\">\n",
       "  <thead>\n",
       "    <tr style=\"text-align: right;\">\n",
       "      <th></th>\n",
       "      <th>venue</th>\n",
       "      <th>innings</th>\n",
       "      <th>batting_team</th>\n",
       "      <th>bowling_team</th>\n",
       "      <th>Wicket</th>\n",
       "      <th>total_runs</th>\n",
       "      <th>str_rate</th>\n",
       "      <th>ec_rate</th>\n",
       "    </tr>\n",
       "  </thead>\n",
       "  <tbody>\n",
       "    <tr>\n",
       "      <th>0</th>\n",
       "      <td>Arun Jaitley Stadium</td>\n",
       "      <td>1</td>\n",
       "      <td>Punjab Kings</td>\n",
       "      <td>Delhi Capitals</td>\n",
       "      <td>2</td>\n",
       "      <td>51</td>\n",
       "      <td>1.311218</td>\n",
       "      <td>1.342593</td>\n",
       "    </tr>\n",
       "    <tr>\n",
       "      <th>1</th>\n",
       "      <td>Arun Jaitley Stadium</td>\n",
       "      <td>2</td>\n",
       "      <td>Delhi Capitals</td>\n",
       "      <td>Punjab Kings</td>\n",
       "      <td>3</td>\n",
       "      <td>48</td>\n",
       "      <td>1.880000</td>\n",
       "      <td>1.634615</td>\n",
       "    </tr>\n",
       "    <tr>\n",
       "      <th>2</th>\n",
       "      <td>Arun Jaitley Stadium</td>\n",
       "      <td>1</td>\n",
       "      <td>Delhi Capitals</td>\n",
       "      <td>Kolkata Knight Riders</td>\n",
       "      <td>0</td>\n",
       "      <td>57</td>\n",
       "      <td>1.661905</td>\n",
       "      <td>1.550000</td>\n",
       "    </tr>\n",
       "    <tr>\n",
       "      <th>3</th>\n",
       "      <td>Arun Jaitley Stadium</td>\n",
       "      <td>2</td>\n",
       "      <td>Kolkata Knight Riders</td>\n",
       "      <td>Delhi Capitals</td>\n",
       "      <td>4</td>\n",
       "      <td>51</td>\n",
       "      <td>1.203704</td>\n",
       "      <td>1.479167</td>\n",
       "    </tr>\n",
       "    <tr>\n",
       "      <th>4</th>\n",
       "      <td>Arun Jaitley Stadium</td>\n",
       "      <td>1</td>\n",
       "      <td>Delhi Capitals</td>\n",
       "      <td>Rajasthan Royals</td>\n",
       "      <td>1</td>\n",
       "      <td>62</td>\n",
       "      <td>1.166667</td>\n",
       "      <td>1.783333</td>\n",
       "    </tr>\n",
       "    <tr>\n",
       "      <th>...</th>\n",
       "      <td>...</td>\n",
       "      <td>...</td>\n",
       "      <td>...</td>\n",
       "      <td>...</td>\n",
       "      <td>...</td>\n",
       "      <td>...</td>\n",
       "      <td>...</td>\n",
       "      <td>...</td>\n",
       "    </tr>\n",
       "    <tr>\n",
       "      <th>103</th>\n",
       "      <td>Wankhede Stadium</td>\n",
       "      <td>2</td>\n",
       "      <td>Royal Challengers Bangalore</td>\n",
       "      <td>Chennai Super Kings</td>\n",
       "      <td>2</td>\n",
       "      <td>65</td>\n",
       "      <td>1.591912</td>\n",
       "      <td>1.645363</td>\n",
       "    </tr>\n",
       "    <tr>\n",
       "      <th>104</th>\n",
       "      <td>Arun Jaitley Stadium</td>\n",
       "      <td>1</td>\n",
       "      <td>Sunrisers Hyderabad</td>\n",
       "      <td>Chennai Super Kings</td>\n",
       "      <td>1</td>\n",
       "      <td>39</td>\n",
       "      <td>1.152778</td>\n",
       "      <td>1.026316</td>\n",
       "    </tr>\n",
       "    <tr>\n",
       "      <th>105</th>\n",
       "      <td>Arun Jaitley Stadium</td>\n",
       "      <td>2</td>\n",
       "      <td>Chennai Super Kings</td>\n",
       "      <td>Sunrisers Hyderabad</td>\n",
       "      <td>0</td>\n",
       "      <td>50</td>\n",
       "      <td>1.342105</td>\n",
       "      <td>1.538012</td>\n",
       "    </tr>\n",
       "    <tr>\n",
       "      <th>106</th>\n",
       "      <td>Arun Jaitley Stadium</td>\n",
       "      <td>1</td>\n",
       "      <td>Rajasthan Royals</td>\n",
       "      <td>Mumbai Indians</td>\n",
       "      <td>0</td>\n",
       "      <td>47</td>\n",
       "      <td>1.449091</td>\n",
       "      <td>1.541667</td>\n",
       "    </tr>\n",
       "    <tr>\n",
       "      <th>107</th>\n",
       "      <td>Arun Jaitley Stadium</td>\n",
       "      <td>2</td>\n",
       "      <td>Mumbai Indians</td>\n",
       "      <td>Rajasthan Royals</td>\n",
       "      <td>0</td>\n",
       "      <td>49</td>\n",
       "      <td>1.335913</td>\n",
       "      <td>1.562500</td>\n",
       "    </tr>\n",
       "  </tbody>\n",
       "</table>\n",
       "<p>108 rows × 8 columns</p>\n",
       "</div>"
      ],
      "text/plain": [
       "                    venue  innings                 batting_team  \\\n",
       "0    Arun Jaitley Stadium        1                 Punjab Kings   \n",
       "1    Arun Jaitley Stadium        2               Delhi Capitals   \n",
       "2    Arun Jaitley Stadium        1               Delhi Capitals   \n",
       "3    Arun Jaitley Stadium        2        Kolkata Knight Riders   \n",
       "4    Arun Jaitley Stadium        1               Delhi Capitals   \n",
       "..                    ...      ...                          ...   \n",
       "103      Wankhede Stadium        2  Royal Challengers Bangalore   \n",
       "104  Arun Jaitley Stadium        1          Sunrisers Hyderabad   \n",
       "105  Arun Jaitley Stadium        2          Chennai Super Kings   \n",
       "106  Arun Jaitley Stadium        1             Rajasthan Royals   \n",
       "107  Arun Jaitley Stadium        2               Mumbai Indians   \n",
       "\n",
       "              bowling_team  Wicket  total_runs  str_rate   ec_rate  \n",
       "0           Delhi Capitals       2          51  1.311218  1.342593  \n",
       "1             Punjab Kings       3          48  1.880000  1.634615  \n",
       "2    Kolkata Knight Riders       0          57  1.661905  1.550000  \n",
       "3           Delhi Capitals       4          51  1.203704  1.479167  \n",
       "4         Rajasthan Royals       1          62  1.166667  1.783333  \n",
       "..                     ...     ...         ...       ...       ...  \n",
       "103    Chennai Super Kings       2          65  1.591912  1.645363  \n",
       "104    Chennai Super Kings       1          39  1.152778  1.026316  \n",
       "105    Sunrisers Hyderabad       0          50  1.342105  1.538012  \n",
       "106         Mumbai Indians       0          47  1.449091  1.541667  \n",
       "107       Rajasthan Royals       0          49  1.335913  1.562500  \n",
       "\n",
       "[108 rows x 8 columns]"
      ]
     },
     "execution_count": 84,
     "metadata": {},
     "output_type": "execute_result"
    }
   ],
   "source": [
    "\n",
    "Match27=ipl_data[((ipl_data['bowling_team'].isin(['Chennai Super Kings'])  | ipl_data['bowling_team'].isin(['Mumbai Indians'])| ipl_data['batting_team'].isin(['Chennai Super Kings'])  | ipl_data['batting_team'].isin(['Mumbai Indians'])) & (ipl_data['match_id']>=1216492))|(ipl_data['venue'].isin(['Arun Jaitley Stadium']))]\n",
    "#Match23=ipl_data[((ipl_data['bowling_team'].isin(['Chennai Super Kings'])  | ipl_data['bowling_team'].isin(['Sunrisers Hyderabad'])| ipl_data['batting_team'].isin(['Chennai Super Kings'])  | ipl_data['batting_team'].isin(['Sunrisers Hyderabad'])) )|(ipl_data['venue'].isin(['Arun Jaitley Stadium']))]\n",
    "Match27=Match27.drop(columns=['match_id'])\n",
    "#Match21=Match21[Match21['total_runs']>=30]\n",
    "Match27=Match27.reset_index(drop=True)\n",
    "Match27"
   ]
  },
  {
   "cell_type": "code",
   "execution_count": 58,
   "metadata": {},
   "outputs": [],
   "source": [
    "Match26=ipl_data[((ipl_data['bowling_team'].isin(['Royal Challengers Bangalore'])  | ipl_data['bowling_team'].isin(['Punjab Kings'])| ipl_data['batting_team'].isin(['Royal Challengers Bangalore'])  | ipl_data['batting_team'].isin(['Punjab Kings'])) & (ipl_data['match_id']>=1216492))|(ipl_data['venue'].isin(['Narendra Modi Stadium']))]\n",
    "#Match23=ipl_data[((ipl_data['bowling_team'].isin(['Chennai Super Kings'])  | ipl_data['bowling_team'].isin(['Sunrisers Hyderabad'])| ipl_data['batting_team'].isin(['Chennai Super Kings'])  | ipl_data['batting_team'].isin(['Sunrisers Hyderabad'])) )|(ipl_data['venue'].isin(['Arun Jaitley Stadium']))]\n",
    "Match26=Match26.drop(columns=['match_id'])\n",
    "#Match21=Match21[Match21['total_runs']>=30]\n",
    "Match26=Match26.reset_index(drop=True)\n"
   ]
  },
  {
   "cell_type": "code",
   "execution_count": 59,
   "metadata": {},
   "outputs": [
    {
     "data": {
      "text/plain": [
       "(16, 8)"
      ]
     },
     "execution_count": 59,
     "metadata": {},
     "output_type": "execute_result"
    }
   ],
   "source": [
    "Match26[Match26['venue']=='Narendra Modi Stadium'].shape\n",
    "#Match23.shape"
   ]
  },
  {
   "cell_type": "code",
   "execution_count": 60,
   "metadata": {},
   "outputs": [
    {
     "ename": "NameError",
     "evalue": "name 'Match25' is not defined",
     "output_type": "error",
     "traceback": [
      "\u001b[1;31m---------------------------------------------------------------------------\u001b[0m",
      "\u001b[1;31mNameError\u001b[0m                                 Traceback (most recent call last)",
      "\u001b[1;32m<ipython-input-60-6cf57166796b>\u001b[0m in \u001b[0;36m<module>\u001b[1;34m\u001b[0m\n\u001b[1;32m----> 1\u001b[1;33m \u001b[0ma\u001b[0m\u001b[1;33m=\u001b[0m\u001b[0mMatch25\u001b[0m\u001b[1;33m[\u001b[0m\u001b[0mMatch25\u001b[0m\u001b[1;33m[\u001b[0m\u001b[1;34m'venue'\u001b[0m\u001b[1;33m]\u001b[0m\u001b[1;33m==\u001b[0m\u001b[1;34m'Narendra Modi Stadium'\u001b[0m\u001b[1;33m]\u001b[0m\u001b[1;33m\u001b[0m\u001b[1;33m\u001b[0m\u001b[0m\n\u001b[0m\u001b[0;32m      2\u001b[0m \u001b[0ma\u001b[0m\u001b[1;33m\u001b[0m\u001b[1;33m\u001b[0m\u001b[0m\n\u001b[0;32m      3\u001b[0m \u001b[1;31m#a.groupby(['venue','innings']).total_runs.mean()\u001b[0m\u001b[1;33m\u001b[0m\u001b[1;33m\u001b[0m\u001b[1;33m\u001b[0m\u001b[0m\n",
      "\u001b[1;31mNameError\u001b[0m: name 'Match25' is not defined"
     ]
    }
   ],
   "source": [
    "a=Match25[Match25['venue']=='Narendra Modi Stadium']\n",
    "a\n",
    "#a.groupby(['venue','innings']).total_runs.mean()"
   ]
  },
  {
   "cell_type": "code",
   "execution_count": null,
   "metadata": {},
   "outputs": [],
   "source": [
    "Match25[Match25['venue']=='Narendra Modi Stadium']"
   ]
  },
  {
   "cell_type": "code",
   "execution_count": 97,
   "metadata": {},
   "outputs": [],
   "source": [
    "#ipl_data=ipl_data.drop(columns=['match_id'])\n",
    "#ipl_data=ipl_data.drop(columns=['balls'])"
   ]
  },
  {
   "cell_type": "code",
   "execution_count": 85,
   "metadata": {},
   "outputs": [
    {
     "data": {
      "text/html": [
       "<div>\n",
       "<style scoped>\n",
       "    .dataframe tbody tr th:only-of-type {\n",
       "        vertical-align: middle;\n",
       "    }\n",
       "\n",
       "    .dataframe tbody tr th {\n",
       "        vertical-align: top;\n",
       "    }\n",
       "\n",
       "    .dataframe thead th {\n",
       "        text-align: right;\n",
       "    }\n",
       "</style>\n",
       "<table border=\"1\" class=\"dataframe\">\n",
       "  <thead>\n",
       "    <tr style=\"text-align: right;\">\n",
       "      <th></th>\n",
       "      <th>venue</th>\n",
       "      <th>innings</th>\n",
       "      <th>batting_team</th>\n",
       "      <th>bowling_team</th>\n",
       "      <th>Wicket</th>\n",
       "      <th>total_runs</th>\n",
       "      <th>str_rate</th>\n",
       "      <th>ec_rate</th>\n",
       "    </tr>\n",
       "  </thead>\n",
       "  <tbody>\n",
       "    <tr>\n",
       "      <th>0</th>\n",
       "      <td>Arun Jaitley Stadium</td>\n",
       "      <td>1</td>\n",
       "      <td>Punjab Kings</td>\n",
       "      <td>Delhi Capitals</td>\n",
       "      <td>2</td>\n",
       "      <td>51</td>\n",
       "      <td>1.311218</td>\n",
       "      <td>1.342593</td>\n",
       "    </tr>\n",
       "    <tr>\n",
       "      <th>1</th>\n",
       "      <td>Arun Jaitley Stadium</td>\n",
       "      <td>2</td>\n",
       "      <td>Delhi Capitals</td>\n",
       "      <td>Punjab Kings</td>\n",
       "      <td>3</td>\n",
       "      <td>48</td>\n",
       "      <td>1.880000</td>\n",
       "      <td>1.634615</td>\n",
       "    </tr>\n",
       "    <tr>\n",
       "      <th>2</th>\n",
       "      <td>Arun Jaitley Stadium</td>\n",
       "      <td>1</td>\n",
       "      <td>Delhi Capitals</td>\n",
       "      <td>Kolkata Knight Riders</td>\n",
       "      <td>0</td>\n",
       "      <td>57</td>\n",
       "      <td>1.661905</td>\n",
       "      <td>1.550000</td>\n",
       "    </tr>\n",
       "    <tr>\n",
       "      <th>3</th>\n",
       "      <td>Arun Jaitley Stadium</td>\n",
       "      <td>2</td>\n",
       "      <td>Kolkata Knight Riders</td>\n",
       "      <td>Delhi Capitals</td>\n",
       "      <td>4</td>\n",
       "      <td>51</td>\n",
       "      <td>1.203704</td>\n",
       "      <td>1.479167</td>\n",
       "    </tr>\n",
       "    <tr>\n",
       "      <th>4</th>\n",
       "      <td>Arun Jaitley Stadium</td>\n",
       "      <td>1</td>\n",
       "      <td>Delhi Capitals</td>\n",
       "      <td>Rajasthan Royals</td>\n",
       "      <td>1</td>\n",
       "      <td>62</td>\n",
       "      <td>1.166667</td>\n",
       "      <td>1.783333</td>\n",
       "    </tr>\n",
       "    <tr>\n",
       "      <th>5</th>\n",
       "      <td>Arun Jaitley Stadium</td>\n",
       "      <td>2</td>\n",
       "      <td>Rajasthan Royals</td>\n",
       "      <td>Delhi Capitals</td>\n",
       "      <td>0</td>\n",
       "      <td>79</td>\n",
       "      <td>1.818333</td>\n",
       "      <td>1.995238</td>\n",
       "    </tr>\n",
       "    <tr>\n",
       "      <th>6</th>\n",
       "      <td>Arun Jaitley Stadium</td>\n",
       "      <td>1</td>\n",
       "      <td>Delhi Capitals</td>\n",
       "      <td>Sunrisers Hyderabad</td>\n",
       "      <td>2</td>\n",
       "      <td>38</td>\n",
       "      <td>1.056743</td>\n",
       "      <td>1.208333</td>\n",
       "    </tr>\n",
       "    <tr>\n",
       "      <th>7</th>\n",
       "      <td>Arun Jaitley Stadium</td>\n",
       "      <td>2</td>\n",
       "      <td>Sunrisers Hyderabad</td>\n",
       "      <td>Delhi Capitals</td>\n",
       "      <td>1</td>\n",
       "      <td>51</td>\n",
       "      <td>1.438889</td>\n",
       "      <td>1.333333</td>\n",
       "    </tr>\n",
       "    <tr>\n",
       "      <th>8</th>\n",
       "      <td>Arun Jaitley Stadium</td>\n",
       "      <td>1</td>\n",
       "      <td>Delhi Capitals</td>\n",
       "      <td>Royal Challengers Bangalore</td>\n",
       "      <td>2</td>\n",
       "      <td>44</td>\n",
       "      <td>1.046154</td>\n",
       "      <td>1.149573</td>\n",
       "    </tr>\n",
       "    <tr>\n",
       "      <th>9</th>\n",
       "      <td>Arun Jaitley Stadium</td>\n",
       "      <td>2</td>\n",
       "      <td>Royal Challengers Bangalore</td>\n",
       "      <td>Delhi Capitals</td>\n",
       "      <td>2</td>\n",
       "      <td>58</td>\n",
       "      <td>1.222222</td>\n",
       "      <td>1.669643</td>\n",
       "    </tr>\n",
       "    <tr>\n",
       "      <th>10</th>\n",
       "      <td>Arun Jaitley Stadium</td>\n",
       "      <td>1</td>\n",
       "      <td>Delhi Capitals</td>\n",
       "      <td>Chennai Super Kings</td>\n",
       "      <td>1</td>\n",
       "      <td>39</td>\n",
       "      <td>1.027778</td>\n",
       "      <td>0.954167</td>\n",
       "    </tr>\n",
       "    <tr>\n",
       "      <th>11</th>\n",
       "      <td>Arun Jaitley Stadium</td>\n",
       "      <td>2</td>\n",
       "      <td>Chennai Super Kings</td>\n",
       "      <td>Delhi Capitals</td>\n",
       "      <td>0</td>\n",
       "      <td>44</td>\n",
       "      <td>1.287500</td>\n",
       "      <td>1.000000</td>\n",
       "    </tr>\n",
       "    <tr>\n",
       "      <th>12</th>\n",
       "      <td>Arun Jaitley Stadium</td>\n",
       "      <td>1</td>\n",
       "      <td>Delhi Capitals</td>\n",
       "      <td>Mumbai Indians</td>\n",
       "      <td>2</td>\n",
       "      <td>46</td>\n",
       "      <td>1.099781</td>\n",
       "      <td>1.326923</td>\n",
       "    </tr>\n",
       "    <tr>\n",
       "      <th>13</th>\n",
       "      <td>Arun Jaitley Stadium</td>\n",
       "      <td>2</td>\n",
       "      <td>Mumbai Indians</td>\n",
       "      <td>Delhi Capitals</td>\n",
       "      <td>1</td>\n",
       "      <td>55</td>\n",
       "      <td>1.772222</td>\n",
       "      <td>1.516667</td>\n",
       "    </tr>\n",
       "    <tr>\n",
       "      <th>14</th>\n",
       "      <td>Arun Jaitley Stadium</td>\n",
       "      <td>1</td>\n",
       "      <td>Delhi Capitals</td>\n",
       "      <td>Chennai Super Kings</td>\n",
       "      <td>1</td>\n",
       "      <td>43</td>\n",
       "      <td>0.906318</td>\n",
       "      <td>1.340081</td>\n",
       "    </tr>\n",
       "    <tr>\n",
       "      <th>15</th>\n",
       "      <td>Arun Jaitley Stadium</td>\n",
       "      <td>2</td>\n",
       "      <td>Chennai Super Kings</td>\n",
       "      <td>Delhi Capitals</td>\n",
       "      <td>1</td>\n",
       "      <td>58</td>\n",
       "      <td>1.639731</td>\n",
       "      <td>1.564815</td>\n",
       "    </tr>\n",
       "    <tr>\n",
       "      <th>16</th>\n",
       "      <td>Arun Jaitley Stadium</td>\n",
       "      <td>1</td>\n",
       "      <td>Kolkata Knight Riders</td>\n",
       "      <td>Delhi Capitals</td>\n",
       "      <td>1</td>\n",
       "      <td>36</td>\n",
       "      <td>1.172736</td>\n",
       "      <td>1.053571</td>\n",
       "    </tr>\n",
       "    <tr>\n",
       "      <th>17</th>\n",
       "      <td>Arun Jaitley Stadium</td>\n",
       "      <td>2</td>\n",
       "      <td>Delhi Capitals</td>\n",
       "      <td>Kolkata Knight Riders</td>\n",
       "      <td>1</td>\n",
       "      <td>45</td>\n",
       "      <td>1.276144</td>\n",
       "      <td>1.358974</td>\n",
       "    </tr>\n",
       "    <tr>\n",
       "      <th>18</th>\n",
       "      <td>Arun Jaitley Stadium</td>\n",
       "      <td>1</td>\n",
       "      <td>Delhi Capitals</td>\n",
       "      <td>Sunrisers Hyderabad</td>\n",
       "      <td>1</td>\n",
       "      <td>36</td>\n",
       "      <td>1.006494</td>\n",
       "      <td>1.046296</td>\n",
       "    </tr>\n",
       "    <tr>\n",
       "      <th>19</th>\n",
       "      <td>Arun Jaitley Stadium</td>\n",
       "      <td>2</td>\n",
       "      <td>Sunrisers Hyderabad</td>\n",
       "      <td>Delhi Capitals</td>\n",
       "      <td>0</td>\n",
       "      <td>62</td>\n",
       "      <td>1.454545</td>\n",
       "      <td>1.895833</td>\n",
       "    </tr>\n",
       "    <tr>\n",
       "      <th>20</th>\n",
       "      <td>Arun Jaitley Stadium</td>\n",
       "      <td>1</td>\n",
       "      <td>Mumbai Indians</td>\n",
       "      <td>Delhi Capitals</td>\n",
       "      <td>0</td>\n",
       "      <td>56</td>\n",
       "      <td>1.562500</td>\n",
       "      <td>1.833333</td>\n",
       "    </tr>\n",
       "    <tr>\n",
       "      <th>21</th>\n",
       "      <td>Arun Jaitley Stadium</td>\n",
       "      <td>2</td>\n",
       "      <td>Delhi Capitals</td>\n",
       "      <td>Mumbai Indians</td>\n",
       "      <td>0</td>\n",
       "      <td>48</td>\n",
       "      <td>1.266667</td>\n",
       "      <td>1.333333</td>\n",
       "    </tr>\n",
       "    <tr>\n",
       "      <th>22</th>\n",
       "      <td>Arun Jaitley Stadium</td>\n",
       "      <td>1</td>\n",
       "      <td>Punjab Kings</td>\n",
       "      <td>Delhi Capitals</td>\n",
       "      <td>2</td>\n",
       "      <td>50</td>\n",
       "      <td>1.859477</td>\n",
       "      <td>1.324074</td>\n",
       "    </tr>\n",
       "    <tr>\n",
       "      <th>23</th>\n",
       "      <td>Arun Jaitley Stadium</td>\n",
       "      <td>2</td>\n",
       "      <td>Delhi Capitals</td>\n",
       "      <td>Punjab Kings</td>\n",
       "      <td>1</td>\n",
       "      <td>60</td>\n",
       "      <td>1.642617</td>\n",
       "      <td>1.783333</td>\n",
       "    </tr>\n",
       "    <tr>\n",
       "      <th>24</th>\n",
       "      <td>Arun Jaitley Stadium</td>\n",
       "      <td>1</td>\n",
       "      <td>Delhi Capitals</td>\n",
       "      <td>Royal Challengers Bangalore</td>\n",
       "      <td>1</td>\n",
       "      <td>59</td>\n",
       "      <td>1.620050</td>\n",
       "      <td>1.819444</td>\n",
       "    </tr>\n",
       "    <tr>\n",
       "      <th>25</th>\n",
       "      <td>Arun Jaitley Stadium</td>\n",
       "      <td>2</td>\n",
       "      <td>Royal Challengers Bangalore</td>\n",
       "      <td>Delhi Capitals</td>\n",
       "      <td>1</td>\n",
       "      <td>64</td>\n",
       "      <td>1.511111</td>\n",
       "      <td>1.854167</td>\n",
       "    </tr>\n",
       "    <tr>\n",
       "      <th>26</th>\n",
       "      <td>Arun Jaitley Stadium</td>\n",
       "      <td>1</td>\n",
       "      <td>Rajasthan Royals</td>\n",
       "      <td>Delhi Capitals</td>\n",
       "      <td>4</td>\n",
       "      <td>30</td>\n",
       "      <td>0.818376</td>\n",
       "      <td>0.686610</td>\n",
       "    </tr>\n",
       "    <tr>\n",
       "      <th>27</th>\n",
       "      <td>Arun Jaitley Stadium</td>\n",
       "      <td>2</td>\n",
       "      <td>Delhi Capitals</td>\n",
       "      <td>Rajasthan Royals</td>\n",
       "      <td>2</td>\n",
       "      <td>46</td>\n",
       "      <td>1.350000</td>\n",
       "      <td>1.250000</td>\n",
       "    </tr>\n",
       "    <tr>\n",
       "      <th>28</th>\n",
       "      <td>Sheikh Zayed Stadium</td>\n",
       "      <td>1</td>\n",
       "      <td>Mumbai Indians</td>\n",
       "      <td>Chennai Super Kings</td>\n",
       "      <td>2</td>\n",
       "      <td>51</td>\n",
       "      <td>1.010227</td>\n",
       "      <td>1.312500</td>\n",
       "    </tr>\n",
       "    <tr>\n",
       "      <th>29</th>\n",
       "      <td>Sheikh Zayed Stadium</td>\n",
       "      <td>2</td>\n",
       "      <td>Chennai Super Kings</td>\n",
       "      <td>Mumbai Indians</td>\n",
       "      <td>2</td>\n",
       "      <td>31</td>\n",
       "      <td>0.778234</td>\n",
       "      <td>0.927350</td>\n",
       "    </tr>\n",
       "    <tr>\n",
       "      <th>30</th>\n",
       "      <td>Sharjah Cricket Stadium</td>\n",
       "      <td>1</td>\n",
       "      <td>Mumbai Indians</td>\n",
       "      <td>Sunrisers Hyderabad</td>\n",
       "      <td>2</td>\n",
       "      <td>48</td>\n",
       "      <td>1.019460</td>\n",
       "      <td>1.333333</td>\n",
       "    </tr>\n",
       "    <tr>\n",
       "      <th>31</th>\n",
       "      <td>Sharjah Cricket Stadium</td>\n",
       "      <td>2</td>\n",
       "      <td>Sunrisers Hyderabad</td>\n",
       "      <td>Mumbai Indians</td>\n",
       "      <td>0</td>\n",
       "      <td>55</td>\n",
       "      <td>1.498529</td>\n",
       "      <td>1.645833</td>\n",
       "    </tr>\n",
       "    <tr>\n",
       "      <th>32</th>\n",
       "      <td>Sharjah Cricket Stadium</td>\n",
       "      <td>1</td>\n",
       "      <td>Rajasthan Royals</td>\n",
       "      <td>Chennai Super Kings</td>\n",
       "      <td>1</td>\n",
       "      <td>54</td>\n",
       "      <td>1.421053</td>\n",
       "      <td>1.454416</td>\n",
       "    </tr>\n",
       "    <tr>\n",
       "      <th>33</th>\n",
       "      <td>Sharjah Cricket Stadium</td>\n",
       "      <td>2</td>\n",
       "      <td>Chennai Super Kings</td>\n",
       "      <td>Rajasthan Royals</td>\n",
       "      <td>0</td>\n",
       "      <td>53</td>\n",
       "      <td>1.413235</td>\n",
       "      <td>1.661859</td>\n",
       "    </tr>\n",
       "    <tr>\n",
       "      <th>34</th>\n",
       "      <td>Sheikh Zayed Stadium</td>\n",
       "      <td>1</td>\n",
       "      <td>Royal Challengers Bangalore</td>\n",
       "      <td>Mumbai Indians</td>\n",
       "      <td>0</td>\n",
       "      <td>54</td>\n",
       "      <td>1.510836</td>\n",
       "      <td>1.479167</td>\n",
       "    </tr>\n",
       "    <tr>\n",
       "      <th>35</th>\n",
       "      <td>Sheikh Zayed Stadium</td>\n",
       "      <td>2</td>\n",
       "      <td>Mumbai Indians</td>\n",
       "      <td>Royal Challengers Bangalore</td>\n",
       "      <td>1</td>\n",
       "      <td>41</td>\n",
       "      <td>1.212615</td>\n",
       "      <td>1.062500</td>\n",
       "    </tr>\n",
       "    <tr>\n",
       "      <th>36</th>\n",
       "      <td>Sheikh Zayed Stadium</td>\n",
       "      <td>1</td>\n",
       "      <td>Kolkata Knight Riders</td>\n",
       "      <td>Chennai Super Kings</td>\n",
       "      <td>1</td>\n",
       "      <td>51</td>\n",
       "      <td>1.207692</td>\n",
       "      <td>1.188388</td>\n",
       "    </tr>\n",
       "    <tr>\n",
       "      <th>37</th>\n",
       "      <td>Sheikh Zayed Stadium</td>\n",
       "      <td>2</td>\n",
       "      <td>Chennai Super Kings</td>\n",
       "      <td>Kolkata Knight Riders</td>\n",
       "      <td>1</td>\n",
       "      <td>54</td>\n",
       "      <td>1.492857</td>\n",
       "      <td>1.467836</td>\n",
       "    </tr>\n",
       "    <tr>\n",
       "      <th>38</th>\n",
       "      <td>Sheikh Zayed Stadium</td>\n",
       "      <td>1</td>\n",
       "      <td>Mumbai Indians</td>\n",
       "      <td>Punjab Kings</td>\n",
       "      <td>2</td>\n",
       "      <td>41</td>\n",
       "      <td>0.926587</td>\n",
       "      <td>1.199875</td>\n",
       "    </tr>\n",
       "    <tr>\n",
       "      <th>39</th>\n",
       "      <td>Sheikh Zayed Stadium</td>\n",
       "      <td>2</td>\n",
       "      <td>Punjab Kings</td>\n",
       "      <td>Mumbai Indians</td>\n",
       "      <td>2</td>\n",
       "      <td>41</td>\n",
       "      <td>0.842105</td>\n",
       "      <td>1.053571</td>\n",
       "    </tr>\n",
       "    <tr>\n",
       "      <th>40</th>\n",
       "      <td>Sheikh Zayed Stadium</td>\n",
       "      <td>1</td>\n",
       "      <td>Punjab Kings</td>\n",
       "      <td>Chennai Super Kings</td>\n",
       "      <td>1</td>\n",
       "      <td>53</td>\n",
       "      <td>1.200585</td>\n",
       "      <td>1.500000</td>\n",
       "    </tr>\n",
       "    <tr>\n",
       "      <th>41</th>\n",
       "      <td>Sheikh Zayed Stadium</td>\n",
       "      <td>2</td>\n",
       "      <td>Chennai Super Kings</td>\n",
       "      <td>Punjab Kings</td>\n",
       "      <td>0</td>\n",
       "      <td>57</td>\n",
       "      <td>1.500000</td>\n",
       "      <td>1.634615</td>\n",
       "    </tr>\n",
       "    <tr>\n",
       "      <th>42</th>\n",
       "      <td>Sheikh Zayed Stadium</td>\n",
       "      <td>1</td>\n",
       "      <td>Mumbai Indians</td>\n",
       "      <td>Kolkata Knight Riders</td>\n",
       "      <td>1</td>\n",
       "      <td>59</td>\n",
       "      <td>1.294095</td>\n",
       "      <td>1.643086</td>\n",
       "    </tr>\n",
       "    <tr>\n",
       "      <th>43</th>\n",
       "      <td>Sheikh Zayed Stadium</td>\n",
       "      <td>2</td>\n",
       "      <td>Kolkata Knight Riders</td>\n",
       "      <td>Mumbai Indians</td>\n",
       "      <td>2</td>\n",
       "      <td>33</td>\n",
       "      <td>0.953535</td>\n",
       "      <td>0.875000</td>\n",
       "    </tr>\n",
       "    <tr>\n",
       "      <th>44</th>\n",
       "      <td>Sharjah Cricket Stadium</td>\n",
       "      <td>1</td>\n",
       "      <td>Chennai Super Kings</td>\n",
       "      <td>Delhi Capitals</td>\n",
       "      <td>1</td>\n",
       "      <td>39</td>\n",
       "      <td>0.750000</td>\n",
       "      <td>1.147436</td>\n",
       "    </tr>\n",
       "    <tr>\n",
       "      <th>45</th>\n",
       "      <td>Sharjah Cricket Stadium</td>\n",
       "      <td>2</td>\n",
       "      <td>Delhi Capitals</td>\n",
       "      <td>Chennai Super Kings</td>\n",
       "      <td>2</td>\n",
       "      <td>41</td>\n",
       "      <td>0.856250</td>\n",
       "      <td>1.240741</td>\n",
       "    </tr>\n",
       "    <tr>\n",
       "      <th>46</th>\n",
       "      <td>Sheikh Zayed Stadium</td>\n",
       "      <td>1</td>\n",
       "      <td>Mumbai Indians</td>\n",
       "      <td>Rajasthan Royals</td>\n",
       "      <td>1</td>\n",
       "      <td>57</td>\n",
       "      <td>1.508333</td>\n",
       "      <td>1.451282</td>\n",
       "    </tr>\n",
       "    <tr>\n",
       "      <th>47</th>\n",
       "      <td>Sheikh Zayed Stadium</td>\n",
       "      <td>2</td>\n",
       "      <td>Rajasthan Royals</td>\n",
       "      <td>Mumbai Indians</td>\n",
       "      <td>3</td>\n",
       "      <td>31</td>\n",
       "      <td>0.584762</td>\n",
       "      <td>0.925926</td>\n",
       "    </tr>\n",
       "    <tr>\n",
       "      <th>48</th>\n",
       "      <td>Dubai International Cricket Stadium</td>\n",
       "      <td>1</td>\n",
       "      <td>Punjab Kings</td>\n",
       "      <td>Chennai Super Kings</td>\n",
       "      <td>0</td>\n",
       "      <td>46</td>\n",
       "      <td>1.304762</td>\n",
       "      <td>1.333333</td>\n",
       "    </tr>\n",
       "    <tr>\n",
       "      <th>49</th>\n",
       "      <td>Dubai International Cricket Stadium</td>\n",
       "      <td>2</td>\n",
       "      <td>Chennai Super Kings</td>\n",
       "      <td>Punjab Kings</td>\n",
       "      <td>0</td>\n",
       "      <td>60</td>\n",
       "      <td>1.591667</td>\n",
       "      <td>1.744048</td>\n",
       "    </tr>\n",
       "  </tbody>\n",
       "</table>\n",
       "</div>"
      ],
      "text/plain": [
       "                                  venue  innings                 batting_team  \\\n",
       "0                  Arun Jaitley Stadium        1                 Punjab Kings   \n",
       "1                  Arun Jaitley Stadium        2               Delhi Capitals   \n",
       "2                  Arun Jaitley Stadium        1               Delhi Capitals   \n",
       "3                  Arun Jaitley Stadium        2        Kolkata Knight Riders   \n",
       "4                  Arun Jaitley Stadium        1               Delhi Capitals   \n",
       "5                  Arun Jaitley Stadium        2             Rajasthan Royals   \n",
       "6                  Arun Jaitley Stadium        1               Delhi Capitals   \n",
       "7                  Arun Jaitley Stadium        2          Sunrisers Hyderabad   \n",
       "8                  Arun Jaitley Stadium        1               Delhi Capitals   \n",
       "9                  Arun Jaitley Stadium        2  Royal Challengers Bangalore   \n",
       "10                 Arun Jaitley Stadium        1               Delhi Capitals   \n",
       "11                 Arun Jaitley Stadium        2          Chennai Super Kings   \n",
       "12                 Arun Jaitley Stadium        1               Delhi Capitals   \n",
       "13                 Arun Jaitley Stadium        2               Mumbai Indians   \n",
       "14                 Arun Jaitley Stadium        1               Delhi Capitals   \n",
       "15                 Arun Jaitley Stadium        2          Chennai Super Kings   \n",
       "16                 Arun Jaitley Stadium        1        Kolkata Knight Riders   \n",
       "17                 Arun Jaitley Stadium        2               Delhi Capitals   \n",
       "18                 Arun Jaitley Stadium        1               Delhi Capitals   \n",
       "19                 Arun Jaitley Stadium        2          Sunrisers Hyderabad   \n",
       "20                 Arun Jaitley Stadium        1               Mumbai Indians   \n",
       "21                 Arun Jaitley Stadium        2               Delhi Capitals   \n",
       "22                 Arun Jaitley Stadium        1                 Punjab Kings   \n",
       "23                 Arun Jaitley Stadium        2               Delhi Capitals   \n",
       "24                 Arun Jaitley Stadium        1               Delhi Capitals   \n",
       "25                 Arun Jaitley Stadium        2  Royal Challengers Bangalore   \n",
       "26                 Arun Jaitley Stadium        1             Rajasthan Royals   \n",
       "27                 Arun Jaitley Stadium        2               Delhi Capitals   \n",
       "28                 Sheikh Zayed Stadium        1               Mumbai Indians   \n",
       "29                 Sheikh Zayed Stadium        2          Chennai Super Kings   \n",
       "30              Sharjah Cricket Stadium        1               Mumbai Indians   \n",
       "31              Sharjah Cricket Stadium        2          Sunrisers Hyderabad   \n",
       "32              Sharjah Cricket Stadium        1             Rajasthan Royals   \n",
       "33              Sharjah Cricket Stadium        2          Chennai Super Kings   \n",
       "34                 Sheikh Zayed Stadium        1  Royal Challengers Bangalore   \n",
       "35                 Sheikh Zayed Stadium        2               Mumbai Indians   \n",
       "36                 Sheikh Zayed Stadium        1        Kolkata Knight Riders   \n",
       "37                 Sheikh Zayed Stadium        2          Chennai Super Kings   \n",
       "38                 Sheikh Zayed Stadium        1               Mumbai Indians   \n",
       "39                 Sheikh Zayed Stadium        2                 Punjab Kings   \n",
       "40                 Sheikh Zayed Stadium        1                 Punjab Kings   \n",
       "41                 Sheikh Zayed Stadium        2          Chennai Super Kings   \n",
       "42                 Sheikh Zayed Stadium        1               Mumbai Indians   \n",
       "43                 Sheikh Zayed Stadium        2        Kolkata Knight Riders   \n",
       "44              Sharjah Cricket Stadium        1          Chennai Super Kings   \n",
       "45              Sharjah Cricket Stadium        2               Delhi Capitals   \n",
       "46                 Sheikh Zayed Stadium        1               Mumbai Indians   \n",
       "47                 Sheikh Zayed Stadium        2             Rajasthan Royals   \n",
       "48  Dubai International Cricket Stadium        1                 Punjab Kings   \n",
       "49  Dubai International Cricket Stadium        2          Chennai Super Kings   \n",
       "\n",
       "                   bowling_team  Wicket  total_runs  str_rate   ec_rate  \n",
       "0                Delhi Capitals       2          51  1.311218  1.342593  \n",
       "1                  Punjab Kings       3          48  1.880000  1.634615  \n",
       "2         Kolkata Knight Riders       0          57  1.661905  1.550000  \n",
       "3                Delhi Capitals       4          51  1.203704  1.479167  \n",
       "4              Rajasthan Royals       1          62  1.166667  1.783333  \n",
       "5                Delhi Capitals       0          79  1.818333  1.995238  \n",
       "6           Sunrisers Hyderabad       2          38  1.056743  1.208333  \n",
       "7                Delhi Capitals       1          51  1.438889  1.333333  \n",
       "8   Royal Challengers Bangalore       2          44  1.046154  1.149573  \n",
       "9                Delhi Capitals       2          58  1.222222  1.669643  \n",
       "10          Chennai Super Kings       1          39  1.027778  0.954167  \n",
       "11               Delhi Capitals       0          44  1.287500  1.000000  \n",
       "12               Mumbai Indians       2          46  1.099781  1.326923  \n",
       "13               Delhi Capitals       1          55  1.772222  1.516667  \n",
       "14          Chennai Super Kings       1          43  0.906318  1.340081  \n",
       "15               Delhi Capitals       1          58  1.639731  1.564815  \n",
       "16               Delhi Capitals       1          36  1.172736  1.053571  \n",
       "17        Kolkata Knight Riders       1          45  1.276144  1.358974  \n",
       "18          Sunrisers Hyderabad       1          36  1.006494  1.046296  \n",
       "19               Delhi Capitals       0          62  1.454545  1.895833  \n",
       "20               Delhi Capitals       0          56  1.562500  1.833333  \n",
       "21               Mumbai Indians       0          48  1.266667  1.333333  \n",
       "22               Delhi Capitals       2          50  1.859477  1.324074  \n",
       "23                 Punjab Kings       1          60  1.642617  1.783333  \n",
       "24  Royal Challengers Bangalore       1          59  1.620050  1.819444  \n",
       "25               Delhi Capitals       1          64  1.511111  1.854167  \n",
       "26               Delhi Capitals       4          30  0.818376  0.686610  \n",
       "27             Rajasthan Royals       2          46  1.350000  1.250000  \n",
       "28          Chennai Super Kings       2          51  1.010227  1.312500  \n",
       "29               Mumbai Indians       2          31  0.778234  0.927350  \n",
       "30          Sunrisers Hyderabad       2          48  1.019460  1.333333  \n",
       "31               Mumbai Indians       0          55  1.498529  1.645833  \n",
       "32          Chennai Super Kings       1          54  1.421053  1.454416  \n",
       "33             Rajasthan Royals       0          53  1.413235  1.661859  \n",
       "34               Mumbai Indians       0          54  1.510836  1.479167  \n",
       "35  Royal Challengers Bangalore       1          41  1.212615  1.062500  \n",
       "36          Chennai Super Kings       1          51  1.207692  1.188388  \n",
       "37        Kolkata Knight Riders       1          54  1.492857  1.467836  \n",
       "38                 Punjab Kings       2          41  0.926587  1.199875  \n",
       "39               Mumbai Indians       2          41  0.842105  1.053571  \n",
       "40          Chennai Super Kings       1          53  1.200585  1.500000  \n",
       "41                 Punjab Kings       0          57  1.500000  1.634615  \n",
       "42        Kolkata Knight Riders       1          59  1.294095  1.643086  \n",
       "43               Mumbai Indians       2          33  0.953535  0.875000  \n",
       "44               Delhi Capitals       1          39  0.750000  1.147436  \n",
       "45          Chennai Super Kings       2          41  0.856250  1.240741  \n",
       "46             Rajasthan Royals       1          57  1.508333  1.451282  \n",
       "47               Mumbai Indians       3          31  0.584762  0.925926  \n",
       "48          Chennai Super Kings       0          46  1.304762  1.333333  \n",
       "49                 Punjab Kings       0          60  1.591667  1.744048  "
      ]
     },
     "execution_count": 85,
     "metadata": {},
     "output_type": "execute_result"
    }
   ],
   "source": [
    "Match27.iloc[0:50,:]"
   ]
  },
  {
   "cell_type": "code",
   "execution_count": 86,
   "metadata": {},
   "outputs": [],
   "source": [
    "\n",
    "Match27.to_csv(\"Match27.csv\",index='False')"
   ]
  },
  {
   "cell_type": "code",
   "execution_count": 170,
   "metadata": {},
   "outputs": [],
   "source": [
    "\n",
    "Match25.to_csv(\"Match25.csv\",index='False')"
   ]
  },
  {
   "cell_type": "code",
   "execution_count": 48,
   "metadata": {},
   "outputs": [],
   "source": []
  },
  {
   "cell_type": "code",
   "execution_count": 87,
   "metadata": {},
   "outputs": [
    {
     "data": {
      "text/plain": [
       "total_runs    46.472222\n",
       "dtype: float64"
      ]
     },
     "execution_count": 87,
     "metadata": {},
     "output_type": "execute_result"
    }
   ],
   "source": [
    "Match27[['total_runs']].mean()"
   ]
  },
  {
   "cell_type": "code",
   "execution_count": 88,
   "metadata": {},
   "outputs": [
    {
     "ename": "NameError",
     "evalue": "name 'Match25' is not defined",
     "output_type": "error",
     "traceback": [
      "\u001b[1;31m---------------------------------------------------------------------------\u001b[0m",
      "\u001b[1;31mNameError\u001b[0m                                 Traceback (most recent call last)",
      "\u001b[1;32m<ipython-input-88-a1e0db722721>\u001b[0m in \u001b[0;36m<module>\u001b[1;34m\u001b[0m\n\u001b[1;32m----> 1\u001b[1;33m \u001b[0mMatch25\u001b[0m\u001b[1;33m[\u001b[0m\u001b[1;33m[\u001b[0m\u001b[1;34m'total_runs'\u001b[0m\u001b[1;33m]\u001b[0m\u001b[1;33m]\u001b[0m\u001b[1;33m.\u001b[0m\u001b[0mmean\u001b[0m\u001b[1;33m(\u001b[0m\u001b[1;33m)\u001b[0m\u001b[1;33m\u001b[0m\u001b[1;33m\u001b[0m\u001b[0m\n\u001b[0m",
      "\u001b[1;31mNameError\u001b[0m: name 'Match25' is not defined"
     ]
    }
   ],
   "source": [
    "Match25[['total_runs']].mean()"
   ]
  },
  {
   "cell_type": "code",
   "execution_count": 42,
   "metadata": {},
   "outputs": [],
   "source": [
    "#sns.pairplot(Match21,hue='innings')"
   ]
  },
  {
   "cell_type": "code",
   "execution_count": 43,
   "metadata": {},
   "outputs": [],
   "source": [
    "#Match21.describe().transpose()"
   ]
  },
  {
   "cell_type": "code",
   "execution_count": 89,
   "metadata": {},
   "outputs": [
    {
     "data": {
      "text/html": [
       "<div>\n",
       "<style scoped>\n",
       "    .dataframe tbody tr th:only-of-type {\n",
       "        vertical-align: middle;\n",
       "    }\n",
       "\n",
       "    .dataframe tbody tr th {\n",
       "        vertical-align: top;\n",
       "    }\n",
       "\n",
       "    .dataframe thead th {\n",
       "        text-align: right;\n",
       "    }\n",
       "</style>\n",
       "<table border=\"1\" class=\"dataframe\">\n",
       "  <thead>\n",
       "    <tr style=\"text-align: right;\">\n",
       "      <th></th>\n",
       "      <th>venue</th>\n",
       "      <th>innings</th>\n",
       "      <th>batting_team</th>\n",
       "      <th>bowling_team</th>\n",
       "      <th>Wicket</th>\n",
       "      <th>total_runs</th>\n",
       "      <th>str_rate</th>\n",
       "      <th>ec_rate</th>\n",
       "    </tr>\n",
       "  </thead>\n",
       "  <tbody>\n",
       "    <tr>\n",
       "      <th>103</th>\n",
       "      <td>Wankhede Stadium</td>\n",
       "      <td>2</td>\n",
       "      <td>Royal Challengers Bangalore</td>\n",
       "      <td>Chennai Super Kings</td>\n",
       "      <td>2</td>\n",
       "      <td>65</td>\n",
       "      <td>1.591912</td>\n",
       "      <td>1.645363</td>\n",
       "    </tr>\n",
       "    <tr>\n",
       "      <th>104</th>\n",
       "      <td>Arun Jaitley Stadium</td>\n",
       "      <td>1</td>\n",
       "      <td>Sunrisers Hyderabad</td>\n",
       "      <td>Chennai Super Kings</td>\n",
       "      <td>1</td>\n",
       "      <td>39</td>\n",
       "      <td>1.152778</td>\n",
       "      <td>1.026316</td>\n",
       "    </tr>\n",
       "    <tr>\n",
       "      <th>105</th>\n",
       "      <td>Arun Jaitley Stadium</td>\n",
       "      <td>2</td>\n",
       "      <td>Chennai Super Kings</td>\n",
       "      <td>Sunrisers Hyderabad</td>\n",
       "      <td>0</td>\n",
       "      <td>50</td>\n",
       "      <td>1.342105</td>\n",
       "      <td>1.538012</td>\n",
       "    </tr>\n",
       "    <tr>\n",
       "      <th>106</th>\n",
       "      <td>Arun Jaitley Stadium</td>\n",
       "      <td>1</td>\n",
       "      <td>Rajasthan Royals</td>\n",
       "      <td>Mumbai Indians</td>\n",
       "      <td>0</td>\n",
       "      <td>47</td>\n",
       "      <td>1.449091</td>\n",
       "      <td>1.541667</td>\n",
       "    </tr>\n",
       "    <tr>\n",
       "      <th>107</th>\n",
       "      <td>Arun Jaitley Stadium</td>\n",
       "      <td>2</td>\n",
       "      <td>Mumbai Indians</td>\n",
       "      <td>Rajasthan Royals</td>\n",
       "      <td>0</td>\n",
       "      <td>49</td>\n",
       "      <td>1.335913</td>\n",
       "      <td>1.562500</td>\n",
       "    </tr>\n",
       "  </tbody>\n",
       "</table>\n",
       "</div>"
      ],
      "text/plain": [
       "                    venue  innings                 batting_team  \\\n",
       "103      Wankhede Stadium        2  Royal Challengers Bangalore   \n",
       "104  Arun Jaitley Stadium        1          Sunrisers Hyderabad   \n",
       "105  Arun Jaitley Stadium        2          Chennai Super Kings   \n",
       "106  Arun Jaitley Stadium        1             Rajasthan Royals   \n",
       "107  Arun Jaitley Stadium        2               Mumbai Indians   \n",
       "\n",
       "            bowling_team  Wicket  total_runs  str_rate   ec_rate  \n",
       "103  Chennai Super Kings       2          65  1.591912  1.645363  \n",
       "104  Chennai Super Kings       1          39  1.152778  1.026316  \n",
       "105  Sunrisers Hyderabad       0          50  1.342105  1.538012  \n",
       "106       Mumbai Indians       0          47  1.449091  1.541667  \n",
       "107     Rajasthan Royals       0          49  1.335913  1.562500  "
      ]
     },
     "execution_count": 89,
     "metadata": {},
     "output_type": "execute_result"
    }
   ],
   "source": [
    "Match27.tail()"
   ]
  },
  {
   "cell_type": "markdown",
   "metadata": {},
   "source": [
    "# Calculate economy rate of Players\n"
   ]
  },
  {
   "cell_type": "markdown",
   "metadata": {},
   "source": [
    "economy=df.groupby(['bowler']).ball.count()\n",
    "runs=df.groupby(['bowler']).total_runs.sum()\n",
    "#economy=df[df['bowler'].isin(['Abhishek Sharma'])]\n",
    "\n",
    "runs=runs.reset_index()\n",
    "\n",
    "economy=economy.reset_index()\n",
    "economy['total_runs']=runs['total_runs']\n",
    "economy['ec_rate']=economy['total_runs']/economy['ball']\n",
    "\n"
   ]
  },
  {
   "cell_type": "code",
   "execution_count": 32,
   "metadata": {},
   "outputs": [],
   "source": [
    "economy=df.groupby(['bowler']).total_runs.sum().reset_index().set_index('bowler')\n",
    "ec_rate=[]\n",
    "for data in economy.index:\n",
    "    rate=df[df['bowler'].isin([data])]\n",
    "    rate=rate.tail(120)\n",
    "    economy_rate=(rate.total_runs.sum()/rate.ball.count())\n",
    "    ec_rate.append(economy_rate)\n",
    "economy['ec_rate']=ec_rate\n",
    "economy=economy.drop(columns=['total_runs'])"
   ]
  },
  {
   "cell_type": "code",
   "execution_count": 33,
   "metadata": {},
   "outputs": [],
   "source": [
    "economy.to_csv(\"economy_rate.csv\",index='False')"
   ]
  },
  {
   "cell_type": "code",
   "execution_count": 34,
   "metadata": {},
   "outputs": [
    {
     "data": {
      "text/html": [
       "<div>\n",
       "<style scoped>\n",
       "    .dataframe tbody tr th:only-of-type {\n",
       "        vertical-align: middle;\n",
       "    }\n",
       "\n",
       "    .dataframe tbody tr th {\n",
       "        vertical-align: top;\n",
       "    }\n",
       "\n",
       "    .dataframe thead th {\n",
       "        text-align: right;\n",
       "    }\n",
       "</style>\n",
       "<table border=\"1\" class=\"dataframe\">\n",
       "  <thead>\n",
       "    <tr style=\"text-align: right;\">\n",
       "      <th></th>\n",
       "      <th>ec_rate</th>\n",
       "    </tr>\n",
       "    <tr>\n",
       "      <th>bowler</th>\n",
       "      <th></th>\n",
       "    </tr>\n",
       "  </thead>\n",
       "  <tbody>\n",
       "    <tr>\n",
       "      <th>A Mishra</th>\n",
       "      <td>1.666667</td>\n",
       "    </tr>\n",
       "    <tr>\n",
       "      <th>A Nortje</th>\n",
       "      <td>1.433333</td>\n",
       "    </tr>\n",
       "    <tr>\n",
       "      <th>AD Russell</th>\n",
       "      <td>1.222222</td>\n",
       "    </tr>\n",
       "    <tr>\n",
       "      <th>AF Milne</th>\n",
       "      <td>2.714286</td>\n",
       "    </tr>\n",
       "    <tr>\n",
       "      <th>AJ Tye</th>\n",
       "      <td>1.166667</td>\n",
       "    </tr>\n",
       "    <tr>\n",
       "      <th>...</th>\n",
       "      <td>...</td>\n",
       "    </tr>\n",
       "    <tr>\n",
       "      <th>UT Yadav</th>\n",
       "      <td>1.500000</td>\n",
       "    </tr>\n",
       "    <tr>\n",
       "      <th>V Shankar</th>\n",
       "      <td>1.272727</td>\n",
       "    </tr>\n",
       "    <tr>\n",
       "      <th>VR Aaron</th>\n",
       "      <td>1.744681</td>\n",
       "    </tr>\n",
       "    <tr>\n",
       "      <th>Washington Sundar</th>\n",
       "      <td>1.333333</td>\n",
       "    </tr>\n",
       "    <tr>\n",
       "      <th>YS Chahal</th>\n",
       "      <td>1.636364</td>\n",
       "    </tr>\n",
       "  </tbody>\n",
       "</table>\n",
       "<p>99 rows × 1 columns</p>\n",
       "</div>"
      ],
      "text/plain": [
       "                    ec_rate\n",
       "bowler                     \n",
       "A Mishra           1.666667\n",
       "A Nortje           1.433333\n",
       "AD Russell         1.222222\n",
       "AF Milne           2.714286\n",
       "AJ Tye             1.166667\n",
       "...                     ...\n",
       "UT Yadav           1.500000\n",
       "V Shankar          1.272727\n",
       "VR Aaron           1.744681\n",
       "Washington Sundar  1.333333\n",
       "YS Chahal          1.636364\n",
       "\n",
       "[99 rows x 1 columns]"
      ]
     },
     "execution_count": 34,
     "metadata": {},
     "output_type": "execute_result"
    }
   ],
   "source": [
    "economy"
   ]
  },
  {
   "cell_type": "code",
   "execution_count": 35,
   "metadata": {},
   "outputs": [
    {
     "data": {
      "text/plain": [
       "42.2495126705653"
      ]
     },
     "execution_count": 35,
     "metadata": {},
     "output_type": "execute_result"
    }
   ],
   "source": [
    "economy.loc[['DR Sams','Mohammed Siraj','KA Jamieson']].ec_rate.mean()*36\n",
    "#economy.loc[[]]"
   ]
  },
  {
   "cell_type": "code",
   "execution_count": 36,
   "metadata": {},
   "outputs": [
    {
     "ename": "SyntaxError",
     "evalue": "invalid syntax (<ipython-input-36-2e031f4c1f3e>, line 1)",
     "output_type": "error",
     "traceback": [
      "\u001b[1;36m  File \u001b[1;32m\"<ipython-input-36-2e031f4c1f3e>\"\u001b[1;36m, line \u001b[1;32m1\u001b[0m\n\u001b[1;33m    Mohammed Shami,MC Henriques,DJ Hooda\u001b[0m\n\u001b[1;37m             ^\u001b[0m\n\u001b[1;31mSyntaxError\u001b[0m\u001b[1;31m:\u001b[0m invalid syntax\n"
     ]
    }
   ],
   "source": [
    "Mohammed Shami,MC Henriques,DJ Hooda\n",
    "\n"
   ]
  },
  {
   "cell_type": "code",
   "execution_count": 37,
   "metadata": {},
   "outputs": [
    {
     "data": {
      "text/html": [
       "<div>\n",
       "<style scoped>\n",
       "    .dataframe tbody tr th:only-of-type {\n",
       "        vertical-align: middle;\n",
       "    }\n",
       "\n",
       "    .dataframe tbody tr th {\n",
       "        vertical-align: top;\n",
       "    }\n",
       "\n",
       "    .dataframe thead th {\n",
       "        text-align: right;\n",
       "    }\n",
       "</style>\n",
       "<table border=\"1\" class=\"dataframe\">\n",
       "  <thead>\n",
       "    <tr style=\"text-align: right;\">\n",
       "      <th></th>\n",
       "      <th>ec_rate</th>\n",
       "    </tr>\n",
       "    <tr>\n",
       "      <th>bowler</th>\n",
       "      <th></th>\n",
       "    </tr>\n",
       "  </thead>\n",
       "  <tbody>\n",
       "    <tr>\n",
       "      <th>Mohammed Siraj</th>\n",
       "      <td>1.166667</td>\n",
       "    </tr>\n",
       "    <tr>\n",
       "      <th>KA Jamieson</th>\n",
       "      <td>1.283951</td>\n",
       "    </tr>\n",
       "    <tr>\n",
       "      <th>KW Richardson</th>\n",
       "      <td>1.666667</td>\n",
       "    </tr>\n",
       "    <tr>\n",
       "      <th>DR Sams</th>\n",
       "      <td>1.070175</td>\n",
       "    </tr>\n",
       "    <tr>\n",
       "      <th>YS Chahal</th>\n",
       "      <td>1.636364</td>\n",
       "    </tr>\n",
       "    <tr>\n",
       "      <th>NA Saini</th>\n",
       "      <td>1.136752</td>\n",
       "    </tr>\n",
       "  </tbody>\n",
       "</table>\n",
       "</div>"
      ],
      "text/plain": [
       "                 ec_rate\n",
       "bowler                  \n",
       "Mohammed Siraj  1.166667\n",
       "KA Jamieson     1.283951\n",
       "KW Richardson   1.666667\n",
       "DR Sams         1.070175\n",
       "YS Chahal       1.636364\n",
       "NA Saini        1.136752"
      ]
     },
     "execution_count": 37,
     "metadata": {},
     "output_type": "execute_result"
    }
   ],
   "source": [
    "economy.loc[['Mohammed Siraj','KA Jamieson','KW Richardson','DR Sams','YS Chahal','NA Saini'],['ec_rate']].ec_rate.mean()*36 \n",
    "economy.loc[['Mohammed Siraj','KA Jamieson','KW Richardson','DR Sams','YS Chahal','NA Saini'],['ec_rate']] "
   ]
  },
  {
   "cell_type": "markdown",
   "metadata": {},
   "source": [
    "# Calculate Strike rate of Players"
   ]
  },
  {
   "cell_type": "code",
   "execution_count": 38,
   "metadata": {},
   "outputs": [],
   "source": [
    "#df = pd.read_csv(\"all_matches.csv\",usecols=rel_col)\n",
    "#df=df[df['ball']<=5.6]\n",
    "#df['total_runs']=df['runs_off_bat']+df['extras']\n",
    "#df=df.drop(columns=['runs_off_bat','extras'])\n",
    "#df=df[df['innings']<=2]"
   ]
  },
  {
   "cell_type": "code",
   "execution_count": 39,
   "metadata": {},
   "outputs": [],
   "source": [
    "a=df.groupby(['striker']).total_runs.sum().reset_index().set_index('striker')\n",
    "str_rate=[]\n",
    "for data in a.index:\n",
    "    rate=df[df['striker'].isin([data])]\n",
    "    rate=rate.tail(120)\n",
    "    strike_rate=(rate.total_runs.sum()/rate.ball.count())\n",
    "    str_rate.append(strike_rate)\n",
    "a['str_rate']=str_rate\n",
    "    #print(str_rate)"
   ]
  },
  {
   "cell_type": "code",
   "execution_count": 40,
   "metadata": {},
   "outputs": [],
   "source": [
    "a=a.drop(columns=['total_runs'])\n",
    "   "
   ]
  },
  {
   "cell_type": "code",
   "execution_count": 41,
   "metadata": {},
   "outputs": [],
   "source": [
    "a.to_csv(\"strike_rate.csv\",index='False')"
   ]
  },
  {
   "cell_type": "code",
   "execution_count": 42,
   "metadata": {},
   "outputs": [
    {
     "data": {
      "text/html": [
       "<div>\n",
       "<style scoped>\n",
       "    .dataframe tbody tr th:only-of-type {\n",
       "        vertical-align: middle;\n",
       "    }\n",
       "\n",
       "    .dataframe tbody tr th {\n",
       "        vertical-align: top;\n",
       "    }\n",
       "\n",
       "    .dataframe thead th {\n",
       "        text-align: right;\n",
       "    }\n",
       "</style>\n",
       "<table border=\"1\" class=\"dataframe\">\n",
       "  <thead>\n",
       "    <tr style=\"text-align: right;\">\n",
       "      <th></th>\n",
       "      <th>str_rate</th>\n",
       "    </tr>\n",
       "    <tr>\n",
       "      <th>striker</th>\n",
       "      <th></th>\n",
       "    </tr>\n",
       "  </thead>\n",
       "  <tbody>\n",
       "    <tr>\n",
       "      <th>AB de Villiers</th>\n",
       "      <td>1.093750</td>\n",
       "    </tr>\n",
       "    <tr>\n",
       "      <th>AD Russell</th>\n",
       "      <td>3.500000</td>\n",
       "    </tr>\n",
       "    <tr>\n",
       "      <th>AJ Finch</th>\n",
       "      <td>1.141667</td>\n",
       "    </tr>\n",
       "    <tr>\n",
       "      <th>AM Rahane</th>\n",
       "      <td>1.045455</td>\n",
       "    </tr>\n",
       "    <tr>\n",
       "      <th>AT Rayudu</th>\n",
       "      <td>1.058824</td>\n",
       "    </tr>\n",
       "    <tr>\n",
       "      <th>...</th>\n",
       "      <td>...</td>\n",
       "    </tr>\n",
       "    <tr>\n",
       "      <th>V Shankar</th>\n",
       "      <td>0.428571</td>\n",
       "    </tr>\n",
       "    <tr>\n",
       "      <th>Virat Singh</th>\n",
       "      <td>0.000000</td>\n",
       "    </tr>\n",
       "    <tr>\n",
       "      <th>WP Saha</th>\n",
       "      <td>1.440678</td>\n",
       "    </tr>\n",
       "    <tr>\n",
       "      <th>Washington Sundar</th>\n",
       "      <td>0.961538</td>\n",
       "    </tr>\n",
       "    <tr>\n",
       "      <th>YBK Jaiswal</th>\n",
       "      <td>1.071429</td>\n",
       "    </tr>\n",
       "  </tbody>\n",
       "</table>\n",
       "<p>76 rows × 1 columns</p>\n",
       "</div>"
      ],
      "text/plain": [
       "                   str_rate\n",
       "striker                    \n",
       "AB de Villiers     1.093750\n",
       "AD Russell         3.500000\n",
       "AJ Finch           1.141667\n",
       "AM Rahane          1.045455\n",
       "AT Rayudu          1.058824\n",
       "...                     ...\n",
       "V Shankar          0.428571\n",
       "Virat Singh        0.000000\n",
       "WP Saha            1.440678\n",
       "Washington Sundar  0.961538\n",
       "YBK Jaiswal        1.071429\n",
       "\n",
       "[76 rows x 1 columns]"
      ]
     },
     "execution_count": 42,
     "metadata": {},
     "output_type": "execute_result"
    }
   ],
   "source": [
    "strike_rate=pd.read_csv('strike_rate.csv')\n",
    "strike_rate=strike_rate.set_index('striker')\n",
    "strike_rate"
   ]
  },
  {
   "cell_type": "code",
   "execution_count": 104,
   "metadata": {},
   "outputs": [],
   "source": [
    "#strike_rate=strike_rate.drop(['Unnamed: 0'],axis=1)\n",
    "#strike_rate"
   ]
  },
  {
   "cell_type": "code",
   "execution_count": 105,
   "metadata": {},
   "outputs": [
    {
     "ename": "SyntaxError",
     "evalue": "invalid syntax (<ipython-input-105-ef0bcd78bb64>, line 1)",
     "output_type": "error",
     "traceback": [
      "\u001b[1;36m  File \u001b[1;32m\"<ipython-input-105-ef0bcd78bb64>\"\u001b[1;36m, line \u001b[1;32m1\u001b[0m\n\u001b[1;33m    KL Rahul,MA Agarwal,CH Gayle\u001b[0m\n\u001b[1;37m       ^\u001b[0m\n\u001b[1;31mSyntaxError\u001b[0m\u001b[1;31m:\u001b[0m invalid syntax\n"
     ]
    }
   ],
   "source": [
    "KL Rahul,MA Agarwal,CH Gayle\n",
    "\n"
   ]
  },
  {
   "cell_type": "code",
   "execution_count": 43,
   "metadata": {},
   "outputs": [
    {
     "data": {
      "text/plain": [
       "42.96292134831461"
      ]
     },
     "execution_count": 43,
     "metadata": {},
     "output_type": "execute_result"
    }
   ],
   "source": [
    "strike_rate.loc[['KL Rahul','P Simran Singh','CH Gayle']].str_rate.mean()*36\n",
    "#strike_rate.loc[['KL Rahul','P Simran Singh','CH Gayle']]"
   ]
  },
  {
   "cell_type": "code",
   "execution_count": 44,
   "metadata": {
    "scrolled": true
   },
   "outputs": [
    {
     "data": {
      "text/plain": [
       "40.44"
      ]
     },
     "execution_count": 44,
     "metadata": {},
     "output_type": "execute_result"
    }
   ],
   "source": [
    "strike_rate.loc[['D Padikkal','V Kohli','RM Patidar']].str_rate.mean()*36\n",
    "#strike_rate.loc[['D Padikkal','V Kohli','GJ Maxwell','RM Patidar','Washington Sundar']]"
   ]
  },
  {
   "cell_type": "code",
   "execution_count": 91,
   "metadata": {},
   "outputs": [
    {
     "ename": "SyntaxError",
     "evalue": "invalid syntax (<ipython-input-91-69ddc21bc3bc>, line 1)",
     "output_type": "error",
     "traceback": [
      "\u001b[1;36m  File \u001b[1;32m\"<ipython-input-91-69ddc21bc3bc>\"\u001b[1;36m, line \u001b[1;32m1\u001b[0m\n\u001b[1;33m    D Padikkal,V Kohli,Washington Sundar\u001b[0m\n\u001b[1;37m      ^\u001b[0m\n\u001b[1;31mSyntaxError\u001b[0m\u001b[1;31m:\u001b[0m invalid syntax\n"
     ]
    }
   ],
   "source": [
    "D Padikkal,V Kohli,Washington Sundar\n"
   ]
  },
  {
   "cell_type": "markdown",
   "metadata": {},
   "source": [
    "# Trainer\n"
   ]
  },
  {
   "cell_type": "code",
   "execution_count": null,
   "metadata": {},
   "outputs": [],
   "source": []
  },
  {
   "cell_type": "code",
   "execution_count": null,
   "metadata": {},
   "outputs": [],
   "source": []
  },
  {
   "cell_type": "code",
   "execution_count": 45,
   "metadata": {},
   "outputs": [],
   "source": [
    "data = pd.read_csv(\"../Hackathon/Data.csv\")\n",
    "data=data.drop(['Unnamed: 0'],axis=1)"
   ]
  },
  {
   "cell_type": "code",
   "execution_count": 105,
   "metadata": {},
   "outputs": [],
   "source": [
    "data = pd.read_csv(\"../Hackathon/Match27.csv\")\n",
    "data=data.drop(['Unnamed: 0'],axis=1)"
   ]
  },
  {
   "cell_type": "code",
   "execution_count": 46,
   "metadata": {},
   "outputs": [
    {
     "data": {
      "text/html": [
       "<div>\n",
       "<style scoped>\n",
       "    .dataframe tbody tr th:only-of-type {\n",
       "        vertical-align: middle;\n",
       "    }\n",
       "\n",
       "    .dataframe tbody tr th {\n",
       "        vertical-align: top;\n",
       "    }\n",
       "\n",
       "    .dataframe thead th {\n",
       "        text-align: right;\n",
       "    }\n",
       "</style>\n",
       "<table border=\"1\" class=\"dataframe\">\n",
       "  <thead>\n",
       "    <tr style=\"text-align: right;\">\n",
       "      <th></th>\n",
       "      <th>venue</th>\n",
       "      <th>innings</th>\n",
       "      <th>batting_team</th>\n",
       "      <th>bowling_team</th>\n",
       "      <th>Wicket</th>\n",
       "      <th>total_runs</th>\n",
       "      <th>str_rate</th>\n",
       "      <th>ec_rate</th>\n",
       "    </tr>\n",
       "  </thead>\n",
       "  <tbody>\n",
       "    <tr>\n",
       "      <th>0</th>\n",
       "      <td>Sheikh Zayed Stadium</td>\n",
       "      <td>1</td>\n",
       "      <td>Mumbai Indians</td>\n",
       "      <td>Chennai Super Kings</td>\n",
       "      <td>2</td>\n",
       "      <td>51</td>\n",
       "      <td>1.010227</td>\n",
       "      <td>1.312500</td>\n",
       "    </tr>\n",
       "    <tr>\n",
       "      <th>1</th>\n",
       "      <td>Sheikh Zayed Stadium</td>\n",
       "      <td>2</td>\n",
       "      <td>Chennai Super Kings</td>\n",
       "      <td>Mumbai Indians</td>\n",
       "      <td>2</td>\n",
       "      <td>31</td>\n",
       "      <td>0.778234</td>\n",
       "      <td>0.927350</td>\n",
       "    </tr>\n",
       "    <tr>\n",
       "      <th>2</th>\n",
       "      <td>Dubai International Cricket Stadium</td>\n",
       "      <td>1</td>\n",
       "      <td>Delhi Capitals</td>\n",
       "      <td>Punjab Kings</td>\n",
       "      <td>3</td>\n",
       "      <td>23</td>\n",
       "      <td>0.555311</td>\n",
       "      <td>0.714286</td>\n",
       "    </tr>\n",
       "    <tr>\n",
       "      <th>3</th>\n",
       "      <td>Dubai International Cricket Stadium</td>\n",
       "      <td>2</td>\n",
       "      <td>Punjab Kings</td>\n",
       "      <td>Delhi Capitals</td>\n",
       "      <td>3</td>\n",
       "      <td>35</td>\n",
       "      <td>0.681579</td>\n",
       "      <td>0.822802</td>\n",
       "    </tr>\n",
       "    <tr>\n",
       "      <th>4</th>\n",
       "      <td>Sheikh Zayed Stadium</td>\n",
       "      <td>1</td>\n",
       "      <td>Kolkata Knight Riders</td>\n",
       "      <td>Royal Challengers Bangalore</td>\n",
       "      <td>4</td>\n",
       "      <td>17</td>\n",
       "      <td>0.404437</td>\n",
       "      <td>0.713675</td>\n",
       "    </tr>\n",
       "    <tr>\n",
       "      <th>...</th>\n",
       "      <td>...</td>\n",
       "      <td>...</td>\n",
       "      <td>...</td>\n",
       "      <td>...</td>\n",
       "      <td>...</td>\n",
       "      <td>...</td>\n",
       "      <td>...</td>\n",
       "      <td>...</td>\n",
       "    </tr>\n",
       "    <tr>\n",
       "      <th>179</th>\n",
       "      <td>Narendra Modi Stadium</td>\n",
       "      <td>2</td>\n",
       "      <td>Delhi Capitals</td>\n",
       "      <td>Kolkata Knight Riders</td>\n",
       "      <td>0</td>\n",
       "      <td>67</td>\n",
       "      <td>1.869748</td>\n",
       "      <td>1.783333</td>\n",
       "    </tr>\n",
       "    <tr>\n",
       "      <th>180</th>\n",
       "      <td>Narendra Modi Stadium</td>\n",
       "      <td>1</td>\n",
       "      <td>Punjab Kings</td>\n",
       "      <td>Royal Challengers Bangalore</td>\n",
       "      <td>1</td>\n",
       "      <td>49</td>\n",
       "      <td>1.539855</td>\n",
       "      <td>1.273504</td>\n",
       "    </tr>\n",
       "    <tr>\n",
       "      <th>181</th>\n",
       "      <td>Narendra Modi Stadium</td>\n",
       "      <td>2</td>\n",
       "      <td>Royal Challengers Bangalore</td>\n",
       "      <td>Punjab Kings</td>\n",
       "      <td>1</td>\n",
       "      <td>36</td>\n",
       "      <td>1.037037</td>\n",
       "      <td>0.907407</td>\n",
       "    </tr>\n",
       "    <tr>\n",
       "      <th>182</th>\n",
       "      <td>Arun Jaitley Stadium</td>\n",
       "      <td>1</td>\n",
       "      <td>Chennai Super Kings</td>\n",
       "      <td>Mumbai Indians</td>\n",
       "      <td>1</td>\n",
       "      <td>49</td>\n",
       "      <td>1.260459</td>\n",
       "      <td>1.398148</td>\n",
       "    </tr>\n",
       "    <tr>\n",
       "      <th>183</th>\n",
       "      <td>Arun Jaitley Stadium</td>\n",
       "      <td>2</td>\n",
       "      <td>Mumbai Indians</td>\n",
       "      <td>Chennai Super Kings</td>\n",
       "      <td>0</td>\n",
       "      <td>58</td>\n",
       "      <td>1.522222</td>\n",
       "      <td>1.687359</td>\n",
       "    </tr>\n",
       "  </tbody>\n",
       "</table>\n",
       "<p>184 rows × 8 columns</p>\n",
       "</div>"
      ],
      "text/plain": [
       "                                   venue  innings  \\\n",
       "0                   Sheikh Zayed Stadium        1   \n",
       "1                   Sheikh Zayed Stadium        2   \n",
       "2    Dubai International Cricket Stadium        1   \n",
       "3    Dubai International Cricket Stadium        2   \n",
       "4                   Sheikh Zayed Stadium        1   \n",
       "..                                   ...      ...   \n",
       "179                Narendra Modi Stadium        2   \n",
       "180                Narendra Modi Stadium        1   \n",
       "181                Narendra Modi Stadium        2   \n",
       "182                 Arun Jaitley Stadium        1   \n",
       "183                 Arun Jaitley Stadium        2   \n",
       "\n",
       "                    batting_team                 bowling_team  Wicket  \\\n",
       "0                 Mumbai Indians          Chennai Super Kings       2   \n",
       "1            Chennai Super Kings               Mumbai Indians       2   \n",
       "2                 Delhi Capitals                 Punjab Kings       3   \n",
       "3                   Punjab Kings               Delhi Capitals       3   \n",
       "4          Kolkata Knight Riders  Royal Challengers Bangalore       4   \n",
       "..                           ...                          ...     ...   \n",
       "179               Delhi Capitals        Kolkata Knight Riders       0   \n",
       "180                 Punjab Kings  Royal Challengers Bangalore       1   \n",
       "181  Royal Challengers Bangalore                 Punjab Kings       1   \n",
       "182          Chennai Super Kings               Mumbai Indians       1   \n",
       "183               Mumbai Indians          Chennai Super Kings       0   \n",
       "\n",
       "     total_runs  str_rate   ec_rate  \n",
       "0            51  1.010227  1.312500  \n",
       "1            31  0.778234  0.927350  \n",
       "2            23  0.555311  0.714286  \n",
       "3            35  0.681579  0.822802  \n",
       "4            17  0.404437  0.713675  \n",
       "..          ...       ...       ...  \n",
       "179          67  1.869748  1.783333  \n",
       "180          49  1.539855  1.273504  \n",
       "181          36  1.037037  0.907407  \n",
       "182          49  1.260459  1.398148  \n",
       "183          58  1.522222  1.687359  \n",
       "\n",
       "[184 rows x 8 columns]"
      ]
     },
     "execution_count": 46,
     "metadata": {},
     "output_type": "execute_result"
    }
   ],
   "source": [
    "data"
   ]
  },
  {
   "cell_type": "code",
   "execution_count": 47,
   "metadata": {},
   "outputs": [],
   "source": [
    "ve=LabelEncoder() #Venue encoder\n",
    "te=LabelEncoder() #Team encoder"
   ]
  },
  {
   "cell_type": "code",
   "execution_count": 48,
   "metadata": {},
   "outputs": [],
   "source": [
    "#te.fit_transform(ipl_data['batting_team'])\n",
    "te.fit_transform(data['batting_team'])\n",
    "data['venue']=ve.fit_transform(data['venue'])\n",
    "data['batting_team']=te.transform(data['batting_team'])\n",
    "data['bowling_team']=te.transform(data['bowling_team'])\n",
    "\n",
    "#data=data[['venue','innings','batting_team','bowling_team','Wicket','str_rate','economy','total_runs']]"
   ]
  },
  {
   "cell_type": "code",
   "execution_count": 49,
   "metadata": {},
   "outputs": [
    {
     "data": {
      "text/plain": [
       "array([[ 5,  1,  5,  0,  2, 51],\n",
       "       [ 5,  2,  0,  5,  2, 31],\n",
       "       [ 1,  1,  1,  6,  3, 23],\n",
       "       ...,\n",
       "       [ 3,  2,  8,  6,  1, 36],\n",
       "       [ 0,  1,  0,  5,  1, 49],\n",
       "       [ 0,  2,  5,  0,  0, 58]], dtype=int64)"
      ]
     },
     "execution_count": 49,
     "metadata": {},
     "output_type": "execute_result"
    }
   ],
   "source": [
    "data.iloc[:,0:6].to_numpy()"
   ]
  },
  {
   "cell_type": "code",
   "execution_count": 50,
   "metadata": {
    "scrolled": false
   },
   "outputs": [
    {
     "data": {
      "text/plain": [
       "['Arun Jaitley Stadium',\n",
       " 'Dubai International Cricket Stadium',\n",
       " 'MA Chidambaram Stadium',\n",
       " 'Narendra Modi Stadium',\n",
       " 'Sharjah Cricket Stadium',\n",
       " 'Sheikh Zayed Stadium',\n",
       " 'Wankhede Stadium']"
      ]
     },
     "execution_count": 50,
     "metadata": {},
     "output_type": "execute_result"
    }
   ],
   "source": [
    "list(te.classes_)\n",
    "list(ve.classes_)"
   ]
  },
  {
   "cell_type": "code",
   "execution_count": 51,
   "metadata": {},
   "outputs": [
    {
     "data": {
      "text/plain": [
       "['Chennai Super Kings',\n",
       " 'Delhi Capitals',\n",
       " 'England',\n",
       " 'India',\n",
       " 'Kolkata Knight Riders',\n",
       " 'Mumbai Indians',\n",
       " 'Punjab Kings',\n",
       " 'Rajasthan Royals',\n",
       " 'Royal Challengers Bangalore',\n",
       " 'Sunrisers Hyderabad']"
      ]
     },
     "execution_count": 51,
     "metadata": {},
     "output_type": "execute_result"
    }
   ],
   "source": [
    "list(te.classes_)"
   ]
  },
  {
   "cell_type": "code",
   "execution_count": 52,
   "metadata": {},
   "outputs": [
    {
     "data": {
      "text/plain": [
       "array([9], dtype=int64)"
      ]
     },
     "execution_count": 52,
     "metadata": {},
     "output_type": "execute_result"
    }
   ],
   "source": [
    "te.transform([\"Sunrisers Hyderabad\"])"
   ]
  },
  {
   "cell_type": "code",
   "execution_count": 53,
   "metadata": {},
   "outputs": [
    {
     "data": {
      "text/plain": [
       "array([6], dtype=int64)"
      ]
     },
     "execution_count": 53,
     "metadata": {},
     "output_type": "execute_result"
    }
   ],
   "source": [
    "ve.transform([\"Wankhede Stadium\"])"
   ]
  },
  {
   "cell_type": "code",
   "execution_count": 54,
   "metadata": {},
   "outputs": [
    {
     "data": {
      "text/plain": [
       "['Delhi Capitals', 'India']"
      ]
     },
     "execution_count": 54,
     "metadata": {},
     "output_type": "execute_result"
    }
   ],
   "source": [
    "list(te.inverse_transform([1, 3]))"
   ]
  },
  {
   "cell_type": "code",
   "execution_count": 55,
   "metadata": {},
   "outputs": [],
   "source": [
    "#get data into a numpy array\n",
    "int_array=data.iloc[:,0:6].to_numpy()\n",
    "flt_array=data.to_numpy()"
   ]
  },
  {
   "cell_type": "code",
   "execution_count": 56,
   "metadata": {},
   "outputs": [
    {
     "data": {
      "text/plain": [
       "array([[ 5,  1,  5,  0,  2, 51],\n",
       "       [ 5,  2,  0,  5,  2, 31],\n",
       "       [ 1,  1,  1,  6,  3, 23],\n",
       "       ...,\n",
       "       [ 3,  2,  8,  6,  1, 36],\n",
       "       [ 0,  1,  0,  5,  1, 49],\n",
       "       [ 0,  2,  5,  0,  0, 58]], dtype=int64)"
      ]
     },
     "execution_count": 56,
     "metadata": {},
     "output_type": "execute_result"
    }
   ],
   "source": [
    "int_array"
   ]
  },
  {
   "cell_type": "code",
   "execution_count": 57,
   "metadata": {},
   "outputs": [
    {
     "data": {
      "text/plain": [
       "array([1.3125    , 0.92735043, 0.71428571, 0.8228022 , 0.71367521,\n",
       "       1.17566352, 1.33333333, 1.64583333, 1.45441595, 1.66185897,\n",
       "       1.02083333, 0.88888889, 1.37962963, 1.37614871, 1.47916667,\n",
       "       1.0625    , 1.25160256, 1.01190476, 1.18838764, 1.46783626,\n",
       "       0.70655271, 1.58854167, 1.19987469, 1.05357143, 0.98878205,\n",
       "       1.18253968, 1.06730769, 1.5       , 1.5       , 1.63461538,\n",
       "       0.8125    , 1.        , 1.64308608, 0.875     , 1.1474359 ,\n",
       "       1.24074074, 1.33333333, 1.11666667, 1.45128205, 0.92592593,\n",
       "       1.33333333, 1.60416667, 1.33333333, 1.74404762, 0.83333333,\n",
       "       1.58333333, 1.66666667, 1.6       , 1.20040486, 0.93650794,\n",
       "       1.16452991, 0.98464912, 1.13960114, 1.48099817, 2.15277778,\n",
       "       1.14029304, 1.46153846, 0.87037037, 0.67989418, 1.30555556,\n",
       "       1.41586538, 1.29716117, 0.62962963, 1.4537037 , 2.0625    ,\n",
       "       1.43650794, 1.11988304, 0.76442308, 0.82307692, 1.41666667,\n",
       "       1.57051282, 1.76593407, 1.20655271, 1.05      , 1.0952381 ,\n",
       "       1.21130952, 1.72916667, 0.93612236, 1.48878205, 1.6650641 ,\n",
       "       0.97916667, 0.94444444, 1.375     , 0.86111111, 1.50512821,\n",
       "       1.24603175, 0.63756614, 1.14583333, 1.41666667, 1.17948718,\n",
       "       1.44444444, 1.95833333, 1.27350427, 1.60714286, 0.97008547,\n",
       "       1.        , 1.28703704, 1.08928571, 1.48046398, 1.5849359 ,\n",
       "       1.5       , 1.25      , 1.29761905, 1.33333333, 1.15625   ,\n",
       "       1.4375    , 1.25925926, 1.27635328, 1.47619048, 1.52857143,\n",
       "       1.72916667, 1.05698006, 1.75714286, 0.86927656, 0.99002849,\n",
       "       1.28571429, 1.94444444, 1.26488095, 1.04166667, 1.78333333,\n",
       "       0.54166667, 1.4375    , 1.16666667, 1.625     , 0.60416667,\n",
       "       1.54273504, 1.40384615, 1.625     , 1.5982906 , 1.75      ,\n",
       "       1.13888889, 1.23464912, 0.94070513, 2.05555556, 1.39583333,\n",
       "       0.95833333, 1.16819292, 1.79761905, 1.00961538, 1.18452381,\n",
       "       1.375     , 1.26817043, 1.10714286, 0.64814815, 0.78362573,\n",
       "       0.875     , 1.42559524, 1.74107143, 1.16071429, 1.62019231,\n",
       "       1.51762821, 1.75      , 1.02777778, 1.20321637, 1.64583333,\n",
       "       1.00595238, 0.88888889, 1.33035714, 1.375     , 1.23056573,\n",
       "       1.03703704, 1.625     , 0.58333333, 1.29166667, 0.61458333,\n",
       "       1.55833333, 1.2900641 , 1.64536341, 1.33333333, 1.56153846,\n",
       "       1.08689459, 1.10087719, 1.11538462, 1.19444444, 1.02631579,\n",
       "       1.5380117 , 1.54166667, 1.5625    , 1.18055556, 1.78333333,\n",
       "       1.27350427, 0.90740741, 1.39814815, 1.68735942])"
      ]
     },
     "execution_count": 57,
     "metadata": {},
     "output_type": "execute_result"
    }
   ],
   "source": [
    "flt_array[:,7]"
   ]
  },
  {
   "cell_type": "code",
   "execution_count": 58,
   "metadata": {},
   "outputs": [],
   "source": [
    "#anArray=np.delete(anArray, 2, 1)"
   ]
  },
  {
   "cell_type": "code",
   "execution_count": 59,
   "metadata": {},
   "outputs": [],
   "source": [
    "X,y=int_array[:,:5],int_array[:,5]"
   ]
  },
  {
   "cell_type": "code",
   "execution_count": 60,
   "metadata": {},
   "outputs": [],
   "source": [
    "X1,y1=flt_array[:,[1,4,6,7]],flt_array[:,5]"
   ]
  },
  {
   "cell_type": "code",
   "execution_count": 61,
   "metadata": {
    "scrolled": true
   },
   "outputs": [
    {
     "data": {
      "text/plain": [
       "array([[1.        , 2.        , 1.01022727, 1.3125    ],\n",
       "       [2.        , 2.        , 0.77823427, 0.92735043],\n",
       "       [1.        , 3.        , 0.55531136, 0.71428571],\n",
       "       [2.        , 3.        , 0.68157895, 0.8228022 ],\n",
       "       [1.        , 4.        , 0.40443723, 0.71367521],\n",
       "       [2.        , 0.        , 1.20454545, 1.17566352],\n",
       "       [1.        , 2.        , 1.01945971, 1.33333333],\n",
       "       [2.        , 0.        , 1.49852941, 1.64583333],\n",
       "       [1.        , 1.        , 1.42105263, 1.45441595],\n",
       "       [2.        , 0.        , 1.41323529, 1.66185897],\n",
       "       [1.        , 2.        , 0.90922619, 1.02083333],\n",
       "       [2.        , 2.        , 0.71666667, 0.88888889],\n",
       "       [1.        , 1.        , 1.41652661, 1.37962963],\n",
       "       [2.        , 0.        , 1.36842105, 1.37614871],\n",
       "       [1.        , 0.        , 1.51083591, 1.47916667],\n",
       "       [2.        , 1.        , 1.21261487, 1.0625    ],\n",
       "       [1.        , 2.        , 1.20328947, 1.25160256],\n",
       "       [2.        , 1.        , 1.275     , 1.01190476],\n",
       "       [1.        , 1.        , 1.20769231, 1.18838764],\n",
       "       [2.        , 1.        , 1.49285714, 1.46783626],\n",
       "       [1.        , 2.        , 0.74154412, 0.70655271],\n",
       "       [2.        , 1.        , 1.46078431, 1.58854167],\n",
       "       [1.        , 2.        , 0.9265873 , 1.19987469],\n",
       "       [2.        , 2.        , 0.84210526, 1.05357143],\n",
       "       [1.        , 1.        , 1.05882353, 0.98878205],\n",
       "       [2.        , 2.        , 0.84141865, 1.18253968],\n",
       "       [1.        , 1.        , 1.14074074, 1.06730769],\n",
       "       [2.        , 1.        , 1.47321429, 1.5       ],\n",
       "       [1.        , 1.        , 1.2005848 , 1.5       ],\n",
       "       [2.        , 0.        , 1.5       , 1.63461538],\n",
       "       [1.        , 1.        , 0.65249663, 0.8125    ],\n",
       "       [2.        , 3.        , 0.97948718, 1.        ],\n",
       "       [1.        , 1.        , 1.29409479, 1.64308608],\n",
       "       [2.        , 2.        , 0.95353535, 0.875     ],\n",
       "       [1.        , 1.        , 0.75      , 1.1474359 ],\n",
       "       [2.        , 2.        , 0.85625   , 1.24074074],\n",
       "       [1.        , 0.        , 1.33126935, 1.33333333],\n",
       "       [2.        , 3.        , 0.63230769, 1.11666667],\n",
       "       [1.        , 1.        , 1.50833333, 1.45128205],\n",
       "       [2.        , 3.        , 0.5847619 , 0.92592593],\n",
       "       [1.        , 0.        , 1.34375   , 1.33333333],\n",
       "       [2.        , 0.        , 1.49535604, 1.60416667],\n",
       "       [1.        , 0.        , 1.3047619 , 1.33333333],\n",
       "       [2.        , 0.        , 1.59166667, 1.74404762],\n",
       "       [1.        , 3.        , 1.00424242, 0.83333333],\n",
       "       [2.        , 1.        , 1.2031746 , 1.58333333],\n",
       "       [1.        , 0.        , 1.5875    , 1.66666667],\n",
       "       [2.        , 1.        , 1.56805556, 1.6       ],\n",
       "       [1.        , 1.        , 0.79302832, 1.20040486],\n",
       "       [2.        , 2.        , 0.6984127 , 0.93650794],\n",
       "       [1.        , 3.        , 0.96911765, 1.16452991],\n",
       "       [2.        , 1.        , 1.23703704, 0.98464912],\n",
       "       [1.        , 1.        , 1.32051282, 1.13960114],\n",
       "       [2.        , 2.        , 1.14826128, 1.48099817],\n",
       "       [1.        , 0.        , 1.69155844, 2.15277778],\n",
       "       [2.        , 2.        , 1.13229167, 1.14029304],\n",
       "       [1.        , 3.        , 0.98333333, 1.46153846],\n",
       "       [2.        , 0.        , 1.01875   , 0.87037037],\n",
       "       [1.        , 5.        , 0.55782313, 0.67989418],\n",
       "       [2.        , 0.        , 1.38961039, 1.30555556],\n",
       "       [1.        , 1.        , 1.25023343, 1.41586538],\n",
       "       [2.        , 1.        , 1.24400871, 1.29716117],\n",
       "       [1.        , 2.        , 0.6452381 , 0.62962963],\n",
       "       [2.        , 0.        , 1.30625   , 1.4537037 ],\n",
       "       [1.        , 0.        , 2.15769231, 2.0625    ],\n",
       "       [2.        , 2.        , 0.96867168, 1.43650794],\n",
       "       [1.        , 1.        , 0.82328042, 1.11988304],\n",
       "       [2.        , 2.        , 0.60732323, 0.76442308],\n",
       "       [1.        , 2.        , 0.64642857, 0.82307692],\n",
       "       [2.        , 0.        , 1.44375   , 1.41666667],\n",
       "       [1.        , 0.        , 1.57222222, 1.57051282],\n",
       "       [2.        , 1.        , 1.49935897, 1.76593407],\n",
       "       [1.        , 2.        , 0.87474747, 1.20655271],\n",
       "       [2.        , 2.        , 1.11891026, 1.05      ],\n",
       "       [1.        , 2.        , 1.37179487, 1.0952381 ],\n",
       "       [2.        , 0.        , 1.0224359 , 1.21130952],\n",
       "       [1.        , 1.        , 1.0372807 , 1.72916667],\n",
       "       [2.        , 5.        , 1.10714286, 0.93612236],\n",
       "       [1.        , 1.        , 1.58347578, 1.48878205],\n",
       "       [2.        , 0.        , 1.53676471, 1.6650641 ],\n",
       "       [1.        , 0.        , 1.00649351, 0.97916667],\n",
       "       [2.        , 1.        , 0.825     , 0.94444444],\n",
       "       [1.        , 2.        , 1.47569444, 1.375     ],\n",
       "       [2.        , 3.        , 0.63593074, 0.86111111],\n",
       "       [1.        , 0.        , 1.2797619 , 1.50512821],\n",
       "       [2.        , 1.        , 1.20833333, 1.24603175],\n",
       "       [1.        , 2.        , 0.44602273, 0.63756614],\n",
       "       [2.        , 0.        , 1.05      , 1.14583333],\n",
       "       [1.        , 0.        , 1.4025974 , 1.41666667],\n",
       "       [2.        , 0.        , 1.14434524, 1.17948718],\n",
       "       [1.        , 1.        , 0.90964912, 1.44444444],\n",
       "       [2.        , 1.        , 1.93269231, 1.95833333],\n",
       "       [1.        , 2.        , 0.96346154, 1.27350427],\n",
       "       [2.        , 1.        , 1.57460317, 1.60714286],\n",
       "       [1.        , 0.        , 0.87339744, 0.97008547],\n",
       "       [2.        , 1.        , 1.08531746, 1.        ],\n",
       "       [1.        , 0.        , 1.30555556, 1.28703704],\n",
       "       [2.        , 1.        , 1.08123249, 1.08928571],\n",
       "       [1.        , 1.        , 1.58      , 1.48046398],\n",
       "       [2.        , 2.        , 1.22253788, 1.5849359 ],\n",
       "       [1.        , 0.        , 1.52661064, 1.5       ],\n",
       "       [2.        , 2.        , 1.38303571, 1.25      ],\n",
       "       [1.        , 2.        , 0.85876623, 1.29761905],\n",
       "       [2.        , 2.        , 1.22123016, 1.33333333],\n",
       "       [1.        , 1.        , 1.11892552, 1.15625   ],\n",
       "       [2.        , 0.        , 1.46153846, 1.4375    ],\n",
       "       [1.        , 1.        , 1.12857143, 1.25925926],\n",
       "       [2.        , 2.        , 0.83173077, 1.27635328],\n",
       "       [1.        , 1.        , 1.41410256, 1.47619048],\n",
       "       [2.        , 3.        , 1.30614719, 1.52857143],\n",
       "       [1.        , 0.        , 1.63818182, 1.72916667],\n",
       "       [2.        , 2.        , 0.74862637, 1.05698006],\n",
       "       [1.        , 1.        , 1.14502165, 1.75714286],\n",
       "       [2.        , 4.        , 0.45925926, 0.86927656],\n",
       "       [1.        , 2.        , 0.72470238, 0.99002849],\n",
       "       [2.        , 2.        , 1.24183007, 1.28571429],\n",
       "       [1.        , 0.        , 1.8       , 1.94444444],\n",
       "       [2.        , 3.        , 1.05358974, 1.26488095],\n",
       "       [1.        , 3.        , 0.82307692, 1.04166667],\n",
       "       [2.        , 1.        , 1.68148148, 1.78333333],\n",
       "       [1.        , 3.        , 0.45      , 0.54166667],\n",
       "       [2.        , 0.        , 1.41904762, 1.4375    ],\n",
       "       [1.        , 1.        , 0.81481481, 1.16666667],\n",
       "       [2.        , 1.        , 1.11111111, 1.625     ],\n",
       "       [1.        , 2.        , 0.5130719 , 0.60416667],\n",
       "       [2.        , 1.        , 1.31200172, 1.54273504],\n",
       "       [1.        , 1.        , 1.23737374, 1.40384615],\n",
       "       [2.        , 1.        , 1.22348485, 1.625     ],\n",
       "       [1.        , 0.        , 1.58088235, 1.5982906 ],\n",
       "       [2.        , 1.        , 1.13852814, 1.75      ],\n",
       "       [1.        , 1.        , 1.16031746, 1.13888889],\n",
       "       [2.        , 1.        , 1.23039216, 1.23464912],\n",
       "       [1.        , 2.        , 0.71207265, 0.94070513],\n",
       "       [2.        , 0.        , 1.80555556, 2.05555556],\n",
       "       [1.        , 0.        , 1.35636364, 1.39583333],\n",
       "       [2.        , 2.        , 0.9599359 , 0.95833333],\n",
       "       [1.        , 1.        , 1.21428571, 1.16819292],\n",
       "       [2.        , 2.        , 1.35191993, 1.79761905],\n",
       "       [1.        , 1.        , 0.97691198, 1.00961538],\n",
       "       [2.        , 0.        , 1.2202381 , 1.18452381],\n",
       "       [1.        , 1.        , 1.2968254 , 1.375     ],\n",
       "       [2.        , 1.        , 1.20899471, 1.26817043],\n",
       "       [1.        , 3.        , 0.73858586, 1.10714286],\n",
       "       [2.        , 3.        , 0.72965368, 0.64814815],\n",
       "       [1.        , 4.        , 0.41666667, 0.78362573],\n",
       "       [2.        , 1.        , 1.00099206, 0.875     ],\n",
       "       [1.        , 0.        , 1.35714286, 1.42559524],\n",
       "       [2.        , 0.        , 1.52192982, 1.74107143],\n",
       "       [1.        , 2.        , 1.04242081, 1.16071429],\n",
       "       [2.        , 1.        , 1.62619048, 1.62019231],\n",
       "       [1.        , 0.        , 1.79326923, 1.51762821],\n",
       "       [2.        , 1.        , 1.49782135, 1.75      ],\n",
       "       [1.        , 1.        , 1.07013575, 1.02777778],\n",
       "       [2.        , 2.        , 0.74318182, 1.20321637],\n",
       "       [1.        , 1.        , 1.34851552, 1.64583333],\n",
       "       [2.        , 1.        , 1.13333333, 1.00595238],\n",
       "       [1.        , 1.        , 0.85990338, 0.88888889],\n",
       "       [2.        , 0.        , 1.32163743, 1.33035714],\n",
       "       [1.        , 0.        , 1.47222222, 1.375     ],\n",
       "       [2.        , 4.        , 1.26139601, 1.23056573],\n",
       "       [1.        , 3.        , 0.75555556, 1.03703704],\n",
       "       [2.        , 0.        , 1.42532468, 1.625     ],\n",
       "       [1.        , 1.        , 0.58194444, 0.58333333],\n",
       "       [2.        , 0.        , 1.22767857, 1.29166667],\n",
       "       [1.        , 0.        , 0.65789474, 0.61458333],\n",
       "       [2.        , 2.        , 1.31311275, 1.55833333],\n",
       "       [1.        , 0.        , 1.26608187, 1.2900641 ],\n",
       "       [2.        , 2.        , 1.59191176, 1.64536341],\n",
       "       [1.        , 0.        , 1.27639752, 1.33333333],\n",
       "       [2.        , 2.        , 1.04861111, 1.56153846],\n",
       "       [1.        , 0.        , 1.00441176, 1.08689459],\n",
       "       [2.        , 3.        , 0.85576923, 1.10087719],\n",
       "       [1.        , 2.        , 0.83829365, 1.11538462],\n",
       "       [2.        , 2.        , 1.06785714, 1.19444444],\n",
       "       [1.        , 1.        , 1.15277778, 1.02631579],\n",
       "       [2.        , 0.        , 1.34210526, 1.5380117 ],\n",
       "       [1.        , 0.        , 1.44909091, 1.54166667],\n",
       "       [2.        , 0.        , 1.33591331, 1.5625    ],\n",
       "       [1.        , 1.        , 1.2377193 , 1.18055556],\n",
       "       [2.        , 0.        , 1.8697479 , 1.78333333],\n",
       "       [1.        , 1.        , 1.53985507, 1.27350427],\n",
       "       [2.        , 1.        , 1.03703704, 0.90740741],\n",
       "       [1.        , 1.        , 1.26045884, 1.39814815],\n",
       "       [2.        , 0.        , 1.52222222, 1.68735942]])"
      ]
     },
     "execution_count": 61,
     "metadata": {},
     "output_type": "execute_result"
    }
   ],
   "source": [
    "X1[:,:4]\n"
   ]
  },
  {
   "cell_type": "markdown",
   "metadata": {},
   "source": [
    "### Predict for specific Match Data"
   ]
  },
  {
   "cell_type": "code",
   "execution_count": 121,
   "metadata": {},
   "outputs": [],
   "source": [
    "X=np.concatenate((np.eye(6)[int_array[:,0]],\n",
    "                  np.eye(2)[int_array[:,1]-1],\n",
    "                  np.eye(10)[int_array[:,2]],\n",
    "                  np.eye(10)[int_array[:,3]],\n",
    "                  int_array[:,4].reshape(int_array[:,4].size,1)),axis=1)\n",
    "X1=np.concatenate((np.eye(2)[int_array[:,1]-1],\n",
    "                  X1[:,1:4]),axis=1)\n"
   ]
  },
  {
   "cell_type": "markdown",
   "metadata": {},
   "source": [
    "### Predict for Overall Match Data"
   ]
  },
  {
   "cell_type": "code",
   "execution_count": 148,
   "metadata": {},
   "outputs": [],
   "source": [
    "\n",
    "X=np.concatenate((np.eye(41)[int_array[:,0]],\n",
    "                  np.eye(2)[int_array[:,1]-1],\n",
    "                  np.eye(16)[int_array[:,2]],\n",
    "                  np.eye(16)[int_array[:,3]],\n",
    "                  int_array[:,4].reshape(int_array[:,4].size,1)),axis=1)\n",
    "X1=np.concatenate((np.eye(2)[int_array[:,1]-1],\n",
    "                  X1[:,1:4]),axis=1)"
   ]
  },
  {
   "cell_type": "markdown",
   "metadata": {},
   "source": [
    "### Predict from last 2 IPL data\n"
   ]
  },
  {
   "cell_type": "code",
   "execution_count": 62,
   "metadata": {},
   "outputs": [],
   "source": [
    "X=np.concatenate((np.eye(7)[int_array[:,0]],\n",
    "                  np.eye(2)[int_array[:,1]-1],\n",
    "                  np.eye(10)[int_array[:,2]],\n",
    "                  np.eye(10)[int_array[:,3]],\n",
    "                  int_array[:,4].reshape(int_array[:,4].size,1)),axis=1)\n",
    "X1=np.concatenate((np.eye(2)[int_array[:,1]-1],\n",
    "                  X1[:,1:4]),axis=1)"
   ]
  },
  {
   "cell_type": "code",
   "execution_count": 63,
   "metadata": {},
   "outputs": [
    {
     "data": {
      "text/plain": [
       "array([[0., 0., 0., ..., 0., 0., 2.],\n",
       "       [0., 0., 0., ..., 0., 0., 2.],\n",
       "       [0., 1., 0., ..., 0., 0., 3.],\n",
       "       ...,\n",
       "       [0., 0., 0., ..., 0., 0., 1.],\n",
       "       [1., 0., 0., ..., 0., 0., 1.],\n",
       "       [1., 0., 0., ..., 0., 0., 0.]])"
      ]
     },
     "execution_count": 63,
     "metadata": {},
     "output_type": "execute_result"
    }
   ],
   "source": [
    "X"
   ]
  },
  {
   "cell_type": "code",
   "execution_count": 64,
   "metadata": {},
   "outputs": [
    {
     "data": {
      "text/plain": [
       "(184, 5)"
      ]
     },
     "execution_count": 64,
     "metadata": {},
     "output_type": "execute_result"
    }
   ],
   "source": [
    "X1.shape"
   ]
  },
  {
   "cell_type": "code",
   "execution_count": 65,
   "metadata": {},
   "outputs": [
    {
     "data": {
      "text/plain": [
       "(184,)"
      ]
     },
     "execution_count": 65,
     "metadata": {},
     "output_type": "execute_result"
    }
   ],
   "source": [
    "y.shape"
   ]
  },
  {
   "cell_type": "code",
   "execution_count": 66,
   "metadata": {},
   "outputs": [],
   "source": [
    "#pd.get_dummies(data,columns=['venue','batting_team','bowling_team'],prefix='')\n",
    "#data=pd.concat([Chennai.get_dummies(Chennai['venue']),pd.get_dummies(data['innings'],prefix='innings'),pd.get_dummies(data['batting_team']),pd.get_dummies(data['bowling_team']),data['total_runs']], axis=1)"
   ]
  },
  {
   "cell_type": "code",
   "execution_count": 67,
   "metadata": {
    "scrolled": false
   },
   "outputs": [],
   "source": [
    "#data.iloc[:,0:81]"
   ]
  },
  {
   "cell_type": "code",
   "execution_count": 68,
   "metadata": {},
   "outputs": [],
   "source": [
    "X_train,X_test,y_train,y_test=train_test_split(X,y,test_size=0.05,random_state=10)\n",
    "X1_train,X1_test,y1_train,y1_test=train_test_split(X1,y1,test_size=0.05,random_state=10)"
   ]
  },
  {
   "cell_type": "code",
   "execution_count": 69,
   "metadata": {},
   "outputs": [
    {
     "data": {
      "text/plain": [
       "array([[0.        , 1.        , 1.        , 1.24400871, 1.29716117],\n",
       "       [1.        , 0.        , 2.        , 0.72470238, 0.99002849],\n",
       "       [0.        , 1.        , 1.        , 1.22348485, 1.625     ],\n",
       "       [0.        , 1.        , 2.        , 1.38303571, 1.25      ],\n",
       "       [1.        , 0.        , 1.        , 1.26045884, 1.39814815],\n",
       "       [0.        , 1.        , 0.        , 1.30625   , 1.4537037 ],\n",
       "       [1.        , 0.        , 2.        , 0.90922619, 1.02083333],\n",
       "       [0.        , 1.        , 1.        , 1.93269231, 1.95833333],\n",
       "       [1.        , 0.        , 3.        , 0.55531136, 0.71428571],\n",
       "       [0.        , 1.        , 2.        , 1.13229167, 1.14029304]])"
      ]
     },
     "execution_count": 69,
     "metadata": {},
     "output_type": "execute_result"
    }
   ],
   "source": [
    "X1_test"
   ]
  },
  {
   "cell_type": "code",
   "execution_count": 70,
   "metadata": {},
   "outputs": [
    {
     "data": {
      "text/plain": [
       "array([47., 32., 48., 45., 49., 47., 36., 66., 23., 43.])"
      ]
     },
     "execution_count": 70,
     "metadata": {},
     "output_type": "execute_result"
    }
   ],
   "source": [
    "y1_test"
   ]
  },
  {
   "cell_type": "markdown",
   "metadata": {},
   "source": [
    "Linear Regression"
   ]
  },
  {
   "cell_type": "code",
   "execution_count": 71,
   "metadata": {},
   "outputs": [],
   "source": [
    "#fit a linear regressor\n",
    "linearRegressor=LinearRegression()\n",
    "linearRegressor1=LinearRegression()"
   ]
  },
  {
   "cell_type": "code",
   "execution_count": 72,
   "metadata": {},
   "outputs": [
    {
     "data": {
      "text/plain": [
       "array([49.17784719, 40.89713313, 52.73792787, 43.89387558, 35.85362753,\n",
       "       51.46422549, 40.52301569, 51.97410695, 40.2171189 , 44.43337222])"
      ]
     },
     "execution_count": 72,
     "metadata": {},
     "output_type": "execute_result"
    }
   ],
   "source": [
    "check=linearRegressor.fit(X_train, y_train).predict(X_test)\n",
    "check"
   ]
  },
  {
   "cell_type": "code",
   "execution_count": 73,
   "metadata": {},
   "outputs": [
    {
     "data": {
      "text/plain": [
       "array([[0., 1., 0., ..., 0., 0., 1.],\n",
       "       [1., 0., 0., ..., 0., 1., 0.],\n",
       "       [0., 0., 0., ..., 0., 0., 0.],\n",
       "       ...,\n",
       "       [0., 0., 0., ..., 1., 0., 1.],\n",
       "       [0., 0., 0., ..., 0., 0., 1.],\n",
       "       [0., 0., 0., ..., 0., 0., 0.]])"
      ]
     },
     "execution_count": 73,
     "metadata": {},
     "output_type": "execute_result"
    }
   ],
   "source": [
    "X_train"
   ]
  },
  {
   "cell_type": "code",
   "execution_count": 74,
   "metadata": {},
   "outputs": [
    {
     "data": {
      "text/plain": [
       "0.31566842310181287"
      ]
     },
     "execution_count": 74,
     "metadata": {},
     "output_type": "execute_result"
    }
   ],
   "source": [
    "from sklearn.metrics import r2_score\n",
    "score =r2_score(y_test, check)\n",
    "score"
   ]
  },
  {
   "cell_type": "code",
   "execution_count": 75,
   "metadata": {},
   "outputs": [
    {
     "data": {
      "text/plain": [
       "LinearRegression()"
      ]
     },
     "execution_count": 75,
     "metadata": {},
     "output_type": "execute_result"
    }
   ],
   "source": [
    "linearRegressor.fit(X_train, y_train)\n",
    "linearRegressor1.fit(X1_train, y1_train)"
   ]
  },
  {
   "cell_type": "code",
   "execution_count": 76,
   "metadata": {},
   "outputs": [
    {
     "data": {
      "text/plain": [
       "0.8887225740268169"
      ]
     },
     "execution_count": 76,
     "metadata": {},
     "output_type": "execute_result"
    }
   ],
   "source": [
    "linearRegressor.score(X_test,y_test)\n",
    "linearRegressor1.score(X1_test,y1_test)"
   ]
  },
  {
   "cell_type": "code",
   "execution_count": 77,
   "metadata": {},
   "outputs": [
    {
     "data": {
      "text/plain": [
       "['team_encoder.joblib']"
      ]
     },
     "execution_count": 77,
     "metadata": {},
     "output_type": "execute_result"
    }
   ],
   "source": [
    "joblib.dump(linearRegressor, 'regression_model.joblib')\n",
    "joblib.dump(linearRegressor1, 'regression_model1.joblib')\n",
    "joblib.dump(ve, 'venue_encoder.joblib')\n",
    "joblib.dump(te, 'team_encoder.joblib')"
   ]
  },
  {
   "cell_type": "markdown",
   "metadata": {},
   "source": [
    "RANDOM FOREST\n"
   ]
  },
  {
   "cell_type": "code",
   "execution_count": 187,
   "metadata": {},
   "outputs": [],
   "source": [
    "from sklearn.ensemble import RandomForestRegressor"
   ]
  },
  {
   "cell_type": "code",
   "execution_count": 188,
   "metadata": {},
   "outputs": [
    {
     "data": {
      "text/plain": [
       "RandomForestRegressor(n_estimators=10, random_state=40)"
      ]
     },
     "execution_count": 188,
     "metadata": {},
     "output_type": "execute_result"
    }
   ],
   "source": [
    "random_regressor=RandomForestRegressor(n_estimators=10,random_state=40)\n",
    "random_regressor.fit(X1_train, y1_train)"
   ]
  },
  {
   "cell_type": "code",
   "execution_count": 189,
   "metadata": {},
   "outputs": [
    {
     "data": {
      "text/plain": [
       "0.8989684669573969"
      ]
     },
     "execution_count": 189,
     "metadata": {},
     "output_type": "execute_result"
    }
   ],
   "source": [
    "random_regressor.score(X1_test,y1_test)"
   ]
  },
  {
   "cell_type": "code",
   "execution_count": 190,
   "metadata": {},
   "outputs": [
    {
     "data": {
      "text/plain": [
       "array([47., 32., 48., 45., 49., 47., 36., 66., 23., 43.])"
      ]
     },
     "execution_count": 190,
     "metadata": {},
     "output_type": "execute_result"
    }
   ],
   "source": [
    "y1_test"
   ]
  },
  {
   "cell_type": "code",
   "execution_count": 191,
   "metadata": {},
   "outputs": [
    {
     "data": {
      "text/plain": [
       "array([46.7, 36.1, 52.7, 48.6, 48.8, 52.8, 41.5, 65.3, 24.1, 41.3])"
      ]
     },
     "execution_count": 191,
     "metadata": {},
     "output_type": "execute_result"
    }
   ],
   "source": [
    "check=random_regressor.fit(X1_train, y1_train).predict(X1_test)\n",
    "check"
   ]
  },
  {
   "cell_type": "code",
   "execution_count": 192,
   "metadata": {},
   "outputs": [
    {
     "data": {
      "text/plain": [
       "['regression_model1.joblib']"
      ]
     },
     "execution_count": 192,
     "metadata": {},
     "output_type": "execute_result"
    }
   ],
   "source": [
    "joblib.dump(random_regressor, 'regression_model1.joblib')"
   ]
  },
  {
   "cell_type": "markdown",
   "metadata": {},
   "source": [
    "# Predictor"
   ]
  },
  {
   "cell_type": "code",
   "execution_count": 93,
   "metadata": {},
   "outputs": [
    {
     "ename": "SyntaxError",
     "evalue": "invalid syntax (<ipython-input-93-2f5f24b61d52>, line 2)",
     "output_type": "error",
     "traceback": [
      "\u001b[1;36m  File \u001b[1;32m\"<ipython-input-93-2f5f24b61d52>\"\u001b[1;36m, line \u001b[1;32m2\u001b[0m\n\u001b[1;33m    ..\\Submission Format\\predictor.py\u001b[0m\n\u001b[1;37m    ^\u001b[0m\n\u001b[1;31mSyntaxError\u001b[0m\u001b[1;31m:\u001b[0m invalid syntax\n"
     ]
    }
   ],
   "source": [
    "%load predictor.py\n",
    "..\\Submission Format\\predictor.py"
   ]
  },
  {
   "cell_type": "code",
   "execution_count": 153,
   "metadata": {},
   "outputs": [
    {
     "name": "stdout",
     "output_type": "stream",
     "text": [
      "C:\\Users\\user\\Documents\\Hackathon\n"
     ]
    }
   ],
   "source": [
    "%pwd\n",
    "%cd C:\\Users\\user\\Documents\\Hackathon"
   ]
  },
  {
   "cell_type": "code",
   "execution_count": 170,
   "metadata": {},
   "outputs": [],
   "source": [
    "prediction = 0"
   ]
  },
  {
   "cell_type": "code",
   "execution_count": 194,
   "metadata": {},
   "outputs": [],
   "source": [
    "with open('regression_model.joblib','rb') as f:\n",
    "    regressor=joblib.load(f)\n",
    "with open('regression_model1.joblib','rb') as f:\n",
    "    regressor1=joblib.load(f)\n",
    "with open('venue_encoder.joblib','rb') as f:\n",
    "    venue_encoder=joblib.load(f)\n",
    "with open('team_encoder.joblib','rb') as f:\n",
    "    team_encoder=joblib.load(f) "
   ]
  },
  {
   "cell_type": "code",
   "execution_count": 195,
   "metadata": {},
   "outputs": [
    {
     "data": {
      "text/plain": [
       "'C:\\\\Users\\\\user\\\\Documents\\\\Hackathon'"
      ]
     },
     "execution_count": 195,
     "metadata": {},
     "output_type": "execute_result"
    }
   ],
   "source": [
    "pwd"
   ]
  },
  {
   "cell_type": "code",
   "execution_count": 198,
   "metadata": {},
   "outputs": [],
   "source": [
    "test_case=pd.read_csv('21_inn1.csv')"
   ]
  },
  {
   "cell_type": "code",
   "execution_count": 199,
   "metadata": {},
   "outputs": [],
   "source": [
    "test_case['Wicket']=test_case['batsmen'].str.count(',')-1"
   ]
  },
  {
   "cell_type": "code",
   "execution_count": 200,
   "metadata": {},
   "outputs": [
    {
     "data": {
      "text/html": [
       "<div>\n",
       "<style scoped>\n",
       "    .dataframe tbody tr th:only-of-type {\n",
       "        vertical-align: middle;\n",
       "    }\n",
       "\n",
       "    .dataframe tbody tr th {\n",
       "        vertical-align: top;\n",
       "    }\n",
       "\n",
       "    .dataframe thead th {\n",
       "        text-align: right;\n",
       "    }\n",
       "</style>\n",
       "<table border=\"1\" class=\"dataframe\">\n",
       "  <thead>\n",
       "    <tr style=\"text-align: right;\">\n",
       "      <th></th>\n",
       "      <th>venue</th>\n",
       "      <th>innings</th>\n",
       "      <th>batting_team</th>\n",
       "      <th>bowling_team</th>\n",
       "      <th>batsmen</th>\n",
       "      <th>bowlers</th>\n",
       "      <th>Wicket</th>\n",
       "    </tr>\n",
       "  </thead>\n",
       "  <tbody>\n",
       "    <tr>\n",
       "      <th>0</th>\n",
       "      <td>Narendra Modi Stadium</td>\n",
       "      <td>1</td>\n",
       "      <td>Punjab Kings</td>\n",
       "      <td>Kolkata Knight Riders</td>\n",
       "      <td>MA Agarwal,KL Rahul,CH Gayle</td>\n",
       "      <td>Shivam Mavi,PJ Cummins,SP Narine</td>\n",
       "      <td>1</td>\n",
       "    </tr>\n",
       "  </tbody>\n",
       "</table>\n",
       "</div>"
      ],
      "text/plain": [
       "                   venue  innings  batting_team           bowling_team  \\\n",
       "0  Narendra Modi Stadium        1  Punjab Kings  Kolkata Knight Riders   \n",
       "\n",
       "                        batsmen                           bowlers  Wicket  \n",
       "0  MA Agarwal,KL Rahul,CH Gayle  Shivam Mavi,PJ Cummins,SP Narine       1  "
      ]
     },
     "execution_count": 200,
     "metadata": {},
     "output_type": "execute_result"
    }
   ],
   "source": [
    "test_case"
   ]
  },
  {
   "cell_type": "code",
   "execution_count": 201,
   "metadata": {},
   "outputs": [
    {
     "data": {
      "text/html": [
       "<div>\n",
       "<style scoped>\n",
       "    .dataframe tbody tr th:only-of-type {\n",
       "        vertical-align: middle;\n",
       "    }\n",
       "\n",
       "    .dataframe tbody tr th {\n",
       "        vertical-align: top;\n",
       "    }\n",
       "\n",
       "    .dataframe thead th {\n",
       "        text-align: right;\n",
       "    }\n",
       "</style>\n",
       "<table border=\"1\" class=\"dataframe\">\n",
       "  <thead>\n",
       "    <tr style=\"text-align: right;\">\n",
       "      <th></th>\n",
       "      <th>0</th>\n",
       "      <th>1</th>\n",
       "      <th>2</th>\n",
       "    </tr>\n",
       "  </thead>\n",
       "  <tbody>\n",
       "    <tr>\n",
       "      <th>0</th>\n",
       "      <td>MA Agarwal</td>\n",
       "      <td>KL Rahul</td>\n",
       "      <td>CH Gayle</td>\n",
       "    </tr>\n",
       "  </tbody>\n",
       "</table>\n",
       "</div>"
      ],
      "text/plain": [
       "            0         1         2\n",
       "0  MA Agarwal  KL Rahul  CH Gayle"
      ]
     },
     "execution_count": 201,
     "metadata": {},
     "output_type": "execute_result"
    }
   ],
   "source": [
    "batsmen=test_case['batsmen'].str.split(pat=',',expand=True)\n",
    "batsmen"
   ]
  },
  {
   "cell_type": "code",
   "execution_count": 202,
   "metadata": {},
   "outputs": [
    {
     "data": {
      "text/plain": [
       "venue           object\n",
       "innings          int64\n",
       "batting_team    object\n",
       "bowling_team    object\n",
       "batsmen         object\n",
       "bowlers         object\n",
       "Wicket           int64\n",
       "dtype: object"
      ]
     },
     "execution_count": 202,
     "metadata": {},
     "output_type": "execute_result"
    }
   ],
   "source": [
    "#batsmen=test_case['batsmen'].str.split(pat=',')\n",
    "#batsmen=np.array(batsmen)\n",
    "\n",
    "batsmen=test_case.values[0,4]\n",
    "test_case.dtypes"
   ]
  },
  {
   "cell_type": "code",
   "execution_count": 203,
   "metadata": {},
   "outputs": [
    {
     "data": {
      "text/html": [
       "<div>\n",
       "<style scoped>\n",
       "    .dataframe tbody tr th:only-of-type {\n",
       "        vertical-align: middle;\n",
       "    }\n",
       "\n",
       "    .dataframe tbody tr th {\n",
       "        vertical-align: top;\n",
       "    }\n",
       "\n",
       "    .dataframe thead th {\n",
       "        text-align: right;\n",
       "    }\n",
       "</style>\n",
       "<table border=\"1\" class=\"dataframe\">\n",
       "  <thead>\n",
       "    <tr style=\"text-align: right;\">\n",
       "      <th></th>\n",
       "      <th>str_rate</th>\n",
       "    </tr>\n",
       "    <tr>\n",
       "      <th>striker</th>\n",
       "      <th></th>\n",
       "    </tr>\n",
       "  </thead>\n",
       "  <tbody>\n",
       "    <tr>\n",
       "      <th>F du Plessis</th>\n",
       "      <td>1.600000</td>\n",
       "    </tr>\n",
       "    <tr>\n",
       "      <th>RD Gaikwad</th>\n",
       "      <td>0.966667</td>\n",
       "    </tr>\n",
       "  </tbody>\n",
       "</table>\n",
       "</div>"
      ],
      "text/plain": [
       "              str_rate\n",
       "striker               \n",
       "F du Plessis  1.600000\n",
       "RD Gaikwad    0.966667"
      ]
     },
     "execution_count": 203,
     "metadata": {},
     "output_type": "execute_result"
    }
   ],
   "source": [
    "str_rate=pd.read_csv('strike_rate.csv')\n",
    "str_rate=str_rate.set_index('striker')\n",
    "str_rate.loc[['F du Plessis','RD Gaikwad']]\n"
   ]
  },
  {
   "cell_type": "code",
   "execution_count": 204,
   "metadata": {},
   "outputs": [
    {
     "data": {
      "text/html": [
       "<div>\n",
       "<style scoped>\n",
       "    .dataframe tbody tr th:only-of-type {\n",
       "        vertical-align: middle;\n",
       "    }\n",
       "\n",
       "    .dataframe tbody tr th {\n",
       "        vertical-align: top;\n",
       "    }\n",
       "\n",
       "    .dataframe thead th {\n",
       "        text-align: right;\n",
       "    }\n",
       "</style>\n",
       "<table border=\"1\" class=\"dataframe\">\n",
       "  <thead>\n",
       "    <tr style=\"text-align: right;\">\n",
       "      <th></th>\n",
       "      <th>venue</th>\n",
       "      <th>innings</th>\n",
       "      <th>batting_team</th>\n",
       "      <th>bowling_team</th>\n",
       "      <th>batsmen</th>\n",
       "      <th>bowlers</th>\n",
       "      <th>Wicket</th>\n",
       "      <th>str_rate</th>\n",
       "    </tr>\n",
       "  </thead>\n",
       "  <tbody>\n",
       "    <tr>\n",
       "      <th>0</th>\n",
       "      <td>Narendra Modi Stadium</td>\n",
       "      <td>1</td>\n",
       "      <td>Punjab Kings</td>\n",
       "      <td>Kolkata Knight Riders</td>\n",
       "      <td>MA Agarwal,KL Rahul,CH Gayle</td>\n",
       "      <td>Shivam Mavi,PJ Cummins,SP Narine</td>\n",
       "      <td>1</td>\n",
       "      <td>1.232303</td>\n",
       "    </tr>\n",
       "  </tbody>\n",
       "</table>\n",
       "</div>"
      ],
      "text/plain": [
       "                   venue  innings  batting_team           bowling_team  \\\n",
       "0  Narendra Modi Stadium        1  Punjab Kings  Kolkata Knight Riders   \n",
       "\n",
       "                        batsmen                           bowlers  Wicket  \\\n",
       "0  MA Agarwal,KL Rahul,CH Gayle  Shivam Mavi,PJ Cummins,SP Narine       1   \n",
       "\n",
       "   str_rate  \n",
       "0  1.232303  "
      ]
     },
     "execution_count": 204,
     "metadata": {},
     "output_type": "execute_result"
    }
   ],
   "source": [
    "batsmen=test_case['batsmen'].str.split(pat=',',expand=True)\n",
    "n=0\n",
    "rate=0\n",
    "for i in range(len(batsmen.columns)):\n",
    "    if batsmen.iloc[0,i] in str_rate.index:\n",
    "        n=n+1\n",
    "        rate=rate+str_rate.loc[batsmen.iloc[0,i],'str_rate']\n",
    "rate=rate/n \n",
    "if(n>0):\n",
    "    test_case['str_rate']=rate\n",
    "else:\n",
    "    test_case['str_rate']=str_rate.str_rate.mean() \n",
    "\n",
    "test_case    "
   ]
  },
  {
   "cell_type": "code",
   "execution_count": 188,
   "metadata": {},
   "outputs": [
    {
     "data": {
      "text/plain": [
       "48.96"
      ]
     },
     "execution_count": 188,
     "metadata": {},
     "output_type": "execute_result"
    }
   ],
   "source": [
    "1.36*36\n"
   ]
  },
  {
   "cell_type": "code",
   "execution_count": 189,
   "metadata": {},
   "outputs": [
    {
     "data": {
      "text/plain": [
       "2"
      ]
     },
     "execution_count": 189,
     "metadata": {},
     "output_type": "execute_result"
    }
   ],
   "source": [
    "n"
   ]
  },
  {
   "cell_type": "code",
   "execution_count": 205,
   "metadata": {
    "scrolled": true
   },
   "outputs": [
    {
     "data": {
      "text/html": [
       "<div>\n",
       "<style scoped>\n",
       "    .dataframe tbody tr th:only-of-type {\n",
       "        vertical-align: middle;\n",
       "    }\n",
       "\n",
       "    .dataframe tbody tr th {\n",
       "        vertical-align: top;\n",
       "    }\n",
       "\n",
       "    .dataframe thead th {\n",
       "        text-align: right;\n",
       "    }\n",
       "</style>\n",
       "<table border=\"1\" class=\"dataframe\">\n",
       "  <thead>\n",
       "    <tr style=\"text-align: right;\">\n",
       "      <th></th>\n",
       "      <th>bowler</th>\n",
       "      <th>ec_rate</th>\n",
       "    </tr>\n",
       "  </thead>\n",
       "  <tbody>\n",
       "    <tr>\n",
       "      <th>0</th>\n",
       "      <td>A Mishra</td>\n",
       "      <td>1.666667</td>\n",
       "    </tr>\n",
       "    <tr>\n",
       "      <th>1</th>\n",
       "      <td>A Nortje</td>\n",
       "      <td>1.433333</td>\n",
       "    </tr>\n",
       "    <tr>\n",
       "      <th>2</th>\n",
       "      <td>AD Russell</td>\n",
       "      <td>1.222222</td>\n",
       "    </tr>\n",
       "    <tr>\n",
       "      <th>3</th>\n",
       "      <td>AF Milne</td>\n",
       "      <td>2.714286</td>\n",
       "    </tr>\n",
       "    <tr>\n",
       "      <th>4</th>\n",
       "      <td>AJ Tye</td>\n",
       "      <td>1.166667</td>\n",
       "    </tr>\n",
       "    <tr>\n",
       "      <th>...</th>\n",
       "      <td>...</td>\n",
       "      <td>...</td>\n",
       "    </tr>\n",
       "    <tr>\n",
       "      <th>94</th>\n",
       "      <td>UT Yadav</td>\n",
       "      <td>1.500000</td>\n",
       "    </tr>\n",
       "    <tr>\n",
       "      <th>95</th>\n",
       "      <td>V Shankar</td>\n",
       "      <td>1.272727</td>\n",
       "    </tr>\n",
       "    <tr>\n",
       "      <th>96</th>\n",
       "      <td>VR Aaron</td>\n",
       "      <td>1.744681</td>\n",
       "    </tr>\n",
       "    <tr>\n",
       "      <th>97</th>\n",
       "      <td>Washington Sundar</td>\n",
       "      <td>1.333333</td>\n",
       "    </tr>\n",
       "    <tr>\n",
       "      <th>98</th>\n",
       "      <td>YS Chahal</td>\n",
       "      <td>1.636364</td>\n",
       "    </tr>\n",
       "  </tbody>\n",
       "</table>\n",
       "<p>99 rows × 2 columns</p>\n",
       "</div>"
      ],
      "text/plain": [
       "               bowler   ec_rate\n",
       "0            A Mishra  1.666667\n",
       "1            A Nortje  1.433333\n",
       "2          AD Russell  1.222222\n",
       "3            AF Milne  2.714286\n",
       "4              AJ Tye  1.166667\n",
       "..                ...       ...\n",
       "94           UT Yadav  1.500000\n",
       "95          V Shankar  1.272727\n",
       "96           VR Aaron  1.744681\n",
       "97  Washington Sundar  1.333333\n",
       "98          YS Chahal  1.636364\n",
       "\n",
       "[99 rows x 2 columns]"
      ]
     },
     "execution_count": 205,
     "metadata": {},
     "output_type": "execute_result"
    }
   ],
   "source": [
    "economy=pd.read_csv('economy_rate.csv')\n",
    "economy"
   ]
  },
  {
   "cell_type": "code",
   "execution_count": 206,
   "metadata": {},
   "outputs": [
    {
     "data": {
      "text/html": [
       "<div>\n",
       "<style scoped>\n",
       "    .dataframe tbody tr th:only-of-type {\n",
       "        vertical-align: middle;\n",
       "    }\n",
       "\n",
       "    .dataframe tbody tr th {\n",
       "        vertical-align: top;\n",
       "    }\n",
       "\n",
       "    .dataframe thead th {\n",
       "        text-align: right;\n",
       "    }\n",
       "</style>\n",
       "<table border=\"1\" class=\"dataframe\">\n",
       "  <thead>\n",
       "    <tr style=\"text-align: right;\">\n",
       "      <th></th>\n",
       "      <th>ec_rate</th>\n",
       "    </tr>\n",
       "    <tr>\n",
       "      <th>bowler</th>\n",
       "      <th></th>\n",
       "    </tr>\n",
       "  </thead>\n",
       "  <tbody>\n",
       "    <tr>\n",
       "      <th>A Mishra</th>\n",
       "      <td>1.666667</td>\n",
       "    </tr>\n",
       "    <tr>\n",
       "      <th>A Nortje</th>\n",
       "      <td>1.433333</td>\n",
       "    </tr>\n",
       "    <tr>\n",
       "      <th>AD Russell</th>\n",
       "      <td>1.222222</td>\n",
       "    </tr>\n",
       "    <tr>\n",
       "      <th>AF Milne</th>\n",
       "      <td>2.714286</td>\n",
       "    </tr>\n",
       "    <tr>\n",
       "      <th>AJ Tye</th>\n",
       "      <td>1.166667</td>\n",
       "    </tr>\n",
       "    <tr>\n",
       "      <th>...</th>\n",
       "      <td>...</td>\n",
       "    </tr>\n",
       "    <tr>\n",
       "      <th>UT Yadav</th>\n",
       "      <td>1.500000</td>\n",
       "    </tr>\n",
       "    <tr>\n",
       "      <th>V Shankar</th>\n",
       "      <td>1.272727</td>\n",
       "    </tr>\n",
       "    <tr>\n",
       "      <th>VR Aaron</th>\n",
       "      <td>1.744681</td>\n",
       "    </tr>\n",
       "    <tr>\n",
       "      <th>Washington Sundar</th>\n",
       "      <td>1.333333</td>\n",
       "    </tr>\n",
       "    <tr>\n",
       "      <th>YS Chahal</th>\n",
       "      <td>1.636364</td>\n",
       "    </tr>\n",
       "  </tbody>\n",
       "</table>\n",
       "<p>99 rows × 1 columns</p>\n",
       "</div>"
      ],
      "text/plain": [
       "                    ec_rate\n",
       "bowler                     \n",
       "A Mishra           1.666667\n",
       "A Nortje           1.433333\n",
       "AD Russell         1.222222\n",
       "AF Milne           2.714286\n",
       "AJ Tye             1.166667\n",
       "...                     ...\n",
       "UT Yadav           1.500000\n",
       "V Shankar          1.272727\n",
       "VR Aaron           1.744681\n",
       "Washington Sundar  1.333333\n",
       "YS Chahal          1.636364\n",
       "\n",
       "[99 rows x 1 columns]"
      ]
     },
     "execution_count": 206,
     "metadata": {},
     "output_type": "execute_result"
    }
   ],
   "source": [
    "economy=economy.set_index('bowler')\n",
    "economy"
   ]
  },
  {
   "cell_type": "code",
   "execution_count": 192,
   "metadata": {},
   "outputs": [
    {
     "data": {
      "text/plain": [
       "bowler\n",
       "DL Chahar    1.266667\n",
       "SM Curran    1.091667\n",
       "L Ngidi      1.538462\n",
       "Name: ec_rate, dtype: float64"
      ]
     },
     "execution_count": 192,
     "metadata": {},
     "output_type": "execute_result"
    }
   ],
   "source": [
    "economy.loc[['DL Chahar','SM Curran','L Ngidi'], 'ec_rate']"
   ]
  },
  {
   "cell_type": "code",
   "execution_count": 207,
   "metadata": {},
   "outputs": [
    {
     "data": {
      "text/html": [
       "<div>\n",
       "<style scoped>\n",
       "    .dataframe tbody tr th:only-of-type {\n",
       "        vertical-align: middle;\n",
       "    }\n",
       "\n",
       "    .dataframe tbody tr th {\n",
       "        vertical-align: top;\n",
       "    }\n",
       "\n",
       "    .dataframe thead th {\n",
       "        text-align: right;\n",
       "    }\n",
       "</style>\n",
       "<table border=\"1\" class=\"dataframe\">\n",
       "  <thead>\n",
       "    <tr style=\"text-align: right;\">\n",
       "      <th></th>\n",
       "      <th>venue</th>\n",
       "      <th>innings</th>\n",
       "      <th>batting_team</th>\n",
       "      <th>bowling_team</th>\n",
       "      <th>batsmen</th>\n",
       "      <th>bowlers</th>\n",
       "      <th>Wicket</th>\n",
       "      <th>str_rate</th>\n",
       "      <th>ec_rate</th>\n",
       "    </tr>\n",
       "  </thead>\n",
       "  <tbody>\n",
       "    <tr>\n",
       "      <th>0</th>\n",
       "      <td>Narendra Modi Stadium</td>\n",
       "      <td>1</td>\n",
       "      <td>Punjab Kings</td>\n",
       "      <td>Kolkata Knight Riders</td>\n",
       "      <td>MA Agarwal,KL Rahul,CH Gayle</td>\n",
       "      <td>Shivam Mavi,PJ Cummins,SP Narine</td>\n",
       "      <td>1</td>\n",
       "      <td>1.232303</td>\n",
       "      <td>1.360428</td>\n",
       "    </tr>\n",
       "  </tbody>\n",
       "</table>\n",
       "</div>"
      ],
      "text/plain": [
       "                   venue  innings  batting_team           bowling_team  \\\n",
       "0  Narendra Modi Stadium        1  Punjab Kings  Kolkata Knight Riders   \n",
       "\n",
       "                        batsmen                           bowlers  Wicket  \\\n",
       "0  MA Agarwal,KL Rahul,CH Gayle  Shivam Mavi,PJ Cummins,SP Narine       1   \n",
       "\n",
       "   str_rate   ec_rate  \n",
       "0  1.232303  1.360428  "
      ]
     },
     "execution_count": 207,
     "metadata": {},
     "output_type": "execute_result"
    }
   ],
   "source": [
    "bowler=test_case['bowlers'].str.split(pat=',',expand=True)\n",
    "n=0\n",
    "rate=0\n",
    "for i in range(len(bowler.columns)):\n",
    "    \n",
    "    if bowler.iloc[0,i] in economy.index:\n",
    "        n=n+1\n",
    "        rate=rate+economy.loc[bowler.iloc[0,i],'ec_rate']\n",
    "if(n>0):\n",
    "    rate=rate/n\n",
    "    test_case['ec_rate']=rate\n",
    "else:\n",
    "    test_case['ec_rate']=economy.ec_rate.mean()\n",
    "test_case    "
   ]
  },
  {
   "cell_type": "code",
   "execution_count": 194,
   "metadata": {},
   "outputs": [
    {
     "data": {
      "text/plain": [
       "46.7604"
      ]
     },
     "execution_count": 194,
     "metadata": {},
     "output_type": "execute_result"
    }
   ],
   "source": [
    "1.2989*36\n",
    "#1.188889*36"
   ]
  },
  {
   "cell_type": "code",
   "execution_count": 208,
   "metadata": {},
   "outputs": [
    {
     "data": {
      "text/plain": [
       "3"
      ]
     },
     "execution_count": 208,
     "metadata": {},
     "output_type": "execute_result"
    }
   ],
   "source": [
    "n"
   ]
  },
  {
   "cell_type": "code",
   "execution_count": 196,
   "metadata": {},
   "outputs": [
    {
     "name": "stdout",
     "output_type": "stream",
     "text": [
      "1\n"
     ]
    }
   ],
   "source": [
    "if bowler.iloc[0,1] in economy.index:\n",
    "    print(1)"
   ]
  },
  {
   "cell_type": "code",
   "execution_count": 209,
   "metadata": {},
   "outputs": [],
   "source": [
    "test_case['venue']=venue_encoder.transform(test_case['venue'])\n",
    "test_case['bowling_team']=team_encoder.transform(test_case['bowling_team'])\n",
    "test_case['batting_team']=team_encoder.transform(test_case['batting_team'])"
   ]
  },
  {
   "cell_type": "code",
   "execution_count": 210,
   "metadata": {},
   "outputs": [],
   "source": [
    "test_case=test_case[['venue','innings','batting_team','bowling_team','Wicket','ec_rate','str_rate']]"
   ]
  },
  {
   "cell_type": "markdown",
   "metadata": {},
   "source": [
    "### Predict case for Specific Match"
   ]
  },
  {
   "cell_type": "code",
   "execution_count": 39,
   "metadata": {},
   "outputs": [
    {
     "data": {
      "text/plain": [
       "array([[1., 0., 0., 0., 0., 0., 0., 1., 1., 0., 0., 0., 0., 0., 0., 0.,\n",
       "        0., 0., 0., 0., 0., 1., 0., 0., 0., 0., 0., 0., 1.]])"
      ]
     },
     "execution_count": 39,
     "metadata": {},
     "output_type": "execute_result"
    }
   ],
   "source": [
    "testArray=test_case.iloc[:,:5].to_numpy()\n",
    "rateArray=test_case.iloc[:,4:7].to_numpy()\n",
    "test_case=np.concatenate((np.eye(6)[testArray[:,0]],\n",
    "                          np.eye(2)[testArray[:,1]-1],\n",
    "                          np.eye(10)[testArray[:,2]],\n",
    "                          np.eye(10)[testArray[:,3]],\n",
    "                          testArray[:,4].reshape(testArray[:,4].size,1)),axis=1)\n",
    "rate_case=np.concatenate((np.eye(2)[testArray[:,1]-1],\n",
    "                  rateArray[:,:]),axis=1)\n",
    "test_case"
   ]
  },
  {
   "cell_type": "markdown",
   "metadata": {},
   "source": [
    "### Predict case for All Match"
   ]
  },
  {
   "cell_type": "code",
   "execution_count": 217,
   "metadata": {},
   "outputs": [
    {
     "data": {
      "text/plain": [
       "array([[1., 0., 0., 0., 0., 0., 0., 0., 0., 0., 0., 0., 0., 0., 0., 0.,\n",
       "        0., 0., 0., 0., 0., 0., 0., 0., 0., 0., 0., 0., 0., 0., 0., 0.,\n",
       "        0., 0., 0., 0., 0., 0., 0., 0., 0., 0., 1., 1., 0., 0., 0., 0.,\n",
       "        0., 0., 0., 0., 0., 0., 0., 0., 0., 0., 0., 0., 0., 0., 0., 0.,\n",
       "        0., 0., 0., 1., 0., 0., 0., 0., 0., 0., 0., 1.]])"
      ]
     },
     "execution_count": 217,
     "metadata": {},
     "output_type": "execute_result"
    }
   ],
   "source": [
    "testArray=test_case.iloc[:,:5].to_numpy()\n",
    "rateArray=test_case.iloc[:,4:7].to_numpy()\n",
    "test_case=np.concatenate((np.eye(41)[testArray[:,0]],\n",
    "                          np.eye(2)[testArray[:,1]-1],\n",
    "                          np.eye(16)[testArray[:,2]],\n",
    "                          np.eye(16)[testArray[:,3]],\n",
    "                          testArray[:,4].reshape(testArray[:,4].size,1)),axis=1)\n",
    "rate_case=np.concatenate((np.eye(2)[testArray[:,1]-1],\n",
    "                  rateArray[:,:]),axis=1)\n",
    "test_case"
   ]
  },
  {
   "cell_type": "markdown",
   "metadata": {},
   "source": [
    "### Predict case for last two IPL edition\n"
   ]
  },
  {
   "cell_type": "code",
   "execution_count": 211,
   "metadata": {},
   "outputs": [
    {
     "data": {
      "text/plain": [
       "array([[0., 0., 0., 1., 0., 0., 0., 1., 0., 0., 0., 0., 0., 0., 0., 1.,\n",
       "        0., 0., 0., 0., 0., 0., 0., 1., 0., 0., 0., 0., 0., 1.]])"
      ]
     },
     "execution_count": 211,
     "metadata": {},
     "output_type": "execute_result"
    }
   ],
   "source": [
    "testArray=test_case.iloc[:,:5].to_numpy()\n",
    "rateArray=test_case.iloc[:,4:7].to_numpy()\n",
    "test_case=np.concatenate((np.eye(7)[testArray[:,0]],\n",
    "                          np.eye(2)[testArray[:,1]-1],\n",
    "                          np.eye(10)[testArray[:,2]],\n",
    "                          np.eye(10)[testArray[:,3]],\n",
    "                          testArray[:,4].reshape(testArray[:,4].size,1)),axis=1)\n",
    "rate_case=np.concatenate((np.eye(2)[testArray[:,1]-1],\n",
    "                  rateArray[:,:]),axis=1)\n",
    "test_case"
   ]
  },
  {
   "cell_type": "code",
   "execution_count": 212,
   "metadata": {},
   "outputs": [
    {
     "data": {
      "text/plain": [
       "array([[1.        , 0.        , 1.        , 1.36042805, 1.23230337]])"
      ]
     },
     "execution_count": 212,
     "metadata": {},
     "output_type": "execute_result"
    }
   ],
   "source": [
    "rate_case"
   ]
  },
  {
   "cell_type": "code",
   "execution_count": 213,
   "metadata": {},
   "outputs": [],
   "source": [
    "#testArray=test_case.iloc[:,:5].to_numpy()\n",
    "#rateArray=test_case.iloc[:,4:7].to_numpy()\n",
    "#test_case=np.concatenate((np.eye(6)[testArray[:,0]],np.eye(2)[testArray[:,1]-1],np.eye(8)[testArray[:,2]],np.eye(8)[testArray[:,3]],testArray[:,4].reshape(testArray[:,4].size,1)),axis=1)\n",
    "int_prediction=regressor.predict(test_case)\n",
    "flt_prediction=regressor1.predict(rate_case)"
   ]
  },
  {
   "cell_type": "code",
   "execution_count": 214,
   "metadata": {},
   "outputs": [
    {
     "data": {
      "text/plain": [
       "array([48.2])"
      ]
     },
     "execution_count": 214,
     "metadata": {},
     "output_type": "execute_result"
    }
   ],
   "source": [
    "flt_prediction\n"
   ]
  },
  {
   "cell_type": "code",
   "execution_count": 215,
   "metadata": {},
   "outputs": [
    {
     "data": {
      "text/plain": [
       "array([42.22015904])"
      ]
     },
     "execution_count": 215,
     "metadata": {},
     "output_type": "execute_result"
    }
   ],
   "source": [
    "int_prediction"
   ]
  },
  {
   "cell_type": "code",
   "execution_count": 216,
   "metadata": {},
   "outputs": [],
   "source": [
    "\n",
    "prediction=(flt_prediction+int_prediction)/2"
   ]
  },
  {
   "cell_type": "code",
   "execution_count": null,
   "metadata": {},
   "outputs": [],
   "source": []
  },
  {
   "cell_type": "code",
   "execution_count": 217,
   "metadata": {},
   "outputs": [
    {
     "data": {
      "text/plain": [
       "45"
      ]
     },
     "execution_count": 217,
     "metadata": {},
     "output_type": "execute_result"
    }
   ],
   "source": [
    "int(prediction)"
   ]
  },
  {
   "cell_type": "code",
   "execution_count": 206,
   "metadata": {},
   "outputs": [
    {
     "data": {
      "text/plain": [
       "(1, 30)"
      ]
     },
     "execution_count": 206,
     "metadata": {},
     "output_type": "execute_result"
    }
   ],
   "source": [
    "test_case.shape"
   ]
  },
  {
   "cell_type": "code",
   "execution_count": 207,
   "metadata": {},
   "outputs": [
    {
     "data": {
      "text/plain": [
       "array([47.72461713])"
      ]
     },
     "execution_count": 207,
     "metadata": {},
     "output_type": "execute_result"
    }
   ],
   "source": [
    "regressor.predict(test_case)"
   ]
  },
  {
   "cell_type": "markdown",
   "metadata": {},
   "source": [
    "# Running Test"
   ]
  },
  {
   "cell_type": "code",
   "execution_count": 1,
   "metadata": {},
   "outputs": [
    {
     "name": "stdout",
     "output_type": "stream",
     "text": [
      "C:\\Users\\user\\Documents\\Hackathon\n"
     ]
    },
    {
     "data": {
      "text/plain": [
       "'C:\\\\Users\\\\user\\\\Documents\\\\Hackathon'"
      ]
     },
     "execution_count": 1,
     "metadata": {},
     "output_type": "execute_result"
    }
   ],
   "source": [
    "%pwd\n",
    "%cd C:\\Users\\user\\Documents\\Hackathon\n",
    "%pwd"
   ]
  },
  {
   "cell_type": "code",
   "execution_count": 28,
   "metadata": {},
   "outputs": [
    {
     "name": "stdout",
     "output_type": "stream",
     "text": [
      "C:\\Users\\user\\Documents\\Hackathon\\Submission format - Copy\\Match29\n"
     ]
    },
    {
     "data": {
      "text/plain": [
       "'C:\\\\Users\\\\user\\\\Documents\\\\Hackathon\\\\Submission format - Copy\\\\Match29'"
      ]
     },
     "execution_count": 28,
     "metadata": {},
     "output_type": "execute_result"
    }
   ],
   "source": [
    "%pwd\n",
    "%cd C:\\Users\\user\\Documents\\Hackathon\\Submission format - Copy\\Match29\n",
    "%pwd"
   ]
  },
  {
   "cell_type": "code",
   "execution_count": 9,
   "metadata": {},
   "outputs": [
    {
     "name": "stdout",
     "output_type": "stream",
     "text": [
      "C:\\Users\\user\\Documents\\Hackathon\\Submission format - Copy\n"
     ]
    },
    {
     "data": {
      "text/plain": [
       "'C:\\\\Users\\\\user\\\\Documents\\\\Hackathon\\\\Submission format - Copy'"
      ]
     },
     "execution_count": 9,
     "metadata": {},
     "output_type": "execute_result"
    }
   ],
   "source": [
    "%pwd\n",
    "%cd C:\\Users\\user\\Documents\\Hackathon\\Submission format - Copy\n",
    "%pwd"
   ]
  },
  {
   "cell_type": "code",
   "execution_count": 8,
   "metadata": {},
   "outputs": [],
   "source": [
    "# %load predictor.py\n",
    "### Custom definitions and classes if any ###\n",
    "import pandas as pd\n",
    "import numpy as np\n",
    "import joblib\n",
    "\n",
    "def predictRuns(testInput):\n",
    "    prediction = 0\n",
    "    ### Your Code Here ###\n",
    "    \n",
    "    with open('regression_model.joblib','rb') as f:\n",
    "        regressor=joblib.load(f)\n",
    "    with open('regression_model1.joblib','rb') as f:\n",
    "        regressor1=joblib.load(f)\n",
    "    with open('venue_encoder.joblib','rb') as f:\n",
    "        venue_encoder=joblib.load(f)\n",
    "    with open('team_encoder.joblib','rb') as f:\n",
    "        team_encoder=joblib.load(f) \n",
    "        \n",
    "    #read test data\n",
    "    test_case=pd.read_csv(testInput)\n",
    "    \n",
    "    test_case['Wicket']=test_case['batsmen'].str.count(',')-1\n",
    "    test_case['venue']=venue_encoder.transform(test_case['venue'])\n",
    "    test_case['bowling_team']=team_encoder.transform(test_case['bowling_team'])\n",
    "    test_case['batting_team']=team_encoder.transform(test_case['batting_team'])\n",
    "    \n",
    "    #Load Strike rate table\n",
    "    str_rate=pd.read_csv('strike_rate.csv')\n",
    "    str_rate=str_rate.set_index('Name')\n",
    "    \n",
    "    #Appending averaage batsmen strike rate\n",
    "    batsmen=test_case['batsmen'].str.split(pat=',',expand=True)\n",
    "    n=0\n",
    "    rate=0\n",
    "    for i in range(len(batsmen.columns)):\n",
    "        if batsmen.iloc[0,i] in str_rate.index:\n",
    "            n=n+1\n",
    "            rate=rate+str_rate.loc[batsmen.iloc[0,i],'str_rate'] \n",
    "    if(n>0):\n",
    "        rate=rate/n \n",
    "        test_case['str_rate']=rate\n",
    "    else:\n",
    "        test_case['str_rate']=str_rate.str_rate.mean() \n",
    "        \n",
    "    #Load Economy rate table\n",
    "    economy=pd.read_csv('economy_rate.csv')\n",
    "    economy=economy.set_index('bowler')\n",
    "    \n",
    "    #Append average economy of bowlers\n",
    "    bowler=test_case['bowlers'].str.split(pat=',',expand=True)\n",
    "    n=0\n",
    "    rate=0\n",
    "    for i in range(len(bowler.columns)):\n",
    "        if bowler.iloc[0,i] in economy.index:\n",
    "            n=n+1\n",
    "            rate=rate+economy.loc[bowler.iloc[0,i],'ec_rate']\n",
    "    if(n>0):\n",
    "        rate=rate/n\n",
    "        test_case['ec_rate']=rate\n",
    "    else:\n",
    "        test_case['ec_rate']=economy.ec_rate.mean()\n",
    "    \n",
    "    test_case=test_case[['venue','innings','batting_team','bowling_team','Wicket','ec_rate','str_rate']]\n",
    "    \n",
    "    \n",
    "    testArray=test_case.iloc[:,:5].to_numpy()\n",
    "    rateArray=test_case.iloc[:,4:7].to_numpy()\n",
    "    \n",
    "    #Prediction with label encoders\n",
    "    test_case=np.concatenate((np.eye(6)[testArray[:,0]],np.eye(2)[testArray[:,1]-1],np.eye(8)[testArray[:,2]],np.eye(8)[testArray[:,3]],testArray[:,4].reshape(testArray[:,4].size,1)),axis=1)\n",
    "    int_prediction=regressor.predict(test_case)\n",
    "    \n",
    "    #Prediction with Strike rate and economy rate\n",
    "    flt_prediction=regressor1.predict(rateArray)\n",
    "    prediction=(flt_prediction+int_prediction)/2\n",
    "    \n",
    "    return int(prediction)\n",
    "\n",
    "\n",
    "\n"
   ]
  },
  {
   "cell_type": "code",
   "execution_count": 37,
   "metadata": {},
   "outputs": [
    {
     "name": "stdout",
     "output_type": "stream",
     "text": [
      "Predicted Runs:  53\n"
     ]
    }
   ],
   "source": [
    "# %load main.py\n",
    "### Imports ###\n",
    "# add imports - classes and defs\n",
    "from predictor import predictRuns\n",
    "\n",
    "\n",
    "\"\"\"\n",
    "sys.argv[1] is the input test file name given as command line arguments\n",
    "\n",
    "\"\"\"\n",
    "runs = predictRuns('May-02-inn2-match2.csv')\n",
    "print(\"Predicted Runs: \", runs)"
   ]
  },
  {
   "cell_type": "code",
   "execution_count": 10,
   "metadata": {},
   "outputs": [
    {
     "ename": "SyntaxError",
     "evalue": "invalid syntax (<ipython-input-10-f1788c443837>, line 3)",
     "output_type": "error",
     "traceback": [
      "\u001b[1;36m  File \u001b[1;32m\"<ipython-input-10-f1788c443837>\"\u001b[1;36m, line \u001b[1;32m3\u001b[0m\n\u001b[1;33m    Mohammed Shami,A Singh,MC Henriques,Arshdeep Singh,DJ Hooda\u001b[0m\n\u001b[1;37m             ^\u001b[0m\n\u001b[1;31mSyntaxError\u001b[0m\u001b[1;31m:\u001b[0m invalid syntax\n"
     ]
    }
   ],
   "source": [
    "runs\n",
    "test_case\n",
    "Mohammed Shami,A Singh,MC Henriques,Arshdeep Singh,DJ Hooda\n",
    "D Padikkal,V Kohli,GJ Maxwell,RM Patidar,Washington Sundar\n"
   ]
  },
  {
   "cell_type": "code",
   "execution_count": 972,
   "metadata": {},
   "outputs": [
    {
     "data": {
      "text/plain": [
       "0"
      ]
     },
     "execution_count": 972,
     "metadata": {},
     "output_type": "execute_result"
    }
   ],
   "source": [
    "from predictor import predictRuns\n",
    "predictRuns('inputFile.csv')"
   ]
  },
  {
   "cell_type": "code",
   "execution_count": 7,
   "metadata": {},
   "outputs": [
    {
     "name": "stdout",
     "output_type": "stream",
     "text": [
      "C:\\Users\\user\\Documents\\Hackathon\n"
     ]
    }
   ],
   "source": [
    "%cd C:\\Users\\user\\Documents\\Hackathon"
   ]
  },
  {
   "cell_type": "code",
   "execution_count": null,
   "metadata": {},
   "outputs": [],
   "source": []
  }
 ],
 "metadata": {
  "kernelspec": {
   "display_name": "Python 3",
   "language": "python",
   "name": "python3"
  },
  "language_info": {
   "codemirror_mode": {
    "name": "ipython",
    "version": 3
   },
   "file_extension": ".py",
   "mimetype": "text/x-python",
   "name": "python",
   "nbconvert_exporter": "python",
   "pygments_lexer": "ipython3",
   "version": "3.8.5"
  }
 },
 "nbformat": 4,
 "nbformat_minor": 4
}
